{
 "cells": [
  {
   "cell_type": "code",
   "execution_count": 5,
   "metadata": {},
   "outputs": [
    {
     "name": "stdout",
     "output_type": "stream",
     "text": [
      "{'1_home_page': 90400, '2_search_page': 45200, '3_payment_page': 6030, '4_payment_confirmation_page': 452}\n"
     ]
    }
   ],
   "source": [
    "import csv\n",
    "# name.csv ниже нужно заменить на название csv файла, который вы хотите открыть\n",
    "file_path = 'click_stream.csv'\n",
    "with open(file_path, mode='r') as csv_file: # открываем файл\n",
    "    csv_reader = csv.DictReader(csv_file, fieldnames=['ID','page','date']) # читаем файл\n",
    "    funnel = {}\n",
    "    \n",
    "    for row in csv_reader: #перебираем по одной строчке нашего файла\n",
    "      page = list(row.items())[1][1] #так можно получить первый (не нулевой) элемент строки -\n",
    "      # для нашего датасета это строка, указывающая, на какой страничке было совершено действие\n",
    "      if page not in funnel:\n",
    "        funnel[page] = 1\n",
    "      else:\n",
    "        funnel[page] += 1\n",
    "\n",
    "      #ваш код для расчета воронки\n",
    "print(funnel)"
   ]
  },
  {
   "cell_type": "code",
   "execution_count": 14,
   "metadata": {},
   "outputs": [
    {
     "name": "stdout",
     "output_type": "stream",
     "text": [
      "{'02': {'1_home_page': 22600, '2_search_page': 13687, '3_payment_page': 2412, '4_payment_confirmation_page': 173}, '03': {'1_home_page': 22600, '2_search_page': 8879, '3_payment_page': 631, '4_payment_confirmation_page': 44}, '01': {'1_home_page': 22600, '2_search_page': 13554, '3_payment_page': 2390, '4_payment_confirmation_page': 189}, '04': {'1_home_page': 22600, '2_search_page': 9080, '3_payment_page': 597, '4_payment_confirmation_page': 46}}\n"
     ]
    }
   ],
   "source": [
    "import csv\n",
    "# name.csv ниже нужно заменить на название csv файла, который вы хотите открыть\n",
    "file_path = 'click_stream.csv'\n",
    "with open(file_path, mode='r') as csv_file: # открываем файл\n",
    "    csv_reader = csv.DictReader(csv_file, fieldnames=['ID','page','date']) # читаем файл\n",
    "    funnel = {}\n",
    "    \n",
    "    for row in csv_reader: #перебираем по одной строчке нашего файла\n",
    "      page = list(row.items())[1][1] #так можно получить первый (не нулевой) элемент строки -\n",
    "      # для нашего датасета это строка, указывающая, на какой страничке было совершено действие\n",
    "      date = list(row.items())[2][1][5:7]\n",
    "      if date not in funnel:\n",
    "        funnel[date] = {}   \n",
    "    \n",
    "      if page not in funnel[date]:\n",
    "        funnel[date][page] = 1\n",
    "      else:\n",
    "        funnel[date][page] += 1\n",
    "\n",
    "      #ваш код для расчета воронки\n",
    "print(funnel)"
   ]
  },
  {
   "cell_type": "code",
   "execution_count": 19,
   "metadata": {},
   "outputs": [
    {
     "name": "stdout",
     "output_type": "stream",
     "text": [
      "{'02': {'Desktop': {'1_home_page': 15050, '2_search_page': 7632, '3_payment_page': 1191, '4_payment_confirmation_page': 54}, 'Mobile': {'1_home_page': 7550, '2_search_page': 6055, '3_payment_page': 1221, '4_payment_confirmation_page': 119}}, '03': {'Desktop': {'1_home_page': 15050, '2_search_page': 7370, '3_payment_page': 296, '4_payment_confirmation_page': 14}, 'Mobile': {'1_home_page': 7550, '2_search_page': 1509, '3_payment_page': 335, '4_payment_confirmation_page': 30}}, '01': {'Desktop': {'1_home_page': 15050, '2_search_page': 7529, '3_payment_page': 1221, '4_payment_confirmation_page': 60}, 'Mobile': {'1_home_page': 7550, '2_search_page': 6025, '3_payment_page': 1169, '4_payment_confirmation_page': 129}}, '04': {'Mobile': {'1_home_page': 7550, '2_search_page': 1511, '3_payment_page': 295, '4_payment_confirmation_page': 24}, 'Desktop': {'1_home_page': 15050, '2_search_page': 7569, '3_payment_page': 302, '4_payment_confirmation_page': 22}}}\n"
     ]
    }
   ],
   "source": [
    "import csv\n",
    "# name.csv ниже нужно заменить на название csv файла, который вы хотите открыть\n",
    "file_path = 'click_stream2.csv'\n",
    "with open(file_path, mode='r') as csv_file: # открываем файл\n",
    "    csv_reader = csv.DictReader(csv_file, fieldnames=['ID','page','date']) # читаем файл\n",
    "    funnel = {}\n",
    "    \n",
    "    for row in csv_reader: #перебираем по одной строчке нашего файла\n",
    "      page = list(row.items())[1][1] #так можно получить первый (не нулевой) элемент строки -\n",
    "      # для нашего датасета это строка, указывающая, на какой страничке было совершено действие\n",
    "      date = list(row.items())[2][1][5:7]\n",
    "      device = list(row.items())[3][1][0]\n",
    "      if date not in funnel:\n",
    "        funnel[date] = {}   \n",
    "      if device not in funnel[date]:\n",
    "        funnel[date][device] = {}\n",
    "      if page not in funnel[date][device]:\n",
    "        funnel[date][device][page] = 1\n",
    "      else:\n",
    "        funnel[date][device][page] += 1\n",
    "\n",
    "      #ваш код для расчета воронки\n",
    "print(funnel)"
   ]
  },
  {
   "cell_type": "code",
   "execution_count": 25,
   "metadata": {},
   "outputs": [
    {
     "name": "stdout",
     "output_type": "stream",
     "text": [
      "{'Female': {'Desktop': {'02': {'1_home_page': 7448, '2_search_page': 3800, '3_payment_page': 605, '4_payment_confirmation_page': 26}, '03': {'1_home_page': 7512, '2_search_page': 3707, '3_payment_page': 162, '4_payment_confirmation_page': 6}, '01': {'1_home_page': 7546, '2_search_page': 3851, '3_payment_page': 625, '4_payment_confirmation_page': 33}, '04': {'1_home_page': 7491, '2_search_page': 3733, '3_payment_page': 138, '4_payment_confirmation_page': 9}}, 'Mobile': {'04': {'1_home_page': 3721, '2_search_page': 756, '3_payment_page': 147, '4_payment_confirmation_page': 11}, '03': {'1_home_page': 3738, '2_search_page': 747, '3_payment_page': 175, '4_payment_confirmation_page': 20}, '02': {'1_home_page': 3751, '2_search_page': 3020, '3_payment_page': 630, '4_payment_confirmation_page': 60}, '01': {'1_home_page': 3868, '2_search_page': 3062, '3_payment_page': 618, '4_payment_confirmation_page': 76}}}, 'Male': {'Desktop': {'02': {'1_home_page': 7602, '2_search_page': 3832, '3_payment_page': 586, '4_payment_confirmation_page': 28}, '03': {'1_home_page': 7538, '2_search_page': 3663, '3_payment_page': 134, '4_payment_confirmation_page': 8}, '04': {'1_home_page': 7559, '2_search_page': 3836, '3_payment_page': 164, '4_payment_confirmation_page': 13}, '01': {'1_home_page': 7504, '2_search_page': 3678, '3_payment_page': 596, '4_payment_confirmation_page': 27}}, 'Mobile': {'01': {'1_home_page': 3682, '2_search_page': 2963, '3_payment_page': 551, '4_payment_confirmation_page': 53}, '04': {'1_home_page': 3829, '2_search_page': 755, '3_payment_page': 148, '4_payment_confirmation_page': 13}, '03': {'1_home_page': 3812, '2_search_page': 762, '3_payment_page': 160, '4_payment_confirmation_page': 10}, '02': {'1_home_page': 3799, '2_search_page': 3035, '3_payment_page': 591, '4_payment_confirmation_page': 59}}}}\n"
     ]
    }
   ],
   "source": [
    "import csv\n",
    "# name.csv ниже нужно заменить на название csv файла, который вы хотите открыть\n",
    "file_path = 'click_stream3.csv'\n",
    "with open(file_path, mode='r') as csv_file: # открываем файл\n",
    "    csv_reader = csv.DictReader(csv_file, fieldnames=['ID','page','date']) # читаем файл\n",
    "    funnel = {}\n",
    "    \n",
    "    for row in csv_reader: #перебираем по одной строчке нашего файла\n",
    "      page = list(row.items())[1][1] #так можно получить первый (не нулевой) элемент строки -\n",
    "      # для нашего датасета это строка, указывающая, на какой страничке было совершено действие\n",
    "      date = list(row.items())[2][1][5:7]\n",
    "      device = list(row.items())[3][1][0]\n",
    "      gender = list(row.items())[3][1][1]\n",
    "      if gender not in funnel:\n",
    "        funnel[gender] = {}   \n",
    "      if device not in funnel[gender]:\n",
    "        funnel[gender][device] = {}   \n",
    "      if date not in funnel[gender][device]:\n",
    "        funnel[gender][device][date] = {}\n",
    "      if page not in funnel[gender][device][date]:\n",
    "        funnel[gender][device][date][page] = 1\n",
    "      else:\n",
    "        funnel[gender][device][date][page] += 1\n",
    "\n",
    "      #ваш код для расчета воронки\n",
    "print(funnel)"
   ]
  }
 ],
 "metadata": {
  "kernelspec": {
   "display_name": "Python 3",
   "language": "python",
   "name": "python3"
  },
  "language_info": {
   "codemirror_mode": {
    "name": "ipython",
    "version": 3
   },
   "file_extension": ".py",
   "mimetype": "text/x-python",
   "name": "python",
   "nbconvert_exporter": "python",
   "pygments_lexer": "ipython3",
   "version": "3.8.3"
  }
 },
 "nbformat": 4,
 "nbformat_minor": 4
}
