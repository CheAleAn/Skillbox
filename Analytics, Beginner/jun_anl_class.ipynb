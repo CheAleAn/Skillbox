{
 "cells": [
  {
   "cell_type": "markdown",
   "metadata": {
    "colab_type": "text",
    "id": "RbR5OTe50Za4"
   },
   "source": [
    "# Классы\n",
    "## Домашнее задание"
   ]
  },
  {
   "cell_type": "markdown",
   "metadata": {
    "colab_type": "text",
    "id": "Xh_DBCdu0Za5"
   },
   "source": [
    "### Вопросы по лекциям\n",
    "\n",
    "#### 1.\n",
    "\n",
    "Напишите название функции, которая является конструктором класса."
   ]
  },
  {
   "cell_type": "markdown",
   "metadata": {
    "colab_type": "text",
    "id": "8-Tj4AMg0Za6"
   },
   "source": [
    "**Ответ:**\n",
    "__init__()"
   ]
  },
  {
   "cell_type": "markdown",
   "metadata": {
    "colab_type": "text",
    "id": "lf14yx330Za7"
   },
   "source": [
    "#### 2.\n",
    "\n",
    "На что указывает переменная `self`?"
   ]
  },
  {
   "cell_type": "markdown",
   "metadata": {
    "colab_type": "text",
    "id": "wI-0FWlF0Za8"
   },
   "source": [
    "**Ответ:**\n",
    "Что этот аттрибут относится к объекту класса и только к нему"
   ]
  },
  {
   "cell_type": "markdown",
   "metadata": {
    "colab_type": "text",
    "id": "j_8_O_nl0Za8"
   },
   "source": [
    "#### 3.\n",
    "С помощью какой функции можно проверить, что некая строка является именем одного из атрибутов объекта?"
   ]
  },
  {
   "cell_type": "markdown",
   "metadata": {
    "colab_type": "text",
    "id": "5h8ASTrV0Za9"
   },
   "source": [
    "**Ответ:**\n",
    "hasattr()"
   ]
  },
  {
   "cell_type": "markdown",
   "metadata": {
    "colab_type": "text",
    "id": "G104VWgj0Za-"
   },
   "source": [
    "#### 4.\n",
    "Когда вызывается метод `__del__`? (относительно события удаления объекта)"
   ]
  },
  {
   "cell_type": "markdown",
   "metadata": {
    "colab_type": "text",
    "id": "Ukzoyxkn0Za-"
   },
   "source": [
    "**Ответ:**\n",
    "Когда уничтожается ссылка (последняя) на экземпляр (полное удаление объекта)"
   ]
  },
  {
   "cell_type": "markdown",
   "metadata": {
    "colab_type": "text",
    "id": "MkF-HyBM0ZbA"
   },
   "source": [
    "#### 5.\n",
    "Верно ли, что атрибут класса перекрывает атрибут объекта?"
   ]
  },
  {
   "cell_type": "markdown",
   "metadata": {
    "colab_type": "text",
    "id": "o7B52kVt0ZbC"
   },
   "source": [
    "**Ответ:**\n",
    "Нет, наоборот"
   ]
  },
  {
   "cell_type": "markdown",
   "metadata": {
    "colab_type": "text",
    "id": "kSwZWV2B0ZbC"
   },
   "source": [
    "#### 6.\n",
    "Можно ли атрибуты базового класса вызывать в дочернем классе? Если да, то напишите, нет ли исклчений?"
   ]
  },
  {
   "cell_type": "markdown",
   "metadata": {
    "colab_type": "text",
    "id": "6i74Koih0ZbE"
   },
   "source": [
    "**Ответ:**\n",
    "Можно.\n",
    "Но мы можем их переопределить кроме приватных атрибутов"
   ]
  },
  {
   "cell_type": "markdown",
   "metadata": {
    "colab_type": "text",
    "id": "tl1St2O20ZbE"
   },
   "source": [
    "#### 7.\n",
    "Объясните своими словами для чего нужен метод `super`."
   ]
  },
  {
   "cell_type": "markdown",
   "metadata": {
    "colab_type": "text",
    "id": "rg3u1PoY0ZbF"
   },
   "source": [
    "**Ответ:**\n",
    "наследование методов от класса-родителя в дочерних классах"
   ]
  },
  {
   "cell_type": "markdown",
   "metadata": {
    "colab_type": "text",
    "id": "5AiJn8ut0ZbG"
   },
   "source": [
    "### Практика\n",
    "\n",
    "1. Напишите класс `Fraction` для работы с дробями. Пусть дробь в нашем классе предстает в виде `числитель/знаменатель`. Дробное число должно создаваться по запросу `Fraction(a, b)`, где `a` – это числитель, а `b` – знаменатель дроби. \n",
    "2. Добавьте возможность сложения (сложения через оператор сложения) для дроби. Предполагается, что операция сложения может проводиться как только между дробями, так и между дробью и целым числом. Результат операции должен быть представлен в виде дроби.\n",
    "3. Добавьте возможность взятия разности (вычитания через оператор вычитания) для дробей. Предполагается, что операция вычитания может проводиться как только для двух дробей, так и для дроби и целого числа. Результат операции должен быть представлен в виде дроби.\n",
    "4. Добавьте возможность умножения (умножения через оператор умножения) для дробей. Предполагается, что операция умножения может проводиться как только для двух дробей, так и для дроби и целого числа. Результат операции должен быть представлен в виде дроби.\n",
    "5. Добавьте возможность приведения дроби к целому числу через стандартную функцию `int()`.\n",
    "6. Добавьте возможность приведения дроби к числу с плавающей точкой через стандартную функцию `float()`.\n",
    "7. Создайте дочерний класс `OperationsOnFraction` и добавьте туда собственные методы `getint` и `getfloat`, которые будут возвращать целую часть дроби и представление дроби в виде числа с плавающей точкой соответственно. \n",
    " "
   ]
  },
  {
   "cell_type": "code",
   "execution_count": 11,
   "metadata": {
    "colab": {},
    "colab_type": "code",
    "id": "ru3BJ52J0ZbG"
   },
   "outputs": [
    {
     "name": "stdout",
     "output_type": "stream",
     "text": [
      "3/4\n",
      "1/8\n",
      "4\n",
      "9/2\n",
      "add\n",
      "11/4\n",
      "11/4\n",
      "7/8\n",
      "sub\n",
      "-5/4\n",
      "5/4\n",
      "5/8\n",
      "mul\n",
      "3/2\n",
      "3/32\n",
      "4\n",
      "0.75\n",
      "4\n",
      "4.5\n"
     ]
    }
   ],
   "source": [
    "class Fraction():\n",
    "    def __init__(self, a, b=1):\n",
    "        self.a = a\n",
    "        self.b = b\n",
    "        \n",
    "    def __str__(self): # чтобы отображался симпатично\n",
    "        #убирает общий множитель\n",
    "        #можно закомментировать до return, тогда будут дроби типа 32/4\n",
    "        for i in range(min(abs(self.a),abs(self.b)),1,-1): \n",
    "            if (not self.a%i) and (not self.b%i):\n",
    "                self.a = int(self.a/i)\n",
    "                self.b = int(self.b/i)\n",
    "        return f'{self.a}/{self.b}' if self.b != 1 else f'{self.a}'\n",
    "        \n",
    "    def __add__(self, other):\n",
    "        if isinstance(other, int):\n",
    "            return Fraction(self.a + self.b * other, self.b)\n",
    "        elif isinstance(other, Fraction):\n",
    "            return Fraction(self.a*other.b + self.b*other.a, self.b*other.b)\n",
    "        \n",
    "    def __radd__(self, other):\n",
    "        return self.__add__(other)\n",
    "        \n",
    "    def __sub__(self, other):\n",
    "        if isinstance(other, int):\n",
    "            return Fraction(self.a - self.b * other, self.b)\n",
    "        elif isinstance(other, Fraction):\n",
    "            return Fraction(self.a*other.b - self.b*other.a, self.b*other.b)\n",
    "        \n",
    "    def __rsub__(self, other):\n",
    "        return (-1) * self.__sub__(other)\n",
    "        \n",
    "    def __mul__(self, other):\n",
    "        if isinstance(other, int):\n",
    "            return Fraction(self.a * other, self.b)\n",
    "        elif isinstance(other, Fraction):\n",
    "            return Fraction(self.a*other.a, self.b*other.b)\n",
    "        \n",
    "    def __rmul__(self, other):\n",
    "        return self.__mul__(other)\n",
    "    \n",
    "    def __int__(self):\n",
    "        if self.a%self.b == 0:\n",
    "            return int(self.a/self.b)\n",
    "     \n",
    "    def __float__(self):\n",
    "        return float(self.a/self.b)\n",
    "        \n",
    "class OperationsOnFraction(Fraction):\n",
    "    def __init__(self, a, b=1):\n",
    "        super().__init__(a, b)\n",
    "        \n",
    "    def getint(self):\n",
    "        return int(self.a//self.b)\n",
    "    \n",
    "    def getfloat(self):\n",
    "        return float(self.a/self.b)\n",
    "        \n",
    "        \n",
    "a = Fraction(3,4)\n",
    "b = Fraction(1,8)\n",
    "c = Fraction(32,8)\n",
    "d = OperationsOnFraction(36,8)\n",
    "print(a)\n",
    "print(b)\n",
    "print(c)\n",
    "print(d)\n",
    "print('add')\n",
    "print(a+2)\n",
    "print(2+a)\n",
    "print(a+b)\n",
    "print('sub')\n",
    "print(a-2)\n",
    "print(2-a)\n",
    "print(a-b)\n",
    "print('mul')\n",
    "print(a*2)\n",
    "print(a*b)\n",
    "print(int(c))\n",
    "print(float(a))\n",
    "print(d.getint())\n",
    "print(d.getfloat())"
   ]
  }
 ],
 "metadata": {
  "colab": {
   "collapsed_sections": [],
   "name": "jun_anl_class.ipynb",
   "provenance": []
  },
  "kernelspec": {
   "display_name": "Python 3",
   "language": "python",
   "name": "python3"
  },
  "language_info": {
   "codemirror_mode": {
    "name": "ipython",
    "version": 3
   },
   "file_extension": ".py",
   "mimetype": "text/x-python",
   "name": "python",
   "nbconvert_exporter": "python",
   "pygments_lexer": "ipython3",
   "version": "3.8.3"
  }
 },
 "nbformat": 4,
 "nbformat_minor": 1
}
