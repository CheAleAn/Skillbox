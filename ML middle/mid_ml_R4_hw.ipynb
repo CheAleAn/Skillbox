{
 "cells": [
  {
   "cell_type": "markdown",
   "metadata": {
    "id": "HQNuj9BzTI9_"
   },
   "source": [
    "# Домашнее задание по обучению сверточной сети\n",
    "\n",
    "В этом задании вы сами (с небольшой помощью) обучите нейронную сеть для классификации кошек и собак! \n",
    "\n",
    "Ниже приводится код для считывания данных аналогичный прошлому уроку, поэтому можете его просто запустить.\n",
    "\n",
    "*Не забудьте добавить в Runtime GPU для ускорения вычислений*."
   ]
  },
  {
   "cell_type": "code",
   "execution_count": null,
   "metadata": {
    "id": "AuXYkHfOsmBW"
   },
   "outputs": [],
   "source": [
    "import matplotlib.pyplot as plt\n",
    "import numpy as np\n",
    "import os\n",
    "from pathlib import Path"
   ]
  },
  {
   "cell_type": "code",
   "execution_count": null,
   "metadata": {
    "id": "gL5kcbXTsw_G"
   },
   "outputs": [],
   "source": [
    "%tensorflow_version 1.x\n",
    "import tensorflow as tf\n",
    "from tensorflow.keras.preprocessing.image import ImageDataGenerator"
   ]
  },
  {
   "cell_type": "code",
   "execution_count": null,
   "metadata": {
    "id": "ouq0gB62sy11"
   },
   "outputs": [],
   "source": [
    "_URL = 'https://storage.googleapis.com/mledu-datasets/cats_and_dogs_filtered.zip'\n",
    "zip_dir = tf.keras.utils.get_file('cats_and_dogs_filterted.zip', origin=_URL, extract=True)"
   ]
  },
  {
   "cell_type": "code",
   "execution_count": null,
   "metadata": {
    "id": "H4XIxe_btN4j"
   },
   "outputs": [],
   "source": [
    "! ls /root/.keras/datasets/cats_and_dogs_filtered"
   ]
  },
  {
   "cell_type": "code",
   "execution_count": null,
   "metadata": {
    "id": "sJg-w1hxtJXC"
   },
   "outputs": [],
   "source": [
    "base_dir = Path(zip_dir).parent / \"cats_and_dogs_filtered\"\n",
    "train_dir = base_dir / 'train'\n",
    "validation_dir = base_dir / 'validation'\n",
    "\n",
    "train_cats_dir = train_dir / 'cats'\n",
    "train_dogs_dir = train_dir / 'dogs'\n",
    "validation_cats_dir = validation_dir / 'cats'\n",
    "validation_dogs_dir = validation_dir / 'dogs'"
   ]
  },
  {
   "cell_type": "code",
   "execution_count": null,
   "metadata": {
    "id": "AfuROvM1tTy-"
   },
   "outputs": [],
   "source": [
    "num_cats_tr = len(list(train_cats_dir.glob(\"*\")))\n",
    "num_dogs_tr = len(list(train_dogs_dir.glob(\"*\")))\n",
    "\n",
    "num_cats_val = len(list(validation_cats_dir.glob(\"*\")))\n",
    "num_dogs_val = len(list(validation_dogs_dir.glob(\"*\")))\n",
    "\n",
    "total_train = num_cats_tr + num_dogs_tr\n",
    "total_val = num_cats_val + num_dogs_val"
   ]
  },
  {
   "cell_type": "code",
   "execution_count": null,
   "metadata": {
    "id": "zYYX1Dqft9dK"
   },
   "outputs": [],
   "source": [
    "print('total training cat images:', num_cats_tr)\n",
    "print('total training dog images:', num_dogs_tr)\n",
    "\n",
    "print('total validation cat images:', num_cats_val)\n",
    "print('total validation dog images:', num_dogs_val)\n",
    "print(\"--\")\n",
    "print(\"Total training images:\", total_train)\n",
    "print(\"Total validation images:\", total_val)"
   ]
  },
  {
   "cell_type": "code",
   "execution_count": null,
   "metadata": {
    "id": "4d-pWgKMuIEF"
   },
   "outputs": [],
   "source": [
    "BATCH_SIZE = 100\n",
    "IMG_SHAPE  = 150 "
   ]
  },
  {
   "cell_type": "code",
   "execution_count": null,
   "metadata": {
    "id": "EAYIx8Feuj8e"
   },
   "outputs": [],
   "source": [
    "train_image_generator      = ImageDataGenerator(rescale=1./255)  \n",
    "validation_image_generator = ImageDataGenerator(rescale=1./255)  "
   ]
  },
  {
   "cell_type": "code",
   "execution_count": null,
   "metadata": {
    "id": "gj2Wbr6ium1j"
   },
   "outputs": [],
   "source": [
    "train_data_gen = train_image_generator.flow_from_directory(batch_size=BATCH_SIZE,\n",
    "                                                           directory=train_dir,\n",
    "                                                           shuffle=True,\n",
    "                                                           target_size=(IMG_SHAPE,IMG_SHAPE), \n",
    "                                                           class_mode='binary')\n",
    "\n",
    "val_data_gen = validation_image_generator.flow_from_directory(batch_size=BATCH_SIZE,\n",
    "                                                              directory=validation_dir,\n",
    "                                                              shuffle=False,\n",
    "                                                              target_size=(IMG_SHAPE,IMG_SHAPE), \n",
    "                                                              class_mode='binary')"
   ]
  },
  {
   "cell_type": "code",
   "execution_count": null,
   "metadata": {
    "id": "yECJStg3ux26"
   },
   "outputs": [],
   "source": [
    "sample_training_images, sample_labels = next(train_data_gen) "
   ]
  },
  {
   "cell_type": "code",
   "execution_count": null,
   "metadata": {
    "id": "r0iuLc59_0gN"
   },
   "outputs": [],
   "source": [
    "_val_images, _val_labels = next(val_data_gen)\n",
    "next(val_data_gen)[1]"
   ]
  },
  {
   "cell_type": "code",
   "execution_count": null,
   "metadata": {
    "id": "nLpdzppNu0hY"
   },
   "outputs": [],
   "source": [
    "def show_catsdogs(images, labels, predicted_labels=None):\n",
    "    names = {0: \"Cat\", 1: \"Dog\"}\n",
    "    plt.figure(figsize=(10,10))\n",
    "    for i in range(16):\n",
    "        plt.subplot(4,4, i+1)\n",
    "        plt.xticks([])\n",
    "        plt.yticks([])\n",
    "        plt.grid(False)\n",
    "        plt.imshow(images[i], cmap=plt.cm.gray)\n",
    "        if predicted_labels is not None:\n",
    "            title_obj = plt.title(f\"Real: {names[labels[i]]}. Pred: {names[predicted_labels[i]]}\")\n",
    "            if labels[i] != predicted_labels[i]:\n",
    "                plt.setp(title_obj, color='r')\n",
    "        else:\n",
    "            plt.title(f\"Real label: {names[labels[i]]}\")"
   ]
  },
  {
   "cell_type": "code",
   "execution_count": null,
   "metadata": {
    "id": "MoLR1LOtu9p0"
   },
   "outputs": [],
   "source": [
    "show_catsdogs(sample_training_images, sample_labels)"
   ]
  },
  {
   "cell_type": "markdown",
   "metadata": {
    "id": "zF7ghYhVTnDN"
   },
   "source": [
    "# Определение модели\n",
    "\n",
    "**Задание**\n",
    "\n",
    "Определите модель аналогично модели из урока с классификации одежды.\n",
    "\n",
    "1. Используйте сверточные слои с размером фильтра (3,3) и relu активацией. Можно оставить паддинг по умолчанию.\n",
    "2. После каждого сверточного слоя применяйте MaxPool, уменьшающий размер в два раза\n",
    "3. Увеличивайте количество фильтров в два раза после каждого пуллинга до 128, начиная с 32. Таким образом вы добывите три блока conv+pool\n",
    "4. Добавьте еще один conv+pool блок с 128 фильтрами\n",
    "5. Используйте Flatten(), чтобы превратить последний тензор в вектор\n",
    "6. Добавьте полносвязный слой на 128 признаков\n",
    "7. Добавьте выходной слой с активацией sigmoid\n",
    "\n"
   ]
  },
  {
   "cell_type": "code",
   "execution_count": null,
   "metadata": {
    "id": "hZpzhVstvDzl"
   },
   "outputs": [],
   "source": [
    "model.compile(optimizer=tf.keras.optimizers.Adam(1e-3),\n",
    "              loss=tf.keras.losses.binary_crossentropy,\n",
    "              metrics=['accuracy'])"
   ]
  },
  {
   "cell_type": "code",
   "execution_count": null,
   "metadata": {
    "id": "8HEoB5a8vP2z"
   },
   "outputs": [],
   "source": [
    "\n",
    "model.summary()"
   ]
  },
  {
   "cell_type": "code",
   "execution_count": null,
   "metadata": {
    "id": "aHStDvWlvmaV"
   },
   "outputs": [],
   "source": [
    "!pip install livelossplot\n",
    "from livelossplot.tf_keras import PlotLossesCallback"
   ]
  },
  {
   "cell_type": "code",
   "execution_count": null,
   "metadata": {
    "id": "agbkJl-2vU3S"
   },
   "outputs": [],
   "source": [
    "EPOCHS = 30\n",
    "history = model.fit_generator(\n",
    "    train_data_gen,\n",
    "    epochs=EPOCHS,\n",
    "    validation_data=val_data_gen,\n",
    "    callbacks=[PlotLossesCallback()]) "
   ]
  },
  {
   "cell_type": "markdown",
   "metadata": {
    "id": "TbkNVCKnsPXO"
   },
   "source": [
    "Теперь посмотрим на предсказания нашей сети:"
   ]
  },
  {
   "cell_type": "code",
   "execution_count": null,
   "metadata": {
    "id": "54eMttXkvlp4"
   },
   "outputs": [],
   "source": [
    "shuffle_val_data_gen = validation_image_generator.flow_from_directory(batch_size=BATCH_SIZE,\n",
    "                                                              directory=validation_dir,\n",
    "                                                              shuffle=True,\n",
    "                                                              target_size=(IMG_SHAPE,IMG_SHAPE), \n",
    "                                                              class_mode='binary')\n",
    "sample_validation_images, sample_validation_labels = next(shuffle_val_data_gen)\n",
    "predicted = model.predict_classes(sample_validation_images).flatten()\n",
    "show_catsdogs(sample_validation_images, sample_validation_labels, predicted)"
   ]
  },
  {
   "cell_type": "markdown",
   "metadata": {
    "id": "iELiVq6fe6XD"
   },
   "source": [
    " # Заключение\n",
    "\n",
    " В этом задании вы получили классификатор кошек и собак, который имеет точность на валидации около 75%. Поздравляем!\n",
    "\n",
    "Но вы не могли не заметить, что точность на трейне -- 100%. Это явный признак переобучения. Сможем ли мы избавиться от переобучения? Увидим с следующем уроке."
   ]
  }
 ],
 "metadata": {
  "accelerator": "GPU",
  "colab": {
   "collapsed_sections": [],
   "name": "homework_1.ipynb",
   "provenance": []
  },
  "kernelspec": {
   "display_name": "Python 3",
   "language": "python",
   "name": "python3"
  },
  "language_info": {
   "codemirror_mode": {
    "name": "ipython",
    "version": 3
   },
   "file_extension": ".py",
   "mimetype": "text/x-python",
   "name": "python",
   "nbconvert_exporter": "python",
   "pygments_lexer": "ipython3",
   "version": "3.8.5"
  }
 },
 "nbformat": 4,
 "nbformat_minor": 1
}
