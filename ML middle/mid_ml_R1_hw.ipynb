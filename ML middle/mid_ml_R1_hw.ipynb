{
 "cells": [
  {
   "cell_type": "markdown",
   "metadata": {
    "id": "RBrlvvX-d7uP"
   },
   "source": [
    "### Вспомогательный код\n",
    "*Запустите клетку ниже перед началом работы. В него можно даже не смотреть )*"
   ]
  },
  {
   "cell_type": "code",
   "execution_count": 16,
   "metadata": {
    "id": "nwiTMW5CUuqx"
   },
   "outputs": [],
   "source": [
    "import numpy as np\n",
    "import matplotlib.pyplot as plt\n",
    "import matplotlib.cm as cm\n",
    "from matplotlib.colors import ListedColormap, LinearSegmentedColormap, Normalize\n",
    "from sklearn.metrics import accuracy_score\n",
    "\n",
    "\n",
    "%matplotlib inline\n",
    "np.random.seed(10)\n",
    "\n",
    "colors = ['red', \"blue\"]\n",
    "labels_cmap = ListedColormap(colors, 2)\n",
    "colors = [(1, 0, 0), (1, 1, 1), (0, 0, 1)]  # R -> W -> B\n",
    "main_cmap = LinearSegmentedColormap.from_list(\"main_scheme\", colors, N=300)\n",
    "\n",
    "def show_data(X, y):\n",
    "    plt.figure(figsize=(5, 5))\n",
    "    plt.scatter(X[:, 0], X[:, 1], s=120, color=labels_cmap(y))\n",
    "    \n",
    "def generate_simple_data(N, a, b, c, max_x=5, max_y=5):\n",
    "    np.random.seed(10)\n",
    "    X = np.random.rand(N, 2)\n",
    "    X[:, 0] = X[:, 0] * max_x\n",
    "    X[:, 1] = X[:, 1] * max_y\n",
    "    y = np.zeros(N)\n",
    "    y[X[:, 0] * a + X[:, 1] * b + c > 0] = 1\n",
    "    #y[X[:, 0] * a + X[:, 1] * b + c < -m]= 0\n",
    "    return X, y\n",
    "\n",
    "def create_neuron(a, b, c, prob_output=False):\n",
    "    if prob_output:\n",
    "        return lambda x: sigmoid(a*x[:, 0] + b*x[:, 1] + c)\n",
    "    else:\n",
    "        return lambda x: a*x[:, 0] + b*x[:, 1] + c\n",
    "\n",
    "def show_descision_boundary(clf, limits, binary=False, X=None, y=None, n_lines=10, show_lines=False,\n",
    "                           figsize=(5, 5), ax=None):\n",
    "    xs, ys = limits\n",
    "    x_min, x_max = xs\n",
    "    y_min, y_max = ys\n",
    "    \n",
    "    xx, yy = np.meshgrid(np.arange(x_min, x_max, 0.01),\n",
    "                         np.arange(y_min, y_max, 0.01))\n",
    "    \n",
    "    if ax is None:\n",
    "        fig = plt.figure(figsize=figsize)\n",
    "        ax = fig.add_subplot(1, 1, 1)\n",
    "    \n",
    "    if binary:\n",
    "        Z = clf.predict_class(np.c_[xx.ravel(), yy.ravel()])\n",
    "        norm = Normalize(vmin=0.,vmax=1.)\n",
    "    else:\n",
    "        Z = clf(np.c_[xx.ravel(), yy.ravel()])\n",
    "        if clf.prob_output:\n",
    "            norm = Normalize(vmin=0.,vmax=1.)\n",
    "        else:\n",
    "            norm = Normalize(vmin=-10.,vmax=10., clip=True)\n",
    "        \n",
    "    Z = Z.reshape(xx.shape)\n",
    "    Z = Z.astype(np.float32)\n",
    "    \n",
    "    ax.contourf(xx, yy, Z, n_lines, alpha=0.4, cmap=main_cmap, norm=norm)\n",
    "    if show_lines:\n",
    "        cp = ax.contour(xx, yy, Z, n_lines)\n",
    "        ax.clabel(cp, inline=True, \n",
    "              fontsize=10, colors=\"green\")\n",
    "    \n",
    "    if y is not None:\n",
    "        X = np.array(X)\n",
    "        y = np.array(y)\n",
    "        ax.scatter(X[:, 0], X[:, 1], s=120, color=labels_cmap(y),\n",
    "                   zorder=4)\n",
    "        \n",
    "\n",
    "def eval_clf(clf, X, y):\n",
    "    acc = accuracy_score(clf.predict_class(X), y)\n",
    "    print(f\"Accuracy {acc}\")\n",
    "    return acc\n",
    "\n",
    "def create_three_axes():\n",
    "    fig = plt.figure(figsize=(20, 6))\n",
    "    grid = plt.GridSpec(2, 5, wspace=1, hspace=0.5)\n",
    "    first_neuron = fig.add_subplot(grid[0, 0])\n",
    "    first_neuron.set_xlabel(\"$x_1$\")\n",
    "    first_neuron.set_ylabel(\"$x_2$\")\n",
    "    first_neuron.set_title(\"Выход первого нейрона\")\n",
    "\n",
    "    second_neuron = fig.add_subplot(grid[1, 0])\n",
    "    second_neuron.set_xlabel(\"$x_1$\")\n",
    "    second_neuron.set_ylabel(\"$x_2$\")\n",
    "    second_neuron.set_title(\"Выход второго нейрона\")\n",
    "\n",
    "    third_neuron_interm = fig.add_subplot(grid[:, 1:3])\n",
    "    third_neuron_interm.set_xlabel(\"$z_1$ (выход первого нейрона)\")\n",
    "    third_neuron_interm.set_ylabel(\"$z_1$ (выход вторго нейрона)\")\n",
    "    third_neuron_interm.set_title(\"Выход третьего нейрона в пространстве первых двух\")\n",
    "\n",
    "    third_neuron_x = fig.add_subplot(grid[:, 3:])\n",
    "    third_neuron_x.set_xlabel(\"$x_1$ (исходные координаты)\")\n",
    "    third_neuron_x.set_ylabel(\"$x_2$ (исходные координаты)\")\n",
    "    third_neuron_x.set_title(\"Выход третьего нейрона в исходных координатах\")\n",
    "\n",
    "    return first_neuron, second_neuron, third_neuron_interm, third_neuron_x\n",
    "\n",
    "def visualize(neural_net, X, y):\n",
    "    n_lines = 5\n",
    "    limits = [[-1, 11], [-1, 11]]\n",
    "\n",
    "    first_neuron, second_neuron, third_neuron_interm, third_neuron_x = create_three_axes()\n",
    "\n",
    "    show_descision_boundary(limits=limits, clf=neural_net.neuron1, binary=True,\n",
    "                                    X=X,\n",
    "                                    y=y, \n",
    "                                    n_lines=1,\n",
    "                                    show_lines=False, ax=first_neuron)\n",
    "\n",
    "    show_descision_boundary(limits=limits, clf=neural_net.neuron2, binary=True,\n",
    "                                    X=X,\n",
    "                                    y=y, \n",
    "                                    n_lines=1,\n",
    "                                    show_lines=False, ax=second_neuron)\n",
    "\n",
    "    show_descision_boundary(limits=[[-0.1, 1.1], [-0.1,1.1]], clf=neural_net.neuron3, binary=True,\n",
    "                                    X=np.vstack([neural_net.neuron1(X), \n",
    "                                                neural_net.neuron2(X)]).T,\n",
    "                                    y=y, \n",
    "                                    n_lines=1,\n",
    "                                    show_lines=False, ax=third_neuron_interm)\n",
    "\n",
    "    show_descision_boundary(limits=limits, clf=neural_net, binary=False,\n",
    "                                    X=X,\n",
    "                                    y=y, \n",
    "                                    n_lines=50,\n",
    "                                    show_lines=False, ax=third_neuron_x)\n"
   ]
  },
  {
   "cell_type": "markdown",
   "metadata": {
    "id": "KPucZvhFEe0V"
   },
   "source": [
    "## (mini) Нейронная сеть\n",
    "\n",
    "В этом практическом задании вам предстоит реализовать нейронную сеть, состоящую из трех нейронов и решающую задачу схожую с описанной в лекции.\n",
    "\n",
    "Мы возьмем за основу класс Neuron, который вы реализовывали ранее, и научимся комбинировать выходы отдельных нейронов для получения более сложной разделяющей границы."
   ]
  },
  {
   "cell_type": "code",
   "execution_count": 17,
   "metadata": {
    "id": "fdBm1c54U-wg"
   },
   "outputs": [],
   "source": [
    "# класс Neuron из прошлой практики\n",
    "def sigmoid(x):\n",
    "    return 1./(1.+np.exp(-x))\n",
    "\n",
    "class Neuron:\n",
    "    \"\"\"\n",
    "    Класс, реализующий нейрон\n",
    "    \"\"\"\n",
    "    def __init__(self, a: float, b: float, c: float, prob_output: bool = True):\n",
    "        \"\"\"\n",
    "        a,b,c -- коэффиценты (веса) нейрона\n",
    "        prob_output -- если True, то, на выходе -- вероятности, если False -- логит\n",
    "\n",
    "        \"\"\"\n",
    "        self.a = a\n",
    "        self.b = b\n",
    "        self.c = c\n",
    "        self.prob_output = prob_output\n",
    "\n",
    "    def calculate_logit(self, x: np.ndarray) -> np.ndarray:\n",
    "        \"\"\"\n",
    "        x -- массив размера (N, 2), где N -- количество объектов. \n",
    "             Первый столбец -- признак  x1, второй -- x2.\n",
    "\n",
    "        Данный метод должен возвращать logit = a*x1 + b*x2 + c\n",
    "\n",
    "        \"\"\"  \n",
    "        assert np.ndim(x) == 2 and x.shape[1] == 2\n",
    "        logit = None\n",
    "        logit = self.a * x[:, 0] + self.b * x[:,1] + self.c\n",
    "        return logit\n",
    "\n",
    "    def __call__(self, x: np.ndarray) -> np.ndarray:\n",
    "        \"\"\"\n",
    "        x -- массив размера (N, 2), где N -- количество объектов. \n",
    "             Первый столбец -- признак  x1, второй -- x2.\n",
    "\n",
    "        Данный метод должен возвращать logit(x), если self.prob_output=False,\n",
    "        и sigmoid(logit(x)) иначе\n",
    "        \n",
    "        \"\"\"  \n",
    "        assert np.ndim(x) == 2 and x.shape[1] == 2\n",
    "        logit = self.calculate_logit(x)\n",
    "        \n",
    "        if self.prob_output:\n",
    "            output = sigmoid(logit)\n",
    "        else:\n",
    "            output = logit\n",
    "        assert output.shape == (x.shape[0],), f\"Output size must have following shape: {[x.shape[0],]}. Recieved: {output.shape}\"\n",
    "        return output\n",
    "    \n",
    "    def predict_class(self, x: np.ndarray) -> np.ndarray:\n",
    "        \"\"\"\n",
    "        x -- массив размера (N, 2), где N -- количество объектов. \n",
    "             Первый столбец -- признак  x1, второй -- x2.\n",
    "\n",
    "        Данный метод должен возвращать предсказанный класс для \n",
    "        каждого из N объектов -- 0 или 1.\n",
    "\n",
    "        \"\"\"\n",
    "        logit = self.calculate_logit(x)\n",
    "        predicted_classes = (logit > 0.0).astype(np.int32)\n",
    "\n",
    "        assert predicted_classes.shape == (x.shape[0],), f\"Output size must have following shape: {[x.shape[0],]}. Recieved: {output.shape}\"\n",
    "        return predicted_classes\n",
    "\n",
    "    def __repr__(self):\n",
    "        return f\"Neuron description. Weights: a={self.a}, b={self.b}. Bias: c={self.c}.\""
   ]
  },
  {
   "cell_type": "markdown",
   "metadata": {
    "id": "pkFgi0lWXtwc"
   },
   "source": [
    "## Задание 1\n",
    "Реализуйте метод calculate_logit класса ThreeNeuronsNeuralNet"
   ]
  },
  {
   "cell_type": "code",
   "execution_count": 18,
   "metadata": {
    "id": "hI7dCi9WFCNK"
   },
   "outputs": [],
   "source": [
    "from typing import List\n",
    "\n",
    "class ThreeNeuronsNeuralNet(Neuron):\n",
    "    \"\"\"\n",
    "    Нейронная сеть из трех нейронов.\n",
    "\n",
    "    \"\"\"\n",
    "    def __init__(self, first_neuron_params: List[float],\n",
    "                       second_neuron_params: List[float],  \n",
    "                       third_neuron_params: List[float]):\n",
    "        \"\"\"\n",
    "        Для конструировани нейронной сети нам потребуются параметры трех нейронов,\n",
    "        которые передаются в трех списках.\n",
    "\n",
    "        Мы наследуемся от класса Neuron, т.к. нам нужно переопределить только \n",
    "        пересчет логитов. Предсказания классов и вероятностей уже реализованы.\n",
    "\n",
    "        \"\"\"\n",
    "        self.prob_output = True # фиксируем вероятностный выход\n",
    "        self.neuron1 = Neuron(*first_neuron_params, prob_output = True) # конструируем первый нейрон, prob_output=True, это важно!\n",
    "        self.neuron2 = Neuron(*second_neuron_params, prob_output = True) # конструируем второй нейрон, prob_output=True, это важно!\n",
    "        self.neuron3 = Neuron(*third_neuron_params, prob_output = self.prob_output) # конструируем третий нейрон\n",
    "\n",
    "    def calculate_logit(self, x):\n",
    "        \"\"\"\n",
    "        x -- массив размера (N, 2), где N -- количество объектов. \n",
    "             Первый столбец -- признак  x1, второй -- x2.\n",
    "             Важно! Это исходные координаты!\n",
    "\n",
    "        Этот метод должен вернуть логит предсказанный всей сетью\n",
    "        Это можно сделать в 4 шага:\n",
    "        1) Получить вероятности синего класса для исходных данных первым \n",
    "           нейроном: вектор длины N -- z1\n",
    "        2) Получить вероятности синего класса для исходных данных вторым\n",
    "           нейроном: вектор длины N -- z2\n",
    "        3) Склеить полученные вероятности: массив размера (N, 2) -- z1z2\n",
    "           * вам может быть полезна функция np.vstack\n",
    "        4) Получить логит(!, calculate_logit) третьего нейрона, примененного к z1z2 -- logit\n",
    "\n",
    "        \"\"\"\n",
    "        z1 = None\n",
    "        z2 = None\n",
    "        z1z2 = None\n",
    "        logit = None\n",
    "\n",
    "        # < YOUR CODE STARTS HERE >\n",
    "        z1 = self.neuron1(x)\n",
    "        z2 = self.neuron2(x)\n",
    "        z1z2 = np.transpose(np.vstack((z1,z2)))\n",
    "        logit = self.neuron3.calculate_logit(z1z2)\n",
    "        # < YOUR CODE ENDS HERE >\n",
    "\n",
    "        return logit"
   ]
  },
  {
   "cell_type": "code",
   "execution_count": 19,
   "metadata": {
    "id": "QqCWSXHRYFYl"
   },
   "outputs": [
    {
     "name": "stdout",
     "output_type": "stream",
     "text": [
      "Simple test passed\n"
     ]
    }
   ],
   "source": [
    "test_net = ThreeNeuronsNeuralNet([1,2,3], [4,5,6], [7,8,9])\n",
    "test_input = np.array([[10, 20], [30, -40]])\n",
    "assert np.allclose(test_net.calculate_logit(test_input), np.array([24.,  9.]))\n",
    "print(\"Simple test passed\")"
   ]
  },
  {
   "cell_type": "markdown",
   "metadata": {
    "id": "OKzy8IvfleDa"
   },
   "source": [
    "Теперь посмотрим как выглядит разделяющая поверхность"
   ]
  },
  {
   "cell_type": "code",
   "execution_count": 20,
   "metadata": {
    "cellView": "both",
    "id": "6QooEg17h-vS"
   },
   "outputs": [
    {
     "name": "stdout",
     "output_type": "stream",
     "text": [
      "Accuracy 1.0\n",
      "Well done\n"
     ]
    },
    {
     "data": {
      "image/png": "[encoded data removed]",
      "text/plain": [
       "<Figure size 1440x432 with 4 Axes>"
      ]
     },
     "metadata": {
      "needs_background": "light"
     },
     "output_type": "display_data"
    }
   ],
   "source": [
    "a1, b1, c1 = 0.0, -3.0, 15.0\n",
    "a2, b2, c2 = -3.0, 3.0, -2.0 \n",
    "a3, b3, c3 = 1.5, 1.5, -0.65 \n",
    "\n",
    "neural_net = ThreeNeuronsNeuralNet([a1, b1, c1],\n",
    "                                   [a2, b2, c2],\n",
    "                                   [a3, b3, c3])\n",
    "\n",
    "X = np.array([[10, 6], [6, 6], [9, 8], [10, 10],\n",
    "              [10, 4], [4, 4], [4, 6], [8, 9]])\n",
    "y = np.array([0, 0, 0, 0, 1, 1, 1, 1])\n",
    "\n",
    "visualize(neural_net, X, y)\n",
    "\n",
    "if eval_clf(neural_net, X, y) == 1:\n",
    "    print(\"Well done\")\n",
    "else:\n",
    "    print(\"Something went wrong\")"
   ]
  },
  {
   "cell_type": "markdown",
   "metadata": {
    "id": "dNwP4FFDlk6w"
   },
   "source": [
    "## Задание 2 (бонусное)\n",
    "\n",
    "Подберите коэффициенты таким образом, чтобы идеально разделить данные ниже. *Совет: настраивайте параметры по-очереди, начиная с первого нейрона.*"
   ]
  },
  {
   "cell_type": "code",
   "execution_count": null,
   "metadata": {
    "colab": {
     "base_uri": "https://localhost:8080/",
     "height": 323
    },
    "id": "avv5J5VBP-AW",
    "outputId": "5d5f8a66-1691-4ba2-8078-97aba11a5a4f"
   },
   "outputs": [
    {
     "data": {
      "image/png": "[encoded data removed]",
      "text/plain": [
       "<Figure size 360x360 with 1 Axes>"
      ]
     },
     "metadata": {
      "tags": []
     },
     "output_type": "display_data"
    }
   ],
   "source": [
    "np.random.seed(10)\n",
    "X = [[1.5  + np.random.rand() - 0.5, x] for x in np.arange(10)]\n",
    "X += [[8.5  + np.random.rand() - 0.5, x] for x in np.arange(10)]\n",
    "X += [[5  + np.random.rand() - 0.5, x] for x in np.arange(10)]\n",
    "X = np.array(X)\n",
    "y = np.zeros(len(X))\n",
    "y[-10:] = 1\n",
    "\n",
    "show_data(X, y)"
   ]
  },
  {
   "cell_type": "code",
   "execution_count": null,
   "metadata": {
    "id": "2PMljFGFI2NT"
   },
   "outputs": [],
   "source": [
    "################################\n",
    "# Меняйте коэффиценты ниже\n",
    "a1, b1, c1 = 0.0, -3.0, 15.0\n",
    "a2, b2, c2 = -3.0, 3.0, -2.0 \n",
    "a3, b3, c3 = 1.5, 1.5, -0.65 \n",
    "\n",
    "################################\n",
    "neural_net = ThreeNeuronsNeuralNet([a1, b1, c1],\n",
    "                                   [a2, b2, c2],\n",
    "                                   [a3, b3, c3])\n",
    "\n",
    "visualize(neural_net, X, y)\n",
    "\n",
    "if eval_clf(neural_net, X, y) == 1:\n",
    "    print(\"Well done\")\n",
    "else:\n",
    "    print(\"Something went wrong\")"
   ]
  }
 ],
 "metadata": {
  "colab": {
   "collapsed_sections": [
    "RBrlvvX-d7uP"
   ],
   "name": "homework_1.ipynb",
   "provenance": []
  },
  "kernelspec": {
   "display_name": "Python 3",
   "language": "python",
   "name": "python3"
  },
  "language_info": {
   "codemirror_mode": {
    "name": "ipython",
    "version": 3
   },
   "file_extension": ".py",
   "mimetype": "text/x-python",
   "name": "python",
   "nbconvert_exporter": "python",
   "pygments_lexer": "ipython3",
   "version": "3.8.5"
  }
 },
 "nbformat": 4,
 "nbformat_minor": 1
}
