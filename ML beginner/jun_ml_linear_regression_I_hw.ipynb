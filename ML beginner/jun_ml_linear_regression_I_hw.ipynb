{
 "cells": [
  {
   "cell_type": "markdown",
   "metadata": {
    "id": "WAyRDni_6GHU"
   },
   "source": [
    "### Урок 5. Домашняя работа\n",
    "\n",
    "Есть два набора точек - *x_hw* и *y_hw*. В рамках домашней работы нужно\n",
    "* визуализировать набор точек\n",
    "* найти коэффициенты регрессии $w_0, w_1$ по шагам, как в уроке\n",
    "* посчитать предсказание в виде $\\hat{y} = w_0 + w_1x$ и визуализировать его вместе с точками *x_hw* и *y_hw*"
   ]
  },
  {
   "cell_type": "code",
   "execution_count": 10,
   "metadata": {
    "id": "74wa1k6p6GHf"
   },
   "outputs": [],
   "source": [
    "x_hw = [50, 60, 70, 100]\n",
    "y_hw = [10, 15, 40, 45]"
   ]
  },
  {
   "cell_type": "code",
   "execution_count": 9,
   "metadata": {},
   "outputs": [
    {
     "data": {
      "text/plain": [
       "<matplotlib.collections.PathCollection at 0x920e2e0>"
      ]
     },
     "execution_count": 9,
     "metadata": {},
     "output_type": "execute_result"
    },
    {
     "data": {
      "image/png": "[encoded data removed]",
      "text/plain": [
       "<Figure size 432x288 with 1 Axes>"
      ]
     },
     "metadata": {
      "needs_background": "light"
     },
     "output_type": "display_data"
    }
   ],
   "source": [
    "from matplotlib import pyplot as plt\n",
    "plt.scatter([50, 60, 70, 100], [10, 15, 40, 45], 20, 'r', 'o')"
   ]
  },
  {
   "cell_type": "code",
   "execution_count": 11,
   "metadata": {},
   "outputs": [
    {
     "name": "stdout",
     "output_type": "stream",
     "text": [
      "w_1=-22.50000, w_2=0.714\n"
     ]
    }
   ],
   "source": [
    "import numpy as np\n",
    "from numpy.linalg import inv\n",
    "X = np.array([[1, 50],[1, 60],[1, 70],[1, 100]])\n",
    "Y = np.array([[10],[15],[40],[45]])\n",
    "w = inv((X.T).dot(X)).dot(X.T).dot(Y)\n",
    "print(\"w_1=%.5f, w_2=%.3f\" % (w[0][0],w[1][0]))"
   ]
  },
  {
   "cell_type": "code",
   "execution_count": 16,
   "metadata": {},
   "outputs": [
    {
     "data": {
      "text/plain": [
       "[<matplotlib.lines.Line2D at 0xd8cb08>]"
      ]
     },
     "execution_count": 16,
     "metadata": {},
     "output_type": "execute_result"
    },
    {
     "data": {
      "image/png": "[encoded data removed]",
      "text/plain": [
       "<Figure size 432x288 with 1 Axes>"
      ]
     },
     "metadata": {
      "needs_background": "light"
     },
     "output_type": "display_data"
    }
   ],
   "source": [
    "#xmin = \n",
    "xmin = min(x_hw) - 20\n",
    "xmax = max(x_hw) + 20\n",
    "plt.scatter([50, 60, 70, 100], [10, 15, 40, 45], 20, 'r', 'o')\n",
    "plt.plot([xmin, xmax], [(w[0][0] + w[1][0]*xmin), (w[0][0] + w[1][0]*xmax)])"
   ]
  },
  {
   "cell_type": "code",
   "execution_count": 21,
   "metadata": {},
   "outputs": [
    {
     "name": "stdout",
     "output_type": "stream",
     "text": [
      "13.214285714285694\n",
      "20.357142857142833\n",
      "27.49999999999997\n",
      "48.92857142857139\n",
      "[10, 15, 40, 45]\n"
     ]
    }
   ],
   "source": [
    "for i in x_hw:\n",
    "    print(w[0][0] + w[1][0]*i)\n",
    "print(y_hw)"
   ]
  },
  {
   "cell_type": "markdown",
   "metadata": {},
   "source": [
    "### Урок 7. Домашняя работа\n",
    "\n",
    "У вас есть два набора точек – истинные значения *y_true* и предсказанные значения *y_pred*\n",
    "\n",
    "* для каждой точки из *y_true* постройте величину ошибки $e = y-\\hat{y}$ – это называется **остатки регрессии**\n",
    "* возведите ошибки в квадрат $e^2$\n",
    "* постройте график ошибок – зависимость $e^2$ от $e$"
   ]
  },
  {
   "cell_type": "code",
   "execution_count": 22,
   "metadata": {},
   "outputs": [],
   "source": [
    "y_pred_ = np.array([30.0, 25.03, 30.57, 28.61, 27.94, 25.26, 23.0, 19.54, 11.52, 18.92, 19.0, 21.59, 20.91, 19.55, 19.28, 19.3, 20.53, 16.91, 16.18, 18.41, 12.52, 17.67, 15.83, 13.81, 15.68, 13.39, 15.46, 14.71, 19.55, 20.88, 11.46, 18.06, 8.81, 14.28, 13.71, 23.81, 22.34, 23.11, 22.92, 31.36])\n",
    "y_true_ = np.array([24.0, 21.6, 34.7, 33.4, 36.2, 28.7, 22.9, 27.1, 16.5, 18.9, 15.0, 18.9, 21.7, 20.4, 18.2, 19.9, 23.1, 17.5, 20.2, 18.2, 13.6, 19.6, 15.2, 14.5, 15.6, 13.9, 16.6, 14.8, 18.4, 21.0, 12.7, 14.5, 13.2, 13.1, 13.5, 18.9, 20.0, 21.0, 24.7, 30.8])"
   ]
  },
  {
   "cell_type": "code",
   "execution_count": 23,
   "metadata": {},
   "outputs": [
    {
     "data": {
      "text/plain": [
       "array([ 6.  ,  3.43, -4.13, -4.79, -8.26, -3.44,  0.1 , -7.56, -4.98,\n",
       "        0.02,  4.  ,  2.69, -0.79, -0.85,  1.08, -0.6 , -2.57, -0.59,\n",
       "       -4.02,  0.21, -1.08, -1.93,  0.63, -0.69,  0.08, -0.51, -1.14,\n",
       "       -0.09,  1.15, -0.12, -1.24,  3.56, -4.39,  1.18,  0.21,  4.91,\n",
       "        2.34,  2.11, -1.78,  0.56])"
      ]
     },
     "execution_count": 23,
     "metadata": {},
     "output_type": "execute_result"
    }
   ],
   "source": [
    "e = y_pred_ - y_true_\n",
    "e"
   ]
  },
  {
   "cell_type": "code",
   "execution_count": 25,
   "metadata": {},
   "outputs": [
    {
     "data": {
      "text/plain": [
       "array([3.60000e+01, 1.17649e+01, 1.70569e+01, 2.29441e+01, 6.82276e+01,\n",
       "       1.18336e+01, 1.00000e-02, 5.71536e+01, 2.48004e+01, 4.00000e-04,\n",
       "       1.60000e+01, 7.23610e+00, 6.24100e-01, 7.22500e-01, 1.16640e+00,\n",
       "       3.60000e-01, 6.60490e+00, 3.48100e-01, 1.61604e+01, 4.41000e-02,\n",
       "       1.16640e+00, 3.72490e+00, 3.96900e-01, 4.76100e-01, 6.40000e-03,\n",
       "       2.60100e-01, 1.29960e+00, 8.10000e-03, 1.32250e+00, 1.44000e-02,\n",
       "       1.53760e+00, 1.26736e+01, 1.92721e+01, 1.39240e+00, 4.41000e-02,\n",
       "       2.41081e+01, 5.47560e+00, 4.45210e+00, 3.16840e+00, 3.13600e-01])"
      ]
     },
     "execution_count": 25,
     "metadata": {},
     "output_type": "execute_result"
    }
   ],
   "source": [
    "e**2"
   ]
  },
  {
   "cell_type": "code",
   "execution_count": 29,
   "metadata": {},
   "outputs": [
    {
     "data": {
      "text/plain": [
       "<matplotlib.collections.PathCollection at 0x819f478>"
      ]
     },
     "execution_count": 29,
     "metadata": {},
     "output_type": "execute_result"
    },
    {
     "data": {
      "image/png": "[encoded data removed]",
      "text/plain": [
       "<Figure size 432x288 with 1 Axes>"
      ]
     },
     "metadata": {
      "needs_background": "light"
     },
     "output_type": "display_data"
    }
   ],
   "source": [
    "plt.scatter(np.sort(e), np.sort(e)**2)"
   ]
  },
  {
   "cell_type": "markdown",
   "metadata": {},
   "source": [
    "### Урок 9. Домашняя работа\n",
    "\n",
    "Даны точки $x$ и значения в этих точках $y$. Нормализуйте $y$ с помощью *z-score* и постройте график зависимости нормализованных значений от $x$. Для графика используйте `.scatter(x,y_tansformed)`"
   ]
  },
  {
   "cell_type": "code",
   "execution_count": 146,
   "metadata": {},
   "outputs": [
    {
     "name": "stdout",
     "output_type": "stream",
     "text": [
      "[-1.2465616  -0.57274455 -0.23583598 -0.9096531   1.7856153   0.10107257\n",
      "  0.10107257 -0.9096531   0.10107257  1.7856153 ]\n"
     ]
    },
    {
     "data": {
      "text/plain": [
       "<matplotlib.collections.PathCollection at 0xda96d60>"
      ]
     },
     "execution_count": 146,
     "metadata": {},
     "output_type": "execute_result"
    },
    {
     "data": {
      "image/png": "[encoded data removed]",
      "text/plain": [
       "<Figure size 432x288 with 1 Axes>"
      ]
     },
     "metadata": {
      "needs_background": "light"
     },
     "output_type": "display_data"
    }
   ],
   "source": [
    "import numpy as np\n",
    "from sklearn.preprocessing import StandardScaler\n",
    "from matplotlib import pyplot as plt\n",
    "\n",
    "x = np.linspace(1,10,num=10)\n",
    "y = np.array(\n",
    "    [1.,  3.,  4.,  2., 10.,  5.,  5.,  2.,  5., 10.],\n",
    "    dtype=np.float32\n",
    ")\n",
    "transformed = StandardScaler().fit_transform(y.reshape(-1, 1)).reshape(-1)\n",
    "print(transformed)\n",
    "plt.scatter(x, transformed)"
   ]
  },
  {
   "cell_type": "markdown",
   "metadata": {},
   "source": [
    "### Урок 11. Домашняя работа\n",
    "\n",
    "**Задание простого уровня** Мы говорили, что метрики качества нужны, чтобы сравнивать различные модели между собой. В задаче полиномиальной регрессии реализуйте код для выбора лучшей степени полиному:\n",
    "\n",
    "* возьмите все степени от 1 до 10 по порядку, без пропусков.\n",
    "* найдите степень полинома, где будет лучший r2-score\n",
    "* напишите код, который выводит самую подходящую степень полинома и соответствующий ей скор\n",
    "\n",
    "Эта процедура называется Grid Search и помогает найти лучшие параметры для модели.\n",
    "\n",
    "Обучите лучшую модель и сделайте predict"
   ]
  },
  {
   "cell_type": "code",
   "execution_count": 38,
   "metadata": {},
   "outputs": [
    {
     "data": {
      "text/plain": [
       "<matplotlib.collections.PathCollection at 0x9d9e760>"
      ]
     },
     "execution_count": 38,
     "metadata": {},
     "output_type": "execute_result"
    },
    {
     "data": {
      "image/png": "[encoded data removed]",
      "text/plain": [
       "<Figure size 432x288 with 1 Axes>"
      ]
     },
     "metadata": {
      "needs_background": "light"
     },
     "output_type": "display_data"
    }
   ],
   "source": [
    "import pandas as pd\n",
    "data = pd.read_csv('non_linear.csv', sep=',')\n",
    "plt.scatter(data['x_train'], data['y_train'], 20, 'r', 'o')"
   ]
  },
  {
   "cell_type": "code",
   "execution_count": 39,
   "metadata": {},
   "outputs": [],
   "source": [
    "def generate_degrees(source_data: list, degree: int):\n",
    "    return np.array([\n",
    "          source_data**n for n in range(1, degree + 1)  \n",
    "    ]).T"
   ]
  },
  {
   "cell_type": "code",
   "execution_count": 64,
   "metadata": {},
   "outputs": [],
   "source": [
    "from sklearn.linear_model import LinearRegression\n",
    "from sklearn.metrics import r2_score\n",
    "def train_polynomial(degree, data):\n",
    "    X = generate_degrees(data['x_train'], degree)\n",
    "    model = LinearRegression().fit(X, data['y_train'])\n",
    "    y_pred = model.predict(X)\n",
    "    error = r2_score(data['y_train'], y_pred)\n",
    "    return error, y_pred"
   ]
  },
  {
   "cell_type": "code",
   "execution_count": 63,
   "metadata": {},
   "outputs": [
    {
     "name": "stdout",
     "output_type": "stream",
     "text": [
      "[10, 0.9091133831297025]\n"
     ]
    }
   ],
   "source": [
    "best_score = [1, train_polynomial(1, data)[0]]\n",
    "for i in range(2,11):\n",
    "    current_score, _ = train_polynomial(i, data)\n",
    "    if current_score>best_score[1]:\n",
    "        best_score = [i, current_score]\n",
    "print(best_score)       "
   ]
  },
  {
   "cell_type": "code",
   "execution_count": 48,
   "metadata": {},
   "outputs": [
    {
     "name": "stdout",
     "output_type": "stream",
     "text": [
      "[14, 0.9163980560834861]\n"
     ]
    }
   ],
   "source": [
    "for i in range(2,40):\n",
    "    current_score, _ = train_polynomial(i, data)\n",
    "    if current_score>best_score[1]:\n",
    "        best_score = [i, current_score]\n",
    "        \n",
    "print(best_score)"
   ]
  },
  {
   "cell_type": "code",
   "execution_count": 50,
   "metadata": {},
   "outputs": [
    {
     "data": {
      "text/plain": [
       "[<matplotlib.lines.Line2D at 0xd8ed220>]"
      ]
     },
     "execution_count": 50,
     "metadata": {},
     "output_type": "execute_result"
    },
    {
     "data": {
      "image/png": "[encoded data removed]",
      "text/plain": [
       "<Figure size 432x288 with 1 Axes>"
      ]
     },
     "metadata": {
      "needs_background": "light"
     },
     "output_type": "display_data"
    }
   ],
   "source": [
    "plt.scatter(data['x_train'], data['y_train'], 20, 'r', 'o')\n",
    "_, y_pred = train_polynomial(10, data)\n",
    "plt.plot(data['x_train'], y_pred)"
   ]
  },
  {
   "cell_type": "markdown",
   "metadata": {},
   "source": [
    "**Задание среднего уровня** Напишите класс для обучения модели, который содержит:\n",
    "\n",
    "* функцию `.fit(X, y)` , которая принимает на вход массив фичей `X`, массив таргетов `y` и обучает коэффициенты регрессии. Код для обучения взять из первого урока модуля *Постановка ML задачи линейной регрессии*\n",
    "* функцию `.predict(X)`, которая по массиву фичей `X` возвращает массив предсказаний `y`\n",
    "\n",
    "Нужно использовать код для аналитически вычисляемых коэффициентов. \n",
    "\n",
    "Это задание позволит понять, как работает линейная регрессия \"внутри\" библиотечной реализации."
   ]
  },
  {
   "cell_type": "code",
   "execution_count": 193,
   "metadata": {},
   "outputs": [],
   "source": [
    "from numpy.linalg import inv\n",
    "import pandas as pd\n",
    "\n",
    "class CustomLinearReg:\n",
    "    def __init__(self):\n",
    "        pass\n",
    "    \n",
    "    def fit(self, X, y):\n",
    "        if isinstance(X, pd.core.series.Series):\n",
    "            var_x = np.array(X.to_numpy())\n",
    "            var_x = np.c_[np.ones(var_x.shape[0]),var_x]\n",
    "        elif isinstance(X, np.ndarray):\n",
    "            var_x = X\n",
    "            var_x = np.c_[np.ones(var_x.shape[0]),var_x]            \n",
    "        if isinstance(y, pd.core.series.Series):\n",
    "            var_y = np.array(y.to_numpy())\n",
    "            var_y = var_y.reshape((-1,1))\n",
    "        elif isinstance(y, np.ndarray):\n",
    "            var_y = y\n",
    "        self.w = inv((var_x.T)\\\n",
    "                     .dot(var_x))\\\n",
    "                     .dot(var_x.T)\\\n",
    "                     .dot(var_y)\n",
    "        return self.w\n",
    "    \n",
    "    def predict(self, X):\n",
    "        #y_pred = w[0] + w[1]*x^1 + w[2]*x^2 + ...\n",
    "        if isinstance(X, pd.core.series.Series):\n",
    "            X = np.array(X.to_numpy())\n",
    "            X = X.reshape((-1,1))\n",
    "        self.y_pred = np.zeros([X.shape[0], 1]) #создали пустую матрицу (N,1) для предсказания\n",
    "        for i in range(X.shape[0]):\n",
    "            self.y_pred[i] = self.w[0] #добавили свободный член w[0]\n",
    "        for i in range(X.shape[0]):\n",
    "            for j in range(self.w.shape[0]-1):\n",
    "                self.y_pred[i] += self.w[j+1] * X[i][j] #добавили поочередно w[i]*x^i\n",
    "        return self.y_pred"
   ]
  },
  {
   "cell_type": "code",
   "execution_count": 212,
   "metadata": {},
   "outputs": [
    {
     "name": "stdout",
     "output_type": "stream",
     "text": [
      "degree=1,           my_class=0.519,           in_build_func=0.519          diff=0.0\n",
      "degree=2,           my_class=0.533,           in_build_func=0.533          diff=0.0\n",
      "degree=3,           my_class=0.888,           in_build_func=0.888          diff=0.0\n",
      "degree=4,           my_class=0.895,           in_build_func=0.895          diff=-1.11e-16\n",
      "degree=5,           my_class=0.896,           in_build_func=0.896          diff=5.55e-16\n",
      "degree=6,           my_class=0.899,           in_build_func=0.899          diff=2.55e-15\n",
      "degree=7,           my_class=0.9,           in_build_func=0.9          diff=-3.57e-14\n",
      "degree=8,           my_class=0.909,           in_build_func=0.909          diff=-2.52e-10\n",
      "degree=9,           my_class=0.909,           in_build_func=0.909          diff=-6.54e-07\n",
      "degree=10,           my_class=0.909,           in_build_func=0.909          diff=-0.000524\n",
      "degree=11,           my_class=0.556,           in_build_func=0.909          diff=-0.353\n",
      "degree=12,           my_class=-5.63e+04,           in_build_func=0.911          diff=-5.63e+04\n",
      "degree=13,           my_class=-7.92,           in_build_func=0.914          diff=-8.83\n",
      "degree=14,           my_class=-8.42e+04,           in_build_func=0.916          diff=-8.42e+04\n",
      "degree=15,           my_class=-11.5,           in_build_func=0.916          diff=-12.4\n",
      "degree=16,           my_class=-1.52e+03,           in_build_func=0.912          diff=-1.52e+03\n",
      "degree=17,           my_class=-6.14e+02,           in_build_func=0.909          diff=-6.15e+02\n",
      "degree=18,           my_class=-2.88e+03,           in_build_func=0.91          diff=-2.88e+03\n",
      "degree=19,           my_class=-2.36e+03,           in_build_func=0.901          diff=-2.36e+03\n"
     ]
    }
   ],
   "source": [
    "for i in range(1,20):\n",
    "    degree = i\n",
    "    X = generate_degrees(data['x_train'], degree)\n",
    "    Y = data['y_train']\n",
    "\n",
    "    new_model = CustomLinearReg()\n",
    "    new_model.fit(X, Y)\n",
    "    y_pred = new_model.predict(X)\n",
    "    error = r2_score(Y, y_pred)\n",
    "\n",
    "    #train_polynomial(degree, data)  из дз к уроку 11\n",
    "    print(f'degree={i}, \\\n",
    "          my_class={error:.03}, \\\n",
    "          in_build_func={train_polynomial(degree, data)[0]:.03}\\\n",
    "          diff={error-train_polynomial(degree, data)[0]:.03}')"
   ]
  },
  {
   "cell_type": "markdown",
   "metadata": {},
   "source": [
    "**Задание высокого уровня**\n",
    "\n",
    "1. разделите датасет с домами Бостона из Урока 2 (таргет и фичи) на две части: в одной части 80% датасета (назовём train) в другой 20% (назовём valid) с помощью функции `train_test_split` из библиотеки `sklearn`\n",
    "1. обучите модель только на train датасете\n",
    "1. постройте предсказания valid датасете\n",
    "1. Посчитайте  `r2 score` на валидационном сете\n",
    "\n",
    "После этого примените к обеим датасетам z-преобразование и повторите шаги 2-4. Как изменилась метрика r2?\n",
    "\n",
    "Это задание поможет понять, как валидировать линейную регрессию (и другие модели) на отложенной выборке."
   ]
  },
  {
   "cell_type": "code",
   "execution_count": 143,
   "metadata": {},
   "outputs": [],
   "source": [
    "from sklearn.model_selection import train_test_split\n",
    "from sklearn.datasets import load_boston\n",
    "\n",
    "boston_dataset = load_boston()\n",
    "features = boston_dataset.data\n",
    "y = boston_dataset.target\n",
    "X_train, X_valid, y_train, y_valid = train_test_split(features, y, test_size=0.2)"
   ]
  },
  {
   "cell_type": "code",
   "execution_count": 145,
   "metadata": {},
   "outputs": [
    {
     "name": "stdout",
     "output_type": "stream",
     "text": [
      "0.6321457569370954\n"
     ]
    }
   ],
   "source": [
    "model = LinearRegression().fit(X_train, y_train)\n",
    "y_pred = model.predict(X_valid)\n",
    "error = r2_score(y_valid, y_pred)\n",
    "print(error)"
   ]
  },
  {
   "cell_type": "code",
   "execution_count": 148,
   "metadata": {},
   "outputs": [
    {
     "name": "stdout",
     "output_type": "stream",
     "text": [
      "0.6381910149694199\n"
     ]
    }
   ],
   "source": [
    "y_train = StandardScaler().fit_transform(y_train.reshape(-1, 1)).reshape(-1)\n",
    "y_valid = StandardScaler().fit_transform(y_valid.reshape(-1, 1)).reshape(-1)\n",
    "model = LinearRegression().fit(X_train, y_train)\n",
    "y_pred = model.predict(X_valid)\n",
    "error = r2_score(y_valid, y_pred)\n",
    "print(error)"
   ]
  },
  {
   "cell_type": "markdown",
   "metadata": {},
   "source": [
    "К 1 стало ближе, значит предсказательная модель стала лучше"
   ]
  }
 ],
 "metadata": {
  "colab": {
   "collapsed_sections": [],
   "name": "jun_ml_linear_regression_I_hw_5.ipynb",
   "provenance": []
  },
  "kernelspec": {
   "display_name": "Python 3",
   "language": "python",
   "name": "python3"
  },
  "language_info": {
   "codemirror_mode": {
    "name": "ipython",
    "version": 3
   },
   "file_extension": ".py",
   "mimetype": "text/x-python",
   "name": "python",
   "nbconvert_exporter": "python",
   "pygments_lexer": "ipython3",
   "version": "3.8.3"
  }
 },
 "nbformat": 4,
 "nbformat_minor": 1
}
