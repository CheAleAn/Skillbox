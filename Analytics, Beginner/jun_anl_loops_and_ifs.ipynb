{
 "cells": [
  {
   "cell_type": "markdown",
   "metadata": {
    "colab_type": "text",
    "id": "X9wfb-pqPzYu"
   },
   "source": [
    "# Циклы и условия\n",
    "\n",
    "## Домашняя работа\n",
    "Эта домашняя работа должна быть решена **БЕЗ** использования готовых функций (если именно они «решают» задачу) и сторонних библиотек. Используйте циклы и условия."
   ]
  },
  {
   "cell_type": "markdown",
   "metadata": {
    "colab_type": "text",
    "id": "LWsFp-lTB1SY"
   },
   "source": [
    "**Цель блока заданий:** в данном блоке задач вы потренируетесь использовать циклы и условные операторы для решения практических задач.\n",
    "\n",
    "**Критерии оценки:** задания считаются выполненными, если программа выводит корректный ответ."
   ]
  },
  {
   "cell_type": "markdown",
   "metadata": {
    "colab_type": "text",
    "id": "DMpu8uUoPzY0"
   },
   "source": [
    "## 1\n",
    "\n",
    "Напишите программу, которая будет запрашивать на вход числа (через запятую на одной строке) и выводить наибольшее значение из списка.\n",
    "<br><br>\n",
    "*Ограничение: нельзя пользоваться готовой функцией для нахождения максимума (например, `max()`), готовыми функциями и методами сортировки (например, `sort()`,`sorted()`), функцией set().*\n",
    "<br>\n",
    "<br>\n",
    "*Формат ввода:* <br>\n",
    "1, 2, 3, 6, 7<br><br>\n",
    "\n",
    "*Формат вывода:* <br>\n",
    "7"
   ]
  },
  {
   "cell_type": "markdown",
   "metadata": {
    "colab_type": "text",
    "id": "jc-6GNtHB1SZ"
   },
   "source": [
    "**Рекомендации к выполнению задания:** попробуйте создать переменную, в которой будете хранить максимум. Итерируя по списку входных значений, сравните максимум с каждым элементом. В случае, если элемент оказался больше максимума, присвойте данной переменной новое значение."
   ]
  },
  {
   "cell_type": "code",
   "execution_count": 2,
   "metadata": {
    "colab": {},
    "colab_type": "code",
    "id": "dHs34-p-PzY3"
   },
   "outputs": [
    {
     "name": "stdout",
     "output_type": "stream",
     "text": [
      "1, 2, 3, 6, 7, 3\n",
      "7\n"
     ]
    }
   ],
   "source": [
    "numbers = input()\n",
    "number = numbers.split(', ')\n",
    "max_number = int(number[0])\n",
    "for i in number:\n",
    "    if int(i)>max_number:\n",
    "        max_number = int(i)\n",
    "        \n",
    "print(max_number)\n"
   ]
  },
  {
   "cell_type": "markdown",
   "metadata": {
    "colab_type": "text",
    "id": "sCF9Hd9rPzZD"
   },
   "source": [
    "### 2\n",
    "\n",
    "Напишите программу, которая будет запрашивать на вход числа (каждое с новой строки) до тех пор, пока не будет введён ноль (0). На выход должно выводиться второе по величине значение.\n",
    "<br><br>\n",
    "*Ограничение: нельзя пользоваться готовой функцией для нахождения максимума (например, `max()`), готовыми функциями и методами сортировки (например, `sort()`,`sorted()`).*\n",
    "<br><br>\n",
    "*Формат ввода:* <br>\n",
    "4<br>\n",
    "6<br>\n",
    "7<br>\n",
    "7<br>\n",
    "0\n",
    "<br><br>\n",
    "\n",
    "*Формат вывода:* <br>\n",
    "6"
   ]
  },
  {
   "cell_type": "markdown",
   "metadata": {
    "colab_type": "text",
    "id": "3wgCKyz8B1Se"
   },
   "source": [
    "**Рекомендации к выполнению задания:** попробуйте реализовать идею решения из предыдущего задания, используя две переменные для хранения максимумов."
   ]
  },
  {
   "cell_type": "code",
   "execution_count": 6,
   "metadata": {
    "colab": {},
    "colab_type": "code",
    "id": "yrJk-mEjPzZF"
   },
   "outputs": [
    {
     "name": "stdout",
     "output_type": "stream",
     "text": [
      "4\n",
      "6\n",
      "7\n",
      "7\n",
      "0\n",
      "6\n"
     ]
    }
   ],
   "source": [
    "a = int(input())\n",
    "b = int(input())\n",
    "if a>b:\n",
    "    max_number = a\n",
    "    next_number = b\n",
    "elif a==b:\n",
    "    max_number = a\n",
    "else: \n",
    "    max_number = b\n",
    "    next_number = a\n",
    "\n",
    "while b>0:\n",
    "    b = int(input())\n",
    "    if b>max_number:\n",
    "        next_number, max_number = max_number, b\n",
    "    elif b>next_number and b!=max_number:\n",
    "        next_number = b\n",
    "        \n",
    "print(next_number)\n"
   ]
  },
  {
   "cell_type": "markdown",
   "metadata": {
    "colab_type": "text",
    "id": "fdJZMUtGPzZN"
   },
   "source": [
    "### 3\n",
    "\n",
    "Напишите программу, которая принимает на вход год, а на выход выдаёт количество дней в этом году.\n",
    "<br><br>\n",
    "*Формат ввода:* <br>\n",
    "2020<br><br>\n",
    "\n",
    "*Формат вывода:* <br>\n",
    "366"
   ]
  },
  {
   "cell_type": "markdown",
   "metadata": {
    "colab_type": "text",
    "id": "3RIf28qDB1Sh"
   },
   "source": [
    "**Рекомендации к выполнению задания:** вспомните свойство делимости для високосных годов."
   ]
  },
  {
   "cell_type": "code",
   "execution_count": 10,
   "metadata": {
    "colab": {},
    "colab_type": "code",
    "id": "Dk6PDx-jPzZP"
   },
   "outputs": [
    {
     "name": "stdout",
     "output_type": "stream",
     "text": [
      "2001\n",
      "365\n"
     ]
    }
   ],
   "source": [
    "year = int(input())\n",
    "if not year%400:\n",
    "    print(366)\n",
    "elif not year%100:\n",
    "    print(365)\n",
    "elif not year%4:\n",
    "    print(366)\n",
    "else:\n",
    "    print(365)\n",
    "\n"
   ]
  },
  {
   "cell_type": "markdown",
   "metadata": {
    "colab_type": "text",
    "id": "wFGBh0dYPzZV"
   },
   "source": [
    "### 4\n",
    "\n",
    "Напишите программу, которая на вход получает координаты двух клеток шахматной доски и выводит соощение о том, являются ли эти клетки одного цвета.\n",
    "<br><br>\n",
    "*Формат ввода:* <br>\n",
    "c2<br>\n",
    "e4<br><br>\n",
    "\n",
    "*Формат вывода:* <br>\n",
    "Клетки одинакового цвета"
   ]
  },
  {
   "cell_type": "markdown",
   "metadata": {
    "colab_type": "text",
    "id": "_VJtexxXB1Sk"
   },
   "source": [
    "**Рекомендации к выполнению задания:** попробуйте заметить закономерность о чётности и нечётности суммы координат клеток, если считать, что координаты клеток задаются только цифрами от 1 до 8. "
   ]
  },
  {
   "cell_type": "code",
   "execution_count": 13,
   "metadata": {
    "colab": {},
    "colab_type": "code",
    "id": "k-8POcqGPzZW"
   },
   "outputs": [
    {
     "name": "stdout",
     "output_type": "stream",
     "text": [
      "c3\n",
      "e4\n",
      "Клетки разного цвета\n"
     ]
    }
   ],
   "source": [
    "first_cell = input()\n",
    "second_cell = input()\n",
    "letters = ['a', 'b', 'c', 'd', 'e', 'f', 'g', 'h']\n",
    "first_sum = int(first_cell[1]) + letters.index(first_cell[0])\n",
    "second_sum = int(second_cell[1]) + letters.index(second_cell[0])\n",
    "if first_sum%2 == second_sum%2:\n",
    "    print('Клетки одинакового цвета')\n",
    "else:\n",
    "    print('Клетки разного цвета')"
   ]
  },
  {
   "cell_type": "markdown",
   "metadata": {
    "colab_type": "text",
    "id": "O594rz0tPzZb"
   },
   "source": [
    "### 5\n",
    "\n",
    "Напишите программу, которая на вход получает число, а на выходе сообщает, простое это число или составное.\n",
    "<br><br>\n",
    "*Формат ввода:* <br>\n",
    "169<br><br>\n",
    "\n",
    "*Формат вывода:* <br>\n",
    "Составное число"
   ]
  },
  {
   "cell_type": "markdown",
   "metadata": {
    "colab_type": "text",
    "id": "NQjUV04_B1So"
   },
   "source": [
    "**Рекомендации к выполнению задания:** помните, что простых чисел бесконечно много, а любое произведение простых чисел даёт составное число. "
   ]
  },
  {
   "cell_type": "code",
   "execution_count": 22,
   "metadata": {
    "colab": {},
    "colab_type": "code",
    "id": "-Oy1AesyPzZd"
   },
   "outputs": [
    {
     "name": "stdout",
     "output_type": "stream",
     "text": [
      "2\n",
      "Простое\n"
     ]
    }
   ],
   "source": [
    "number = int(input())\n",
    "simple = True\n",
    "i = 2\n",
    "while i <= number**0.5:\n",
    "    if not number%i:\n",
    "        simple = False\n",
    "        break\n",
    "    i +=1\n",
    "if simple:\n",
    "    print('Простое число')\n",
    "else:\n",
    "    print('Составное число')"
   ]
  },
  {
   "cell_type": "markdown",
   "metadata": {
    "colab_type": "text",
    "id": "QzBAQaW8PzZg"
   },
   "source": [
    "### 6\n",
    "\n",
    "Напишите программу, которая на вход получает целое число больше 2 и выводит по нему его наименьший натуральный делитель, отличный от 1.\n",
    "<br><br>\n",
    "*Формат ввода:* <br>\n",
    "169<br><br>\n",
    "\n",
    "*Формат вывода:* <br>\n",
    "13"
   ]
  },
  {
   "cell_type": "code",
   "execution_count": 77,
   "metadata": {
    "colab": {},
    "colab_type": "code",
    "id": "Z2QzgAYKPzZi"
   },
   "outputs": [
    {
     "name": "stdout",
     "output_type": "stream",
     "text": [
      "143\n",
      "11\n"
     ]
    }
   ],
   "source": [
    "number = int(input())\n",
    "i = 2\n",
    "while i <= number:\n",
    "    if not number%i:\n",
    "        print(i)\n",
    "        break\n",
    "    i += 1\n",
    "\n"
   ]
  },
  {
   "cell_type": "markdown",
   "metadata": {
    "colab_type": "text",
    "id": "Mdg_IAfFPzZk"
   },
   "source": [
    "### 7\n",
    "\n",
    "Напишите программу, которая поможет составить план тренировок для подготовки к марафону. Она получает на вход число километров на планируемом марафоне, сколько пользователь планирует пробежать в первый день тренировок и на сколько процентов планирует увеличивать каждый день это расстояние. На выходе программа должна выдавать, сколько дней пользователю потребуется для того, чтобы подготовиться пробежать целевое количество километров.\n",
    "<br><br>\n",
    "*Ограничение: нельзя пользоваться функцией `ceil()` из модуля `math` и её аналогами.*\n",
    "<br><br>\n",
    "*Формат ввода:* <br>\n",
    "12<br>\n",
    "3<br>\n",
    "10<br><br>\n",
    "\n",
    "*Формат вывода:* <br>\n",
    "16"
   ]
  },
  {
   "cell_type": "code",
   "execution_count": 37,
   "metadata": {},
   "outputs": [
    {
     "name": "stdout",
     "output_type": "stream",
     "text": [
      "12\n",
      "3\n",
      "10\n",
      "16\n"
     ]
    }
   ],
   "source": [
    "goal = int(input())\n",
    "distance = int(input())\n",
    "percent = int(input())/100\n",
    "day = 1\n",
    "while distance < goal:\n",
    "    distance *= (1 + percent)\n",
    "    day += 1\n",
    "    \n",
    "print(day)"
   ]
  },
  {
   "cell_type": "markdown",
   "metadata": {
    "colab_type": "text",
    "id": "sxKoWpYKPzZo"
   },
   "source": [
    "### 8\n",
    "\n",
    "Напишите программу, которая на вход получает число n и считает по нему сумму 1²+2²+3²+...+n².\n",
    "<br><br>\n",
    "*Ограничение: нельзя пользоваться функцией `sum()` и её аналогами.*\n",
    "\n",
    "*Формат ввода:* <br>\n",
    "3<br><br>\n",
    "\n",
    "*Формат вывода:* <br>\n",
    "14"
   ]
  },
  {
   "cell_type": "code",
   "execution_count": 7,
   "metadata": {
    "colab": {},
    "colab_type": "code",
    "id": "RiPlWLm6PzZp"
   },
   "outputs": [
    {
     "name": "stdout",
     "output_type": "stream",
     "text": [
      "3\n",
      "14\n"
     ]
    }
   ],
   "source": [
    "number = int(input())\n",
    "sum = 0\n",
    "for i in range(number+1):\n",
    "    sum += i**2\n",
    "    \n",
    "print(sum)\n",
    "\n",
    "\n"
   ]
  },
  {
   "cell_type": "markdown",
   "metadata": {
    "colab_type": "text",
    "id": "aXzG4-wdPzZr"
   },
   "source": [
    "## 9\n",
    "\n",
    "Напишите программу, которая на вход получает число n и считает по нему сумму сумму 1! + 2! + 3! + ... + n!\n",
    "<br><br>\n",
    "*Ограничение: нельзя пользоваться готовой функцией `factorial()` из модуля `math`, функцией `sum()` и их аналогами.*\n",
    "\n",
    "*Формат ввода:* <br>\n",
    "3<br><br>\n",
    "\n",
    "*Формат вывода:* <br>\n",
    "9"
   ]
  },
  {
   "cell_type": "code",
   "execution_count": 40,
   "metadata": {
    "colab": {},
    "colab_type": "code",
    "id": "KBEXUEDQPzZs"
   },
   "outputs": [
    {
     "name": "stdout",
     "output_type": "stream",
     "text": [
      "4\n",
      "33\n"
     ]
    }
   ],
   "source": [
    "def factorial(n):\n",
    "    result = 1\n",
    "    for i in range(1, n+1):\n",
    "        result = result * i\n",
    "        \n",
    "    return result\n",
    "\n",
    "number = int(input())\n",
    "result = 0\n",
    "for i in range(1, number+1):\n",
    "    result += factorial(i)\n",
    "    \n",
    "print(result)\n",
    "\n"
   ]
  },
  {
   "cell_type": "markdown",
   "metadata": {
    "colab_type": "text",
    "id": "4nsOuiWVPzZu"
   },
   "source": [
    "### 10\n",
    "\n",
    "Напишите программу, которая получает на вход последовательность чисел (каждое число с новой строки до того момента, пока пользователь не введёт 0) и считает количество чётных элементов в последовательности.\n",
    "<br><br>\n",
    "*Формат ввода:* <br>\n",
    "5<br>\n",
    "4<br>\n",
    "2<br>\n",
    "7<br>\n",
    "8<br>\n",
    "9<br>\n",
    "0<br><br>\n",
    "\n",
    "*Формат вывода:* <br>\n",
    "3"
   ]
  },
  {
   "cell_type": "code",
   "execution_count": 4,
   "metadata": {
    "colab": {},
    "colab_type": "code",
    "id": "xktF2cocPzZv"
   },
   "outputs": [
    {
     "name": "stdout",
     "output_type": "stream",
     "text": [
      "5\n",
      "4\n",
      "2\n",
      "7\n",
      "8\n",
      "9\n",
      "0\n",
      "3\n"
     ]
    }
   ],
   "source": [
    "counter = 0\n",
    "a = int(input())\n",
    "while a>0:\n",
    "    if not a%2:\n",
    "        counter += 1\n",
    "    a = int(input())\n",
    "    \n",
    "print(counter)\n",
    "\n"
   ]
  },
  {
   "cell_type": "markdown",
   "metadata": {
    "colab_type": "text",
    "id": "hyC9QGXPPzZx"
   },
   "source": [
    "### 11\n",
    "\n",
    "Напишите программу, которая формирует список игроков женской команды по мини-футболу. Программа должна записывать возраст и пол претендента. Возраст должен запрашиваться после пола и только в том случае, если пол претендента женский. Если пол претендента мужской, программа должна сообщать о том, что он не подходит. Возраст претенденток должен быть от 18 до 35 лет. Если кандидат удовлетворяет требованиям, должно появляться соответствующее сообщение. Всего в команде могут быть только шесть человек. Когда необходимое число набирается, запись закрывается и выводится сообщение «Запись в команду закрыта».\n"
   ]
  },
  {
   "cell_type": "code",
   "execution_count": 46,
   "metadata": {
    "colab": {},
    "colab_type": "code",
    "id": "qSDK-zQ4PzZx"
   },
   "outputs": [
    {
     "name": "stdout",
     "output_type": "stream",
     "text": [
      "женский\n",
      "12\n",
      "по возрасту не подходит, следующий\n",
      "мужской\n",
      "нам нужны девушки, следующий\n",
      "женский\n",
      "21\n",
      "берем!\n",
      "женский\n",
      "23\n",
      "берем!\n",
      "женский\n",
      "25\n",
      "берем!\n",
      "женский\n",
      "27\n",
      "берем!\n",
      "женский\n",
      "30\n",
      "берем!\n",
      "женский\n",
      "38\n",
      "по возрасту не подходит, следующий\n",
      "женский\n",
      "35\n",
      "берем!\n",
      "Запись в команду закрыта\n",
      "[[21, 'женский'], [23, 'женский'], [25, 'женский'], [27, 'женский'], [30, 'женский'], [35, 'женский']]\n"
     ]
    }
   ],
   "source": [
    "girls_list = []\n",
    "while len(girls_list)<6:\n",
    "    sex = input()\n",
    "    if sex=='женский':\n",
    "        age = int(input())\n",
    "        if 36 > age > 17:\n",
    "            print('берем!')\n",
    "            girls_list.append([age, sex])\n",
    "        else:\n",
    "            print('по возрасту не подходит, следующий')\n",
    "    else:\n",
    "        print('нам нужны девушки, следующий')\n",
    "\n",
    "print('Запись в команду закрыта')\n",
    "print(girls_list)"
   ]
  },
  {
   "cell_type": "markdown",
   "metadata": {
    "colab_type": "text",
    "id": "B4JAB8AqPzZ0"
   },
   "source": [
    "### 12\n",
    "\n",
    "\n",
    "Напишите программу, которая на вход получает максимальную ширину ромба и рисует его. Гарантируется, что входное число всегда нечётное.\n",
    "<br><br>\n",
    "\n",
    "*Формат ввода:* <br>\n",
    "5<br><br>\n",
    "\n",
    "*Формат вывода:* <br>\n",
    "```  \n",
    "  *\n",
    " ***\n",
    "*****\n",
    " ***\n",
    "  *```"
   ]
  },
  {
   "cell_type": "markdown",
   "metadata": {
    "colab_type": "text",
    "id": "74kwD7s7B1S6"
   },
   "source": [
    "**Рекомендации к выполнению задания:** Внимательно изучите рисунок из примера, попробуйте заметить закономерность, по которой он строится."
   ]
  },
  {
   "cell_type": "code",
   "execution_count": 72,
   "metadata": {
    "colab": {},
    "colab_type": "code",
    "id": "WVp7O75oPzZ0"
   },
   "outputs": [
    {
     "name": "stdout",
     "output_type": "stream",
     "text": [
      "7\n",
      "   *   \n",
      "  ***  \n",
      " ***** \n",
      "*******\n",
      " ***** \n",
      "  ***  \n",
      "   *   \n"
     ]
    }
   ],
   "source": [
    "side = int(input())\n",
    "cells = [[] for i in range(side)]\n",
    "for j in range(side):\n",
    "    cells[j] = [' ' for i in range(side)]\n",
    "for i in range(side//2+1):\n",
    "    for j in range(side//2-i, side//2+i+1):\n",
    "        cells[i][j] = '*'\n",
    "        cells[side-i-1][j] = '*'\n",
    "for i in range(side):\n",
    "    for j in range(side):\n",
    "        print(cells[i][j], end='')\n",
    "    print('', end='\\n')"
   ]
  },
  {
   "cell_type": "markdown",
   "metadata": {
    "colab_type": "text",
    "id": "xrIXWj0yPzZ2"
   },
   "source": [
    "### 13\n",
    "\n",
    "Напишите программу, которая запрашивает у пользователя сторону квадрата и символ, а затем рисует этот символ по диагоналям квадрата. Гарантируется, что входное число всегда нечётное.\n",
    "<br><br>\n",
    "\n",
    "*Формат ввода:* <br>\n",
    "5<br>\n",
    "\\#<br><br>\n",
    "\n",
    "*Формат вывода:* <br>\n",
    "```\n",
    " \n",
    "#   #\n",
    " # #\n",
    "  #  \n",
    " # #\n",
    "#   #\n",
    "```"
   ]
  },
  {
   "cell_type": "markdown",
   "metadata": {
    "colab_type": "text",
    "id": "ITzL6HrwB1S9"
   },
   "source": [
    "**Рекомендации к выполнению задания:** внимательно изучите рисунок из примера, попробуйте заметить закономерность, по которой он строится."
   ]
  },
  {
   "cell_type": "code",
   "execution_count": 75,
   "metadata": {
    "colab": {},
    "colab_type": "code",
    "id": "oUKNB9TaPzZ3"
   },
   "outputs": [
    {
     "name": "stdout",
     "output_type": "stream",
     "text": [
      "5\n",
      "#\n",
      "#   #\n",
      " # # \n",
      "  #  \n",
      " # # \n",
      "#   #\n"
     ]
    }
   ],
   "source": [
    "side = int(input())\n",
    "symbol = input()\n",
    "cells = [[] for i in range(side)]\n",
    "for j in range(side):\n",
    "    cells[j] = [' ' for i in range(side)]\n",
    "for i in range(side//2+1):\n",
    "    cells[i][i] = symbol\n",
    "    cells[i][side-i-1] = symbol\n",
    "    cells[side-i-1][i] = symbol\n",
    "    cells[side-i-1][side-i-1] = symbol\n",
    "for i in range(side):\n",
    "    for j in range(side):\n",
    "        print(cells[i][j], end='')\n",
    "    print('', end='\\n')"
   ]
  },
  {
   "cell_type": "markdown",
   "metadata": {
    "colab_type": "text",
    "id": "3GaiPsFYPzZ_"
   },
   "source": [
    "### 14\n",
    "\n",
    "В корзине лежат шары. Если разложить их в кучи по два, останется один. Если разложить в кучи по три, останется один. Если разложить в кучи по четыре, останется один. Если разложить в кучи по пять, останется один. Если разложить в кучи по шесть, останется один. Если разложить в кучи по семь, не будет остатка. Нужно найти минимальное количество шаров, удовлетворяющее условию.  <br>"
   ]
  },
  {
   "cell_type": "code",
   "execution_count": 49,
   "metadata": {
    "colab": {},
    "colab_type": "code",
    "id": "V2msEhQkPzZ_"
   },
   "outputs": [
    {
     "name": "stdout",
     "output_type": "stream",
     "text": [
      "301\n"
     ]
    }
   ],
   "source": [
    "i = 2\n",
    "while i:\n",
    "    if i%2==1:\n",
    "        if i%3==1:\n",
    "            if i%4==1:\n",
    "                if i%5==1:\n",
    "                    if i%6==1:\n",
    "                        if not i%7:\n",
    "                            print(i)\n",
    "                            break\n",
    "    i += 1"
   ]
  },
  {
   "cell_type": "markdown",
   "metadata": {
    "colab_type": "text",
    "id": "5pOjlON-PzaC"
   },
   "source": [
    "### 15\n",
    "\n",
    "Рабочие клеили обои на стены. Первую стену поклеили за M минут, а каждую следующую клеили на пять минут дольше, чем предыдущую.\n",
    "Напишите программу, которая запрашивает, сколько стен было в квартире под поклейку, а также время работы с первой стеной в минутах. Программа должна выводить, сколько **часов** рабочие потратили на поклейку обоев во всей квартире. Час отсчитывается с первой минуты. Ответом должно быть целое число. \n",
    "<br><br>\n",
    "*Ограничение: нельзя пользоваться готовыми функциями `bool()`, `floor()` и их аналогами.*\n",
    "<br><br>\n",
    "*Формат ввода:* <br>\n",
    "6<br>\n",
    "10<br><br>\n",
    "\n",
    "*Формат вывода:* <br>\n",
    "3"
   ]
  },
  {
   "cell_type": "code",
   "execution_count": 52,
   "metadata": {
    "colab": {},
    "colab_type": "code",
    "id": "Pmu96rWGPzaD"
   },
   "outputs": [
    {
     "name": "stdout",
     "output_type": "stream",
     "text": [
      "6\n",
      "10\n",
      "3\n"
     ]
    }
   ],
   "source": [
    "walls = int(input())\n",
    "first_wall = int(input())\n",
    "sum = first_wall\n",
    "for i in range(walls):\n",
    "    sum += first_wall + (i+1) * 5\n",
    "print(sum//60 if not sum%60 else sum//60+1)"
   ]
  },
  {
   "cell_type": "markdown",
   "metadata": {
    "colab_type": "text",
    "id": "63C6Za3CPzaF"
   },
   "source": [
    "### 16\n",
    "\n",
    "Напишите программу, которая убирает из списка повторяющиеся элементы. Программа должна запрашивать на вход слова, каждое с новой строки, пока пользователь не введёт пустую строку. Затем должна выводить список без повторяющихся элементов. \n",
    "<br><br>\n",
    "*Ограничение: нельзя пользоваться готовой функцией `set()` и её аналогами.*\n",
    "\n",
    "<br><br>\n",
    "*Формат ввода:* <br>\n",
    "Алиса<br>\n",
    "Алиса<br>\n",
    "Алиса<br>\n",
    "Петя<br>\n",
    "<br><br>\n",
    "\n",
    "*Формат вывода:* <br>\n",
    "[Алиса, Петя]"
   ]
  },
  {
   "cell_type": "markdown",
   "metadata": {
    "colab_type": "text",
    "id": "xwewurzYB1TF"
   },
   "source": [
    "**Рекомендации к выполнению задания:** попробуйте использовать проверку на включённость."
   ]
  },
  {
   "cell_type": "code",
   "execution_count": 53,
   "metadata": {
    "colab": {},
    "colab_type": "code",
    "id": "MQ-eDkbAPzaG"
   },
   "outputs": [
    {
     "name": "stdout",
     "output_type": "stream",
     "text": [
      "Алиса\n",
      "Алиса\n",
      "Алиса\n",
      "Петя\n",
      "\n",
      "['Алиса', 'Петя']\n"
     ]
    }
   ],
   "source": [
    "words_list = []\n",
    "a = input()\n",
    "words_list.append(a)\n",
    "while a:\n",
    "    if not words_list.count(a):\n",
    "        words_list.append(a)\n",
    "    a = input()\n",
    "print(words_list)\n",
    "\n"
   ]
  },
  {
   "cell_type": "markdown",
   "metadata": {
    "colab_type": "text",
    "id": "jueSDORaPzaI"
   },
   "source": [
    "### 17\n",
    "\n",
    "Напишите программу, которая выводит число пар одинаковых элементов в списке. При этом, если два элемента образовали пару, они не могут вступить в пару с другими элементами. Программа должна запрашивать на вход слова, каждое с новой строки, пока пользователь не введёт пустую строку. \n",
    "<br><br>\n",
    "*Формат ввода:* <br>\n",
    "Алиса<br>\n",
    "Алиса<br>\n",
    "Алиса<br>\n",
    "<br><br>\n",
    "\n",
    "*Формат вывода:* <br>\n",
    "1"
   ]
  },
  {
   "cell_type": "markdown",
   "metadata": {
    "colab_type": "text",
    "id": "gpQuU1lnB1TH"
   },
   "source": [
    "**Рекомендации к выполнению задания:** попробуйте использовать проверку на включённость."
   ]
  },
  {
   "cell_type": "code",
   "execution_count": 81,
   "metadata": {
    "colab": {},
    "colab_type": "code",
    "id": "49tbEr3NPzaJ"
   },
   "outputs": [
    {
     "name": "stdout",
     "output_type": "stream",
     "text": [
      "Алиса\n",
      "Алиса\n",
      "Алиса\n",
      "Алиса\n",
      "Алиса\n",
      "Петр\n",
      "Петр\n",
      "Петр\n",
      "Александр\n",
      "Александр\n",
      "\n",
      "['Алиса', 'Алиса', 'Алиса', 'Алиса', 'Алиса', 'Петр', 'Петр', 'Петр', 'Александр', 'Александр']\n",
      "['Алиса', 'Петр', 'Александр']\n",
      "4\n"
     ]
    }
   ],
   "source": [
    "words_list = []\n",
    "words_list_unique = []\n",
    "a = input()\n",
    "words_list_unique.append(a)\n",
    "while a:\n",
    "    if not words_list_unique.count(a):\n",
    "        words_list_unique.append(a)\n",
    "    words_list.append(a)\n",
    "    a = input()\n",
    "counter = 0\n",
    "for i in words_list_unique:\n",
    "    counter += words_list.count(i)//2\n",
    "print(words_list)\n",
    "print(words_list_unique)\n",
    "print(counter)\n"
   ]
  },
  {
   "cell_type": "markdown",
   "metadata": {
    "colab_type": "text",
    "id": "yVLcBrD-PzaN"
   },
   "source": [
    "### 18\n",
    "\n",
    "Будем считать, что кубик может иметь неограниченное количество граней (натуральное число). Напишите программу, которая запрашивает, сколько граней имеется у двух разных кубиков. Затем выводит все возможные комбинации результатов бросков двух таких кубиков. \n",
    "<br><br>\n",
    "*Формат ввода:* <br>\n",
    "3<br>\n",
    "4<br><br>\n",
    "\n",
    "*Формат вывода:* <br>\n",
    "1 1<br>\n",
    "1 2<br>\n",
    "1 3<br>\n",
    "1 4<br>\n",
    "2 1<br>\n",
    "2 2<br>\n",
    "2 3<br>\n",
    "2 4<br>\n",
    "3 1<br>\n",
    "3 2<br>\n",
    "3 3<br>\n",
    "3 4<br>"
   ]
  },
  {
   "cell_type": "markdown",
   "metadata": {
    "colab_type": "text",
    "id": "5aAs5EsFB1TK"
   },
   "source": [
    "**Рекомендации к выполнению задания:** попробуйте использовать вложенные циклы."
   ]
  },
  {
   "cell_type": "code",
   "execution_count": 1,
   "metadata": {
    "colab": {},
    "colab_type": "code",
    "id": "7I2va0KwPzaR"
   },
   "outputs": [
    {
     "name": "stdout",
     "output_type": "stream",
     "text": [
      "3\n",
      "4\n",
      "1 1\n",
      "1 2\n",
      "1 3\n",
      "1 4\n",
      "2 1\n",
      "2 2\n",
      "2 3\n",
      "2 4\n",
      "3 1\n",
      "3 2\n",
      "3 3\n",
      "3 4\n"
     ]
    }
   ],
   "source": [
    "a = int(input())\n",
    "b = int(input())\n",
    "for i in range(a):\n",
    "    for j in range(b):\n",
    "        print(f'{i+1} {j+1}')"
   ]
  }
 ],
 "metadata": {
  "colab": {
   "collapsed_sections": [],
   "name": "jun_anl_loops_and_ifs.ipynb",
   "provenance": []
  },
  "kernelspec": {
   "display_name": "Python 3",
   "language": "python",
   "name": "python3"
  },
  "language_info": {
   "codemirror_mode": {
    "name": "ipython",
    "version": 3
   },
   "file_extension": ".py",
   "mimetype": "text/x-python",
   "name": "python",
   "nbconvert_exporter": "python",
   "pygments_lexer": "ipython3",
   "version": "3.8.3"
  }
 },
 "nbformat": 4,
 "nbformat_minor": 1
}
