{
 "cells": [
  {
   "cell_type": "markdown",
   "metadata": {
    "colab_type": "text",
    "id": "c2KtXmjxtgw-"
   },
   "source": [
    "# Исключения\n",
    "## Домашняя работа"
   ]
  },
  {
   "cell_type": "markdown",
   "metadata": {
    "colab_type": "text",
    "id": "0Vhx-zKitgxA"
   },
   "source": [
    "### Вопросы по лекциям."
   ]
  },
  {
   "cell_type": "markdown",
   "metadata": {
    "colab_type": "text",
    "id": "14lleKewtgxC"
   },
   "source": [
    "Как поймать вообще все ошибки, которые могут произойти?"
   ]
  },
  {
   "cell_type": "markdown",
   "metadata": {
    "colab_type": "text",
    "id": "VQnYGkVKtgxD"
   },
   "source": [
    "**Ответ:**\n",
    "try:\n",
    "    ...\n",
    "except:\n",
    "    ..."
   ]
  },
  {
   "cell_type": "markdown",
   "metadata": {
    "colab_type": "text",
    "id": "paSc2JE6tgxD"
   },
   "source": [
    "Сколько раз подряд можно указывать except?"
   ]
  },
  {
   "cell_type": "markdown",
   "metadata": {
    "colab_type": "text",
    "id": "bU0lzJPBtgxE"
   },
   "source": [
    "**Ответ:**\n",
    "в теории - бесконечное количество раз (не надо так, лучше продумай код)"
   ]
  },
  {
   "cell_type": "markdown",
   "metadata": {
    "colab_type": "text",
    "id": "9wQ-yXpGtgxF"
   },
   "source": [
    "Вы хотите с помощью print вывести название ошибки в консоль, как это сделать?"
   ]
  },
  {
   "cell_type": "markdown",
   "metadata": {
    "colab_type": "text",
    "id": "iE1iqRZctgxH"
   },
   "source": [
    "**Ответ:**\n",
    "try:\n",
    "    ...\n",
    "except #ТипОшибки as exc:\n",
    "    print(f'{exc})"
   ]
  },
  {
   "cell_type": "markdown",
   "metadata": {
    "colab_type": "text",
    "id": "EDAi3ZFBtgxI"
   },
   "source": [
    "Вы хотите с помощью print вывести параметры ошибки в консоль, как это сделать?"
   ]
  },
  {
   "cell_type": "markdown",
   "metadata": {
    "colab_type": "text",
    "id": "qWimgtF3tgxK"
   },
   "source": [
    "**Ответ:**\n",
    "try:\n",
    "    ...\n",
    "except #ТипОшибки as exc:\n",
    "    print(f'{exc.args})"
   ]
  },
  {
   "cell_type": "markdown",
   "metadata": {
    "colab_type": "text",
    "id": "leOCJIlRtgxK"
   },
   "source": [
    "Что такое DeprecationWarning?"
   ]
  },
  {
   "cell_type": "markdown",
   "metadata": {
    "colab_type": "text",
    "id": "KyaynuyvtgxL"
   },
   "source": [
    "**Ответ:**\n",
    "Используют для обозначения старых функций и библиотек (имеется в виду, что разработчики уже написали новую), но по причине опасности просто взять и удалить для старой функции пишут такое предупреждение, которое позволяет заодно отловить все места, где еще используется старая функция/библиотека"
   ]
  },
  {
   "cell_type": "markdown",
   "metadata": {
    "colab_type": "text",
    "id": "oxgCUHzotgxM"
   },
   "source": [
    "### Разминочные задания. \n",
    "<br>\n",
    "\n",
    "Вам даны две функции. Поисследуйте, какие ошибки могут возникнуть при их реализации. Обработайте эти ошибки."
   ]
  },
  {
   "cell_type": "code",
   "execution_count": 1,
   "metadata": {
    "colab": {},
    "colab_type": "code",
    "id": "X4nsMUUAtgxN"
   },
   "outputs": [],
   "source": [
    "def div():\n",
    "    for i in range(2):\n",
    "        k = 3\n",
    "        while k:\n",
    "            try:\n",
    "                x = int(input(\"enter a number: \"))\n",
    "            except ValueError: # вводят не число, попыток - 3\n",
    "                k -= 1\n",
    "                print('I asked for number! You have {k} more attempt')\n",
    "        k = 3\n",
    "        while k:\n",
    "            try:\n",
    "                y = int(input(\"enter another number: \"))\n",
    "            except ValueError: # вводят не число, попыток - 3\n",
    "                k -= 1\n",
    "                print('I asked for number! You have {k} more attempt') \n",
    "        try:\n",
    "            print(x, '/', y, '=', x/y)\n",
    "        except ZeroDivisionError: # y = 0\n",
    "            print(f'I have divided by zero because x = {x} and y = {y}')\n",
    "        except NameError: # вводят не число, попыток - 3\n",
    "            print(\"I can't divide because you do not give me numbers!\")\n"
   ]
  },
  {
   "cell_type": "code",
   "execution_count": 12,
   "metadata": {
    "colab": {},
    "colab_type": "code",
    "id": "hoDmt-nStgxS"
   },
   "outputs": [
    {
     "name": "stdout",
     "output_type": "stream",
     "text": [
      "3 and a are having different types\n",
      "sumOfPairs =  []\n"
     ]
    }
   ],
   "source": [
    "def sumOfPairs(L1, L2):\n",
    "    sum = 0\n",
    "    sumOfPairs = []\n",
    "    try:\n",
    "        for i in range(len(L1)):\n",
    "            sumOfPairs.append(L1[i]+L2[i])\n",
    "    except TypeError:\n",
    "        print(f\"{L1[i]} and {L2[i]} are having different types. I will do nothing\")\n",
    "    except IndexError:\n",
    "        pass\n",
    "    print(\"sumOfPairs = \", sumOfPairs)\n",
    "    \n",
    "sumOfPairs([3,'b'],['a'])"
   ]
  },
  {
   "cell_type": "markdown",
   "metadata": {
    "colab_type": "text",
    "id": "geX0-Zq6tgxU"
   },
   "source": [
    "### Задание 1.\n",
    "\n",
    "Есть файл с протоколом регистраций пользователей на сайте (registrations.txt).<br>\n",
    "Каждая строка содержит информацию о имени, электронной почте и возрасте человека. <br><br>\n",
    "\n",
    "\n",
    "Надо проверить данные из файла, для каждой строки:\n",
    " - присутсвуют все три поля\n",
    " - поле имени содержит только буквы\n",
    " - поле email содержит @ и .\n",
    " - поле возраст является числом от 10 до 99<br>\n",
    "\n",
    "В результате проверки нужно сформировать два файла\n",
    " - registrations_good.log для правильных данных, записывать строки как есть\n",
    "- registrations_bad.log для ошибочных, записывать строку и вид ошибки.<br>\n",
    "\n",
    "Для валидации строки данных написать метод, который может выкидывать исключения:\n",
    " - НЕ присутсвуют все три поля: ValueError\n",
    " - поле имени содержит НЕ только буквы: NotNameError (кастомное исключение)\n",
    " - поле email НЕ содержит @ и .(точку): NotEmailError (кастомное исключение)\n",
    " - поле возраст НЕ является числом от 10 до 99: ValueError\n",
    "Вызов метода обернуть в try-except."
   ]
  },
  {
   "cell_type": "code",
   "execution_count": 8,
   "metadata": {
    "colab": {},
    "colab_type": "code",
    "id": "Eq2Ax0LntgxW"
   },
   "outputs": [],
   "source": [
    "all = []\n",
    "good = []\n",
    "bad = []\n",
    "show_error = False\n",
    "with open('registrations_.txt', encoding='utf-8') as reg:\n",
    "    for i in reg:\n",
    "        all.append(i.strip())\n",
    "\n",
    "        \n",
    "class NotNameError(Exception):\n",
    "    def __init__(self):\n",
    "        pass\n",
    "\n",
    "class NotEmailError(Exception):\n",
    "    def __init__(self):\n",
    "        pass\n",
    "\n",
    "def findError(string, show_error=False):\n",
    "    line = string.split(' ')\n",
    "    if len(line) != 3:\n",
    "        if show_error:\n",
    "            raise ValueError\n",
    "        else:\n",
    "            return 'ValueError'\n",
    "    for i in line[0]:\n",
    "        if not i.isalpha():\n",
    "            if show_error:\n",
    "                raise NotNameError\n",
    "            else:\n",
    "                return 'NotNameError'\n",
    "    try:\n",
    "        age = int(line[2])\n",
    "    except ValueError:\n",
    "        if show_error:\n",
    "            raise ValueError\n",
    "        else:\n",
    "            return 'ValueError'\n",
    "    if 10 > age or age > 99:\n",
    "        if show_error:\n",
    "            raise ValueError\n",
    "        else:\n",
    "            return 'ValueError'\n",
    "    email = line[1]\n",
    "    sobachka_number = 0\n",
    "    dot_number = 0\n",
    "    for i in email:\n",
    "        if i == \"@\":\n",
    "            sobachka_number += 1\n",
    "        elif i == '.':\n",
    "            dot_number += 1\n",
    "    if not (sobachka_number == 1 and dot_number == 1):\n",
    "        if show_error:\n",
    "            raise NotEmailError\n",
    "        else:\n",
    "            return 'NotEmailError'\n",
    "\n",
    "for i in range(len(all)):\n",
    "    result = findError(all[i], show_error)\n",
    "    if result is None:\n",
    "        good.append(all[i])\n",
    "    else:\n",
    "        bad.append([all[i], result])\n",
    "\n",
    "with open('registrations_good.log', 'w', encoding='utf-8') as reg:\n",
    "    for i in range(len(good)):\n",
    "        reg.writelines(good[i]+'\\n')\n",
    "\n",
    "with open('registrations_bad.log', 'w', encoding='utf-8') as reg:\n",
    "    for i in range(len(bad)):\n",
    "        reg.writelines(bad[i][0]+' '+bad[i][1]+'\\n')"
   ]
  }
 ],
 "metadata": {
  "colab": {
   "name": "jun_anl_exeptions.ipynb",
   "provenance": [],
   "version": "0.3.2"
  },
  "kernelspec": {
   "display_name": "Python 3",
   "language": "python",
   "name": "python3"
  },
  "language_info": {
   "codemirror_mode": {
    "name": "ipython",
    "version": 3
   },
   "file_extension": ".py",
   "mimetype": "text/x-python",
   "name": "python",
   "nbconvert_exporter": "python",
   "pygments_lexer": "ipython3",
   "version": "3.8.3"
  }
 },
 "nbformat": 4,
 "nbformat_minor": 1
}
