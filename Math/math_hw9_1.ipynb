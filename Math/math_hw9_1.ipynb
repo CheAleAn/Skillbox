{
 "cells": [
  {
   "cell_type": "code",
   "execution_count": 1,
   "metadata": {},
   "outputs": [],
   "source": [
    "from sympy import *\n",
    "import numpy as np"
   ]
  },
  {
   "cell_type": "code",
   "execution_count": 8,
   "metadata": {},
   "outputs": [
    {
     "name": "stdout",
     "output_type": "stream",
     "text": [
      "[ 96 180   0 324 288 360  72 126  60 126]\n"
     ]
    }
   ],
   "source": [
    "a1 = np.array([2,5,0,6,8,10,6,7,5,7])\n",
    "a2 = np.array([8,6,7,9,6,6,2,3,2,3])\n",
    "print(3*a1*2*a2)"
   ]
  },
  {
   "cell_type": "code",
   "execution_count": 9,
   "metadata": {},
   "outputs": [
    {
     "name": "stdout",
     "output_type": "stream",
     "text": [
      "[   0  360  420 1260    0  240 1440  720   30  480]\n"
     ]
    }
   ],
   "source": [
    "a1 = np.array([9,6,7,7,0,1,6,8,1,2])\n",
    "a2 = np.array([0,2,2,6,7,8,8,3,1,8])\n",
    "print(6*a1*5*a2)"
   ]
  },
  {
   "cell_type": "code",
   "execution_count": 11,
   "metadata": {},
   "outputs": [
    {
     "name": "stdout",
     "output_type": "stream",
     "text": [
      "[16 30  0 54 48 60 12 21 10 21]\n"
     ]
    }
   ],
   "source": [
    "a1 = np.array([2,5,0,6,8,10,6,7,5,7])\n",
    "a2 = np.array([8,6,7,9,6,6,2,3,2,3])\n",
    "print(a1*a2)"
   ]
  },
  {
   "cell_type": "code",
   "execution_count": 12,
   "metadata": {},
   "outputs": [
    {
     "name": "stdout",
     "output_type": "stream",
     "text": [
      "[ 0 12 14 42  0  8 48 24  1 16]\n"
     ]
    }
   ],
   "source": [
    "a1 = np.array([9,6,7,7,0,1,6,8,1,2])\n",
    "a2 = np.array([0,2,2,6,7,8,8,3,1,8])\n",
    "print(a1*a2)"
   ]
  },
  {
   "cell_type": "code",
   "execution_count": 6,
   "metadata": {},
   "outputs": [
    {
     "name": "stdout",
     "output_type": "stream",
     "text": [
      "[[ 3.  2.]\n",
      " [ 7.  5.]\n",
      " [ 8.  9.]\n",
      " [ 3.  4.]\n",
      " [ 6. 13.]]\n",
      "[[ 2.  5.  9. 11.]\n",
      " [ 1.  6.  8. 14.]\n",
      " [ 7.  7.  2. 15.]\n",
      " [ 4.  3. 12. 15.]]\n"
     ]
    }
   ],
   "source": [
    "def transponirovanie(matrix):\n",
    "    sizes = np.shape(matrix)\n",
    "    new_matrix = np.zeros((sizes[1],sizes[0]))\n",
    "    for i in range(sizes[0]):\n",
    "        for j in range(sizes[1]):\n",
    "            new_matrix[j][i] = matrix[i][j]\n",
    "            \n",
    "    return new_matrix\n",
    "\n",
    "matrix = [[3,7,8,3,6],\n",
    "         [2,5,9,4,13]]\n",
    "print(transponirovanie(matrix))\n",
    "matrix = [[2,1,7,4],\n",
    "         [5,6,7,3],\n",
    "         [9,8,2,12],\n",
    "         [11,14,15,15]]\n",
    "print(transponirovanie(matrix))"
   ]
  },
  {
   "cell_type": "code",
   "execution_count": 28,
   "metadata": {},
   "outputs": [
    {
     "name": "stdout",
     "output_type": "stream",
     "text": [
      "19.5*a1 + 23.0*a2 - 39.5 23.0*a1 + 39.0*a2 - 62.0\n"
     ]
    }
   ],
   "source": [
    "a1, a2 = symbols('a1 a2')\n",
    "MSE=0.25 * ((a1 + 2*a2 - 5)**2 +\n",
    "           (5*a1 + 3*a2 - 6)**2 +\n",
    "           (2*a1 + 4*a2 - 10)**2 +\n",
    "           (3*a1 + 7*a2 - 8)**2)\n",
    "MSEa1 = diff(MSE, a1)\n",
    "MSEa2 = diff(MSE, a2)\n",
    "grad_MSE = np.array([MSEa1,MSEa2])\n",
    "print(MSEa1, MSEa2)"
   ]
  },
  {
   "cell_type": "code",
   "execution_count": 29,
   "metadata": {},
   "outputs": [
    {
     "name": "stdout",
     "output_type": "stream",
     "text": [
      "56.2500000000000\n",
      "-39.5000000000000 -62.0000000000000\n"
     ]
    }
   ],
   "source": [
    "print(MSE.subs({a1:0, a2:0}))\n",
    "print(grad_MSE[0].subs({a1:0, a2:0}), grad_MSE[1].subs({a1:0, a2:0}))"
   ]
  },
  {
   "cell_type": "code",
   "execution_count": 40,
   "metadata": {},
   "outputs": [
    {
     "name": "stdout",
     "output_type": "stream",
     "text": [
      "Следующий шаг\n",
      "Градиент равен [-39.5000000000000, -62.0000000000000]\n",
      "Новые коэф-ты равны [0.395000000000000, 0.620000000000000]\n",
      "Новое значение MSE равно 16.8572437500000\n",
      "\n",
      "Следующий шаг\n",
      "Градиент равен [-17.5375000000000, -28.7350000000000]\n",
      "Новые коэф-ты равны [0.570375000000000, 0.907350000000000]\n",
      "Новое значение MSE равно 8.59365482859375\n",
      "\n",
      "Следующий шаг\n",
      "Градиент равен [-7.50863750000000, -13.4947250000000]\n",
      "Новые коэф-ты равны [0.645461375000000, 1.04229725000000]\n",
      "Новое значение MSE равно 6.85191449679269\n",
      "\n",
      "Следующий шаг\n",
      "Градиент равен [-2.94066643750000, -6.50479562500000]\n",
      "Новые коэф-ты равны [0.674868039375000, 1.10734520625000]\n",
      "Новое значение MSE равно 6.47725148826285\n",
      "\n",
      "Следующий шаг\n",
      "Градиент равен [-0.871133488437501, -3.29157205062501]\n",
      "Новые коэф-ты равны [0.683579374259375, 1.14026092675625]\n",
      "Новое значение MSE равно 6.38978037646670\n",
      "\n",
      "Следующий шаг\n",
      "Градиент равен [0.0557991134515632, -1.80749824854063]\n",
      "Новые коэф-ты равны [0.683021383124860, 1.15833590924166]\n",
      "Новое значение MSE равно 6.36322055427526\n",
      "\n",
      "Следующий шаг\n",
      "Градиент равен [0.460642883492852, -1.11540772770364]\n",
      "Новые коэф-ты равны [0.678414954289931, 1.16948998651869]\n",
      "Новое значение MSE равно 6.35010849011797\n",
      "\n",
      "Достигли необходимой точности\n"
     ]
    }
   ],
   "source": [
    "result = MSE.subs({a1:0, a2:0})\n",
    "a = 0\n",
    "b = 0\n",
    "while result>=6.36:\n",
    "    print('Следующий шаг')\n",
    "    print(f'Градиент равен [{grad_MSE[0].subs({a1:a, a2:b})}, {grad_MSE[1].subs({a1:a, a2:b})}]')\n",
    "    x = (-1) * grad_MSE[0].subs({a1:a, a2:b}) * 0.01\n",
    "    y = (-1) * grad_MSE[1].subs({a1:a, a2:b}) * 0.01 \n",
    "    a += x\n",
    "    b += y\n",
    "    print(f'Новые коэф-ты равны [{a}, {b}]')\n",
    "    result = MSE.subs({a1:a, a2:b})\n",
    "    print(f'Новое значение MSE равно {result}\\n')        \n",
    "print('Достигли необходимой точности')"
   ]
  }
 ],
 "metadata": {
  "kernelspec": {
   "display_name": "Python 3",
   "language": "python",
   "name": "python3"
  },
  "language_info": {
   "codemirror_mode": {
    "name": "ipython",
    "version": 3
   },
   "file_extension": ".py",
   "mimetype": "text/x-python",
   "name": "python",
   "nbconvert_exporter": "python",
   "pygments_lexer": "ipython3",
   "version": "3.8.3"
  }
 },
 "nbformat": 4,
 "nbformat_minor": 4
}
