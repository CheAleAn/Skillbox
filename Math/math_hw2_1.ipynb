{
 "cells": [
  {
   "cell_type": "code",
   "execution_count": 1,
   "metadata": {},
   "outputs": [],
   "source": [
    "from sympy import *\n",
    "import numpy as np"
   ]
  },
  {
   "cell_type": "code",
   "execution_count": 25,
   "metadata": {},
   "outputs": [],
   "source": [
    "def first_func(x):\n",
    "    sum = 0\n",
    "    for i in range(1, x+1):\n",
    "        sum += np.log(i)\n",
    "        \n",
    "    return np.around(sum, decimals=3)"
   ]
  },
  {
   "cell_type": "code",
   "execution_count": 51,
   "metadata": {},
   "outputs": [],
   "source": [
    "def second_func(x):\n",
    "    #sum = np.log(second_func_add(x))\n",
    "    return np.around(np.log(second_func_add(x)), decimals=3)\n",
    "def second_func_add(x):\n",
    "    if x==1:\n",
    "        return x\n",
    "    else:\n",
    "        return x*second_func_add(x-1)"
   ]
  },
  {
   "cell_type": "code",
   "execution_count": 55,
   "metadata": {},
   "outputs": [
    {
     "name": "stdout",
     "output_type": "stream",
     "text": [
      "Functions equals for 1-20\n"
     ]
    }
   ],
   "source": [
    "count = 0\n",
    "for i in range(1, 20):\n",
    "    first = first_func(i)\n",
    "    second = second_func(i)\n",
    "    if first-second:        \n",
    "        print(f'For {i} first func give us {first} and second func gives us {second}')\n",
    "        count += 1\n",
    "if not count:\n",
    "    print('Functions equals for 1-20')"
   ]
  },
  {
   "cell_type": "markdown",
   "metadata": {},
   "source": [
    "Функции дают одинаковый результат т.к. используется свойство логарифма log(b*c) = log(b) + log(c)"
   ]
  }
 ],
 "metadata": {
  "kernelspec": {
   "display_name": "Python 3",
   "language": "python",
   "name": "python3"
  },
  "language_info": {
   "codemirror_mode": {
    "name": "ipython",
    "version": 3
   },
   "file_extension": ".py",
   "mimetype": "text/x-python",
   "name": "python",
   "nbconvert_exporter": "python",
   "pygments_lexer": "ipython3",
   "version": "3.8.3"
  }
 },
 "nbformat": 4,
 "nbformat_minor": 4
}
