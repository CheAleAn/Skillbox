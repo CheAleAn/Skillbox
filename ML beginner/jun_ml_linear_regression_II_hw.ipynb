{
 "cells": [
  {
   "cell_type": "markdown",
   "metadata": {
    "id": "idnfa1hXYUOh"
   },
   "source": [
    "### Урок 3. Домашняя работа\n",
    "\n",
    "**Задание простого уровня** Загрузите данные из файла `non_linear.csv` и сгенерируйте данные до степени *degree = 8* включительно. Обучите модель `sklearn.linear_model.Lasso` и модель `sklearn.linear_model.Ridge` на полученных данных, используйте коэффициент регуляризации $\\alpha=0.8$ для обеих моделей. Постройте два столбчатых графика, на которых отобразите величину коэффициентов для Ridge регрессии и Lasso регрессии в виде столбиков.\n",
    "\n",
    "Пример графиков для 3-й степени (просто для примера, у вас может по-другому выглядеть). Какой можно сделать в вывод по величине коэффициентов?:\n",
    "![coeff_example](https://pp.userapi.com/c850136/v850136613/19282c/OfwruuxOkPw.jpg)"
   ]
  },
  {
   "cell_type": "code",
   "execution_count": 2,
   "metadata": {
    "id": "bYGmSdz4YUOh",
    "slideshow": {
     "slide_type": "-"
    }
   },
   "outputs": [
    {
     "data": {
      "text/html": [
       "<div>\n",
       "<style scoped>\n",
       "    .dataframe tbody tr th:only-of-type {\n",
       "        vertical-align: middle;\n",
       "    }\n",
       "\n",
       "    .dataframe tbody tr th {\n",
       "        vertical-align: top;\n",
       "    }\n",
       "\n",
       "    .dataframe thead th {\n",
       "        text-align: right;\n",
       "    }\n",
       "</style>\n",
       "<table border=\"1\" class=\"dataframe\">\n",
       "  <thead>\n",
       "    <tr style=\"text-align: right;\">\n",
       "      <th></th>\n",
       "      <th>x_train</th>\n",
       "      <th>y_train</th>\n",
       "    </tr>\n",
       "  </thead>\n",
       "  <tbody>\n",
       "    <tr>\n",
       "      <th>0</th>\n",
       "      <td>0.138368</td>\n",
       "      <td>0.838812</td>\n",
       "    </tr>\n",
       "    <tr>\n",
       "      <th>1</th>\n",
       "      <td>0.157237</td>\n",
       "      <td>0.889313</td>\n",
       "    </tr>\n",
       "    <tr>\n",
       "      <th>2</th>\n",
       "      <td>0.188684</td>\n",
       "      <td>1.430040</td>\n",
       "    </tr>\n",
       "    <tr>\n",
       "      <th>3</th>\n",
       "      <td>0.685553</td>\n",
       "      <td>1.717309</td>\n",
       "    </tr>\n",
       "    <tr>\n",
       "      <th>4</th>\n",
       "      <td>0.874237</td>\n",
       "      <td>2.032588</td>\n",
       "    </tr>\n",
       "  </tbody>\n",
       "</table>\n",
       "</div>"
      ],
      "text/plain": [
       "    x_train   y_train\n",
       "0  0.138368  0.838812\n",
       "1  0.157237  0.889313\n",
       "2  0.188684  1.430040\n",
       "3  0.685553  1.717309\n",
       "4  0.874237  2.032588"
      ]
     },
     "execution_count": 2,
     "metadata": {},
     "output_type": "execute_result"
    }
   ],
   "source": [
    "# -- ВАШ КОД ТУТ\n",
    "\n",
    "import pandas as pd\n",
    "import numpy as np\n",
    "from sklearn.model_selection import train_test_split\n",
    "from sklearn.linear_model import Ridge, Lasso\n",
    "from sklearn.metrics import mean_squared_error\n",
    "import matplotlib.pyplot as plt\n",
    "data = pd.read_csv('non_linear.csv', sep=',')\n",
    "data.head()"
   ]
  },
  {
   "cell_type": "code",
   "execution_count": 32,
   "metadata": {
    "scrolled": true
   },
   "outputs": [
    {
     "name": "stdout",
     "output_type": "stream",
     "text": [
      "Степень 1\n",
      "Качество на валидации для Ridge: 0.300\n",
      "Качество на обучении для Ridge: 0.313\n",
      "Качество на валидации для Lasso: 0.728\n",
      "Качество на обучении для Lasso: 0.313\n",
      "\n",
      "Коэф-ты для модели Lasso: [ 1.00376848 -0.03759175]\n"
     ]
    },
    {
     "data": {
      "image/png": "[encoded data removed]",
      "text/plain": [
       "<Figure size 432x288 with 1 Axes>"
      ]
     },
     "metadata": {
      "needs_background": "light"
     },
     "output_type": "display_data"
    },
    {
     "name": "stdout",
     "output_type": "stream",
     "text": [
      "Коэф-ты для модели Ridge: [ 1.84289246 -0.30576698]\n"
     ]
    },
    {
     "data": {
      "image/png": "[encoded data removed]",
      "text/plain": [
       "<Figure size 432x288 with 1 Axes>"
      ]
     },
     "metadata": {
      "needs_background": "light"
     },
     "output_type": "display_data"
    },
    {
     "name": "stdout",
     "output_type": "stream",
     "text": [
      "Степень 2\n",
      "Качество на валидации для Ridge: 0.306\n",
      "Качество на обучении для Ridge: 0.301\n",
      "Качество на валидации для Lasso: 0.368\n",
      "Качество на обучении для Lasso: 0.301\n",
      "\n",
      "Коэф-ты для модели Lasso: [ 1.36469434 -0.         -0.03753033]\n"
     ]
    },
    {
     "data": {
      "image/png": "[encoded data removed]",
      "text/plain": [
       "<Figure size 432x288 with 1 Axes>"
      ]
     },
     "metadata": {
      "needs_background": "light"
     },
     "output_type": "display_data"
    },
    {
     "name": "stdout",
     "output_type": "stream",
     "text": [
      "Коэф-ты для модели Ridge: [ 2.03496903 -0.49129413  0.03046341]\n"
     ]
    },
    {
     "data": {
      "image/png": "[encoded data removed]",
      "text/plain": [
       "<Figure size 432x288 with 1 Axes>"
      ]
     },
     "metadata": {
      "needs_background": "light"
     },
     "output_type": "display_data"
    },
    {
     "name": "stdout",
     "output_type": "stream",
     "text": [
      "Степень 3\n",
      "Качество на валидации для Ridge: 0.136\n",
      "Качество на обучении для Ridge: 0.086\n",
      "Качество на валидации для Lasso: 0.368\n",
      "Качество на обучении для Lasso: 0.086\n",
      "\n",
      "Коэф-ты для модели Lasso: [ 1.36469434 -0.         -0.03753033  0.        ]\n"
     ]
    },
    {
     "data": {
      "image/png": "[encoded data removed]",
      "text/plain": [
       "<Figure size 432x288 with 1 Axes>"
      ]
     },
     "metadata": {
      "needs_background": "light"
     },
     "output_type": "display_data"
    },
    {
     "name": "stdout",
     "output_type": "stream",
     "text": [
      "Коэф-ты для модели Ridge: [ 1.3263695   1.11018404 -0.65460439  0.07636474]\n"
     ]
    },
    {
     "data": {
      "image/png": "[encoded data removed]",
      "text/plain": [
       "<Figure size 432x288 with 1 Axes>"
      ]
     },
     "metadata": {
      "needs_background": "light"
     },
     "output_type": "display_data"
    },
    {
     "name": "stdout",
     "output_type": "stream",
     "text": [
      "Степень 4\n",
      "Качество на валидации для Ridge: 0.143\n",
      "Качество на обучении для Ridge: 0.089\n",
      "Качество на валидации для Lasso: 0.186\n",
      "Качество на обучении для Lasso: 0.089\n",
      "\n",
      "Коэф-ты для модели Lasso: [ 1.71228176 -0.         -0.         -0.05743205  0.0088938 ]\n"
     ]
    },
    {
     "data": {
      "image/png": "[encoded data removed]",
      "text/plain": [
       "<Figure size 432x288 with 1 Axes>"
      ]
     },
     "metadata": {
      "needs_background": "light"
     },
     "output_type": "display_data"
    },
    {
     "name": "stdout",
     "output_type": "stream",
     "text": [
      "Коэф-ты для модели Ridge: [ 1.3196657   0.69749913 -0.19110731 -0.06583295  0.01291777]\n"
     ]
    },
    {
     "data": {
      "image/png": "[encoded data removed]",
      "text/plain": [
       "<Figure size 432x288 with 1 Axes>"
      ]
     },
     "metadata": {
      "needs_background": "light"
     },
     "output_type": "display_data"
    },
    {
     "name": "stdout",
     "output_type": "stream",
     "text": [
      "Степень 5\n",
      "Качество на валидации для Ridge: 0.119\n",
      "Качество на обучении для Ridge: 0.071\n",
      "Качество на валидации для Lasso: 0.181\n",
      "Качество на обучении для Lasso: 0.071\n",
      "\n",
      "Коэф-ты для модели Lasso: [ 1.68336054 -0.         -0.         -0.01877485 -0.00795247  0.00177192]\n"
     ]
    },
    {
     "name": "stderr",
     "output_type": "stream",
     "text": [
      "C:\\Users\\sasha\\anaconda3\\lib\\site-packages\\sklearn\\linear_model\\_coordinate_descent.py:529: ConvergenceWarning: Objective did not converge. You might want to increase the number of iterations. Duality gap: 0.9220399818266349, tolerance: 0.0023724726826114813\n",
      "  model = cd_fast.enet_coordinate_descent(\n"
     ]
    },
    {
     "data": {
      "image/png": "[encoded data removed]",
      "text/plain": [
       "<Figure size 432x288 with 1 Axes>"
      ]
     },
     "metadata": {
      "needs_background": "light"
     },
     "output_type": "display_data"
    },
    {
     "name": "stdout",
     "output_type": "stream",
     "text": [
      "Коэф-ты для модели Ridge: [ 1.19919601  0.64774159  0.26513431 -0.37688694  0.08484665 -0.00542867]\n"
     ]
    },
    {
     "data": {
      "image/png": "[encoded data removed]",
      "text/plain": [
       "<Figure size 432x288 with 1 Axes>"
      ]
     },
     "metadata": {
      "needs_background": "light"
     },
     "output_type": "display_data"
    },
    {
     "name": "stdout",
     "output_type": "stream",
     "text": [
      "Степень 6\n",
      "Качество на валидации для Ridge: 0.124\n",
      "Качество на обучении для Ridge: 0.073\n",
      "Качество на валидации для Lasso: 0.195\n",
      "Качество на обучении для Lasso: 0.073\n",
      "\n",
      "Коэф-ты для модели Lasso: [ 1.63465431e+00 -0.00000000e+00 -0.00000000e+00 -4.77544126e-03\n",
      " -9.85677982e-03  8.84099627e-04  1.39241534e-04]\n"
     ]
    },
    {
     "name": "stderr",
     "output_type": "stream",
     "text": [
      "C:\\Users\\sasha\\anaconda3\\lib\\site-packages\\sklearn\\linear_model\\_coordinate_descent.py:529: ConvergenceWarning: Objective did not converge. You might want to increase the number of iterations. Duality gap: 0.6158320292886921, tolerance: 0.0023724726826114813\n",
      "  model = cd_fast.enet_coordinate_descent(\n"
     ]
    },
    {
     "data": {
      "image/png": "[encoded data removed]",
      "text/plain": [
       "<Figure size 432x288 with 1 Axes>"
      ]
     },
     "metadata": {
      "needs_background": "light"
     },
     "output_type": "display_data"
    },
    {
     "name": "stdout",
     "output_type": "stream",
     "text": [
      "Коэф-ты для модели Ridge: [ 1.20720292e+00  6.03125801e-01  2.29849265e-01 -2.84652441e-01\n",
      "  3.86751479e-02  3.33904143e-03 -5.73606831e-04]\n"
     ]
    },
    {
     "data": {
      "image/png": "[encoded data removed]",
      "text/plain": [
       "<Figure size 432x288 with 1 Axes>"
      ]
     },
     "metadata": {
      "needs_background": "light"
     },
     "output_type": "display_data"
    },
    {
     "name": "stdout",
     "output_type": "stream",
     "text": [
      "Степень 7\n",
      "Качество на валидации для Ridge: 0.095\n",
      "Качество на обучении для Ridge: 0.065\n",
      "Качество на валидации для Lasso: 0.191\n",
      "Качество на обучении для Lasso: 0.065\n",
      "\n",
      "Коэф-ты для модели Lasso: [ 1.64402720e+00 -0.00000000e+00 -0.00000000e+00 -8.40497438e-03\n",
      " -8.90300728e-03  8.88166308e-04  1.40915601e-04 -2.14001394e-06]\n"
     ]
    },
    {
     "name": "stderr",
     "output_type": "stream",
     "text": [
      "C:\\Users\\sasha\\anaconda3\\lib\\site-packages\\sklearn\\linear_model\\_coordinate_descent.py:529: ConvergenceWarning: Objective did not converge. You might want to increase the number of iterations. Duality gap: 2.990522232556099, tolerance: 0.0023724726826114813\n",
      "  model = cd_fast.enet_coordinate_descent(\n"
     ]
    },
    {
     "data": {
      "image/png": "[encoded data removed]",
      "text/plain": [
       "<Figure size 432x288 with 1 Axes>"
      ]
     },
     "metadata": {
      "needs_background": "light"
     },
     "output_type": "display_data"
    },
    {
     "name": "stdout",
     "output_type": "stream",
     "text": [
      "Коэф-ты для модели Ridge: [ 1.15473190e+00  4.93344183e-01  3.44974037e-01 -1.22072549e-02\n",
      " -2.74539918e-01  1.20630007e-01 -1.91833548e-02  1.07148585e-03]\n"
     ]
    },
    {
     "data": {
      "image/png": "[encoded data removed]",
      "text/plain": [
       "<Figure size 432x288 with 1 Axes>"
      ]
     },
     "metadata": {
      "needs_background": "light"
     },
     "output_type": "display_data"
    },
    {
     "name": "stdout",
     "output_type": "stream",
     "text": [
      "Степень 8\n",
      "Качество на валидации для Ridge: 0.093\n",
      "Качество на обучении для Ridge: 0.066\n",
      "Качество на валидации для Lasso: 0.182\n",
      "Качество на обучении для Lasso: 0.066\n",
      "\n",
      "Коэф-ты для модели Lasso: [ 1.66930610e+00 -0.00000000e+00 -0.00000000e+00 -1.16503461e-02\n",
      " -9.00745106e-03  9.67746874e-04  1.69816500e-04  3.64052558e-06\n",
      " -1.68659140e-06]\n"
     ]
    },
    {
     "name": "stderr",
     "output_type": "stream",
     "text": [
      "C:\\Users\\sasha\\anaconda3\\lib\\site-packages\\sklearn\\linear_model\\_coordinate_descent.py:529: ConvergenceWarning: Objective did not converge. You might want to increase the number of iterations. Duality gap: 3.3424421783785396, tolerance: 0.0023724726826114813\n",
      "  model = cd_fast.enet_coordinate_descent(\n"
     ]
    },
    {
     "data": {
      "image/png": "[encoded data removed]",
      "text/plain": [
       "<Figure size 432x288 with 1 Axes>"
      ]
     },
     "metadata": {
      "needs_background": "light"
     },
     "output_type": "display_data"
    },
    {
     "name": "stdout",
     "output_type": "stream",
     "text": [
      "Коэф-ты для модели Ridge: [ 1.16277109e+00  4.62550153e-01  3.02487034e-01 -2.34829622e-03\n",
      " -1.83847217e-01  4.49770236e-02  4.77529567e-03 -2.31002328e-03\n",
      "  1.78104459e-04]\n"
     ]
    },
    {
     "data": {
      "image/png": "[encoded data removed]",
      "text/plain": [
       "<Figure size 432x288 with 1 Axes>"
      ]
     },
     "metadata": {
      "needs_background": "light"
     },
     "output_type": "display_data"
    }
   ],
   "source": [
    "global_result = dict()\n",
    "for i in range(1,9):\n",
    "    degree = i\n",
    "    def generate_degrees(source_data: list, degree: int):\n",
    "        return np.array([\n",
    "              source_data**n for n in range(1, degree + 1)  \n",
    "        ]).T\n",
    "    X = generate_degrees(data['x_train'], degree)\n",
    "    y = data.y_train.values\n",
    "    X_train, X_valid, y_train, y_valid = train_test_split(X, y, test_size=0.2, random_state=25)\n",
    "    model_Ridge = Ridge(alpha=0.8).fit(X_train, y_train)\n",
    "    y_pred_Ridge = model_Ridge.predict(X_valid)\n",
    "    y_pred_train_Ridge = model_Ridge.predict(X_train)\n",
    "    model_Lasso = Lasso(alpha=0.8).fit(X_train, y_train)\n",
    "    y_pred_Lasso = model_Lasso.predict(X_valid)\n",
    "    y_pred_train_Lasso = model_Ridge.predict(X_train)\n",
    "    print(f'Степень {degree}')\n",
    "    print(f\"Качество на валидации для Ridge: {mean_squared_error(y_valid, y_pred_Ridge):.3f}\")\n",
    "    print(f\"Качество на обучении для Ridge: {mean_squared_error(y_train, y_pred_train_Ridge):.3f}\")\n",
    "    print(f\"Качество на валидации для Lasso: {mean_squared_error(y_valid, y_pred_Lasso):.3f}\")\n",
    "    print(f\"Качество на обучении для Lasso: {mean_squared_error(y_train, y_pred_train_Lasso):.3f}\\n\")\n",
    "    global_result[degree] = [mean_squared_error(y_valid, y_pred_Ridge),\n",
    "                            mean_squared_error(y_train, y_pred_train_Ridge),\n",
    "                            mean_squared_error(y_valid, y_pred_Lasso),\n",
    "                            mean_squared_error(y_train, y_pred_train_Lasso)]\n",
    "    Lasso_koef = model_Lasso.coef_\n",
    "    Lasso_koef= np.insert(Lasso_koef,0,model_Lasso.intercept_)\n",
    "    plt.bar(np.arange(Lasso_koef.shape[0]), Lasso_koef)   \n",
    "    print(f'Коэф-ты для модели Lasso: {Lasso_koef}')\n",
    "    plt.show()\n",
    "    Ridge_koef = model_Ridge.coef_\n",
    "    Ridge_koef= np.insert(Ridge_koef,0,model_Ridge.intercept_)\n",
    "    plt.bar(np.arange(Ridge_koef.shape[0]), Ridge_koef)   \n",
    "    print(f'Коэф-ты для модели Ridge: {Ridge_koef}')\n",
    "    plt.show()"
   ]
  },
  {
   "cell_type": "code",
   "execution_count": 36,
   "metadata": {},
   "outputs": [
    {
     "name": "stdout",
     "output_type": "stream",
     "text": [
      "degree, [Ridge valid, Ridge train, Lasso valid,  Lasso train]\n",
      "1 [0.2998325632805917, 0.31260785918892464, 0.7280898474989115, 0.31260785918892464]\n",
      "2 [0.3055989910531406, 0.301415291050606, 0.3680209088272126, 0.301415291050606]\n",
      "3 [0.1362208234484157, 0.086361788516025, 0.3680209088272126, 0.086361788516025]\n",
      "4 [0.14314832597811997, 0.08894653086767627, 0.18624561131123324, 0.08894653086767627]\n",
      "5 [0.11933320438663239, 0.0707268060242548, 0.18071034530482394, 0.0707268060242548]\n",
      "6 [0.12419045627171339, 0.07287371297680616, 0.19533875679908844, 0.07287371297680616]\n",
      "7 [0.09463376788826519, 0.06493010009620484, 0.19128360003074146, 0.06493010009620484]\n",
      "8 [0.09323280464526465, 0.06638495552822037, 0.1817343184163281, 0.06638495552822037]\n"
     ]
    }
   ],
   "source": [
    "print('degree, [Ridge valid, Ridge train, Lasso valid,  Lasso train]')\n",
    "for i in global_result.keys():\n",
    "    print(i, global_result[i])"
   ]
  },
  {
   "cell_type": "markdown",
   "metadata": {},
   "source": [
    "Для модели Ridge с увеличением степени остается сильная зависимость от свободного члена, при этом достаточно сильно влияют и зависимые от фичей коэф-ты, Это позволяет делать сложную модель предсказания, которая увеличивала точность при увеличении степени (точнее не ухудшала). Также говорит, что до 8 степени эта модель именно учится, а не переучается. Отметит, что на четных степенях модель давала чуть более худшую оценку.\n",
    "Для модели Lasso единственный коэф, который решает задачу - свободный член, остальные настолько малы, что можно не учитывать. Предположу, что по этой причине эта модель дает хуже предсказания для рассматриваемых данных (не гибкая, по сути y=5 (условно)). Также после 2х качественных скачков модель остановилась в качестве предсказания для неизвестных данных. Учитывая, что другая модель при усложнении становилась лучше (на нечетных степенях), можно предположить, что необходимо изменять настройки модели или отказаться от нее для предоставленных данных."
   ]
  },
  {
   "cell_type": "markdown",
   "metadata": {},
   "source": [
    "### Урок 8. Домашняя работа\n",
    "\n",
    "**Задание среднего уровня** Примените градиентный спуск к задаче прогнозирования цен на недвижимость в Бостоне. Какого качества на валидации удалось достичь по r2-score? Сколько итераций  понадобилось?"
   ]
  },
  {
   "cell_type": "code",
   "execution_count": 3,
   "metadata": {},
   "outputs": [],
   "source": [
    "from sklearn.datasets import load_boston\n",
    "boston_dataset = load_boston()\n",
    "X = boston_dataset.data\n",
    "y = boston_dataset.target\n",
    "X_train, X_test, y_train, y_test = train_test_split(X, y, test_size=0.2, random_state=10)\n",
    "# -- ВАШ КОД ТУТ --"
   ]
  },
  {
   "cell_type": "code",
   "execution_count": 22,
   "metadata": {},
   "outputs": [
    {
     "name": "stdout",
     "output_type": "stream",
     "text": [
      "-1.119705473941679e+22\n"
     ]
    },
    {
     "data": {
      "image/png": "[encoded data removed]",
      "text/plain": [
       "<Figure size 432x288 with 1 Axes>"
      ]
     },
     "metadata": {
      "needs_background": "light"
     },
     "output_type": "display_data"
    }
   ],
   "source": [
    "from sklearn.metrics import r2_score\n",
    "from sklearn.linear_model import SGDRegressor\n",
    "from scipy.spatial import distance\n",
    "\n",
    "sgd_regressor = SGDRegressor(learning_rate='constant', \n",
    "                             eta0=0.0001, \n",
    "                             fit_intercept=True, \n",
    "                             random_state=20)\n",
    "w_current, epsilon = np.random.random(13), 5\n",
    "weight_evolution, r2_score_evolution = [], [] # изменения весов и ошибка на валидации\n",
    "for step in list(range(800)):\n",
    "    sgd_regressor = sgd_regressor.partial_fit(X_train, y_train)\n",
    "    weight_evolution.append(distance.euclidean(w_current, sgd_regressor.coef_))\n",
    "    if weight_evolution[-1]<epsilon:\n",
    "        print(\"Итерации остановлены на шаге %d\" % step); break\n",
    "    r2_score_evolution.append(r2_score(y_test, sgd_regressor.predict(X_test)))\n",
    "    w_current = sgd_regressor.coef_.copy()\n",
    "plt.plot(range(step+1), r2_score_evolution)\n",
    "print(max(r2_score_evolution))"
   ]
  },
  {
   "cell_type": "markdown",
   "metadata": {},
   "source": [
    "Предположил, что и должны получить плохую оценку, поэтому не стал играть с коэф-ми. Отмечаем, что веса оч сильно скачут (при епсилон = 5 функция не остановилась), ошибка по r2_score велика (-1*22 порядка!), что говорит о большой неточности предсказания (в идеале хотим получить 1)"
   ]
  },
  {
   "cell_type": "markdown",
   "metadata": {},
   "source": [
    "### Урок 12. Домашняя работа\n",
    "\n",
    "**Задача высокого уровня** В реализацию функции `gradient` добавьте параметр $\\lambda$, чтобы получить регуляризованный градиентный спуск\n",
    "\n",
    "Формула поменяется следующим образом:\n",
    "$$\n",
    "\\left\\{\n",
    "\\begin{array}{cc}\n",
    "\\frac{\\partial L}{\\partial w_0} = \\frac{2}{n}\\cdot(-1)\\cdot \\sum_{i=1}^{n} (1\\cdot \\left(y_i - \\sum_{j=1}^{m}w_jx_j^i\\right) + \\lambda\\cdot 2\\cdot w_0)&\\\\\n",
    "\\frac{\\partial L}{\\partial w_k} = \\frac{2}{n}\\cdot(-1)\\cdot \\sum_{i=1}^{n} (x_k^i \\cdot\\left(y_i - \\sum_{j=1}^{m}w_jx_j^i\\right) + \\lambda\\cdot 2\\cdot w_k)& k\\neq 0 \\\\\n",
    "\\end{array}\n",
    "\\right.\n",
    "$$"
   ]
  },
  {
   "cell_type": "code",
   "execution_count": 43,
   "metadata": {},
   "outputs": [],
   "source": [
    "from scipy.spatial import distance\n",
    "import numpy as np\n",
    "import matplotlib.pyplot as plt\n",
    "%matplotlib inline\n",
    "\n",
    "def gradient_lmbda(X, y, w, lmbda) -> np.array:\n",
    "    # количество обучающих примеров в выборке\n",
    "    n = X.shape[0]\n",
    "    # считаем прогноз\n",
    "    y_hat = X.dot(w.T)\n",
    "    print(y_hat)\n",
    "    # вычисляем ошибку прогноза\n",
    "    error = y - y_hat\n",
    "    # дальше pointwise перемножение - умножаем каждую из координат на ошибку\n",
    "    grad = (np.multiply(X, error) + lmbda*2*w.T).sum(axis=0)*(-1.0)*2.0 / n\n",
    "    return grad, error"
   ]
  }
 ],
 "metadata": {
  "celltoolbar": "Slideshow",
  "colab": {
   "collapsed_sections": [],
   "name": "jun_ml_linear_regression_II_hw_3.ipynb",
   "provenance": []
  },
  "kernelspec": {
   "display_name": "Python 3",
   "language": "python",
   "name": "python3"
  },
  "language_info": {
   "codemirror_mode": {
    "name": "ipython",
    "version": 3
   },
   "file_extension": ".py",
   "mimetype": "text/x-python",
   "name": "python",
   "nbconvert_exporter": "python",
   "pygments_lexer": "ipython3",
   "version": "3.8.3"
  }
 },
 "nbformat": 4,
 "nbformat_minor": 1
}
