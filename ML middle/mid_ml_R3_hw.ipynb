{
 "cells": [
  {
   "cell_type": "markdown",
   "metadata": {
    "id": "Qx7gD5SOa0oT"
   },
   "source": [
    "# Домашнее задание\n",
    "\n",
    "В этом домашнем задании вам предстоит обучить модель классификации рукописных цифр на Tensorflow.\n",
    "\n",
    "Важным дополнительным требованием будет сохранение чекпоинтов на ваш гугл диск (не переживайтеЖ ниже будут подсказки, как это сделать). Это пригодится вам в дальнейшем при обучении более сложных моделей, на случай потери данных при неожиданном отключении Colab."
   ]
  },
  {
   "cell_type": "code",
   "execution_count": 1,
   "metadata": {
    "colab": {
     "base_uri": "https://localhost:8080/"
    },
    "executionInfo": {
     "elapsed": 2585,
     "status": "ok",
     "timestamp": 1620861212558,
     "user": {
      "displayName": "Александр Чернавин",
      "photoUrl": "",
      "userId": "12809599521665994243"
     },
     "user_tz": -180
    },
    "id": "tRPzy1zPDyYD",
    "outputId": "6eb9935e-699e-477e-e353-5e42e04d379a"
   },
   "outputs": [
    {
     "name": "stdout",
     "output_type": "stream",
     "text": [
      "2.4.1\n"
     ]
    }
   ],
   "source": [
    "import tensorflow as tf\n",
    "print(tf.__version__)\n",
    "from google.colab import drive\n",
    "from pathlib import Path\n",
    "import matplotlib.pyplot as plt\n",
    "import numpy as np\n",
    "\n",
    "#tf.enable_eager_execution()"
   ]
  },
  {
   "cell_type": "code",
   "execution_count": 55,
   "metadata": {
    "executionInfo": {
     "elapsed": 734,
     "status": "ok",
     "timestamp": 1620867821784,
     "user": {
      "displayName": "Александр Чернавин",
      "photoUrl": "",
      "userId": "12809599521665994243"
     },
     "user_tz": -180
    },
    "id": "dFjoXlmJYyJJ"
   },
   "outputs": [],
   "source": [
    "#@title \n",
    "def show_mnist(images, labels, predicted_labels=None):\n",
    "    plt.figure(figsize=(10,10))\n",
    "    for i in range(16):\n",
    "        plt.subplot(4,4, i+1)\n",
    "        plt.xticks([])\n",
    "        plt.yticks([])\n",
    "        plt.grid(False)\n",
    "        plt.imshow(images[i], cmap=plt.cm.gray)\n",
    "        if predicted_labels is not None:\n",
    "            title_obj = plt.title(f\"Real: {labels[i]}. Pred: {predicted_labels[i]}\")\n",
    "            if labels[i] != predicted_labels[i]:\n",
    "                plt.setp(title_obj, color='r')\n",
    "        else:\n",
    "            plt.title(f\"Real label: {labels[i]}\")\n",
    "\n",
    "def show_progress(history: dict):\n",
    "    plt.figure(figsize=(10, 5))\n",
    "    ax1 = plt.subplot(1,2,1)    \n",
    "    plt.plot(history[\"accuracy\"],label='train accuracy')\n",
    "    plt.plot(history[\"val_accuracy\"], label='test accuracy')\n",
    "    ax2 = plt.subplot(1,2,2)\n",
    "    plt.plot(history[\"loss\"],label='train_loss')\n",
    "    plt.plot(history[\"val_loss\"],label='test_loss')\n",
    "    \n",
    "    ax1.legend(loc='best')\n",
    "    ax2.legend(loc='best')\n",
    "    plt.grid()\n",
    "    plt.tight_layout()\n",
    "    plt.show()"
   ]
  },
  {
   "cell_type": "markdown",
   "metadata": {
    "id": "nL_nICZ4cMOx"
   },
   "source": [
    "## Загрузка данных"
   ]
  },
  {
   "cell_type": "code",
   "execution_count": 3,
   "metadata": {
    "colab": {
     "base_uri": "https://localhost:8080/",
     "height": 628
    },
    "executionInfo": {
     "elapsed": 1995,
     "status": "ok",
     "timestamp": 1620861228355,
     "user": {
      "displayName": "Александр Чернавин",
      "photoUrl": "",
      "userId": "12809599521665994243"
     },
     "user_tz": -180
    },
    "id": "AcMON-_rWqdK",
    "outputId": "2b64669f-d2d3-4b22-b270-602574b670d5"
   },
   "outputs": [
    {
     "name": "stdout",
     "output_type": "stream",
     "text": [
      "Downloading data from https://storage.googleapis.com/tensorflow/tf-keras-datasets/mnist.npz\n",
      "11493376/11490434 [==============================] - 0s 0us/step\n"
     ]
    },
    {
     "data": {
      "image/png": "[encoded data removed]",
      "text/plain": [
       "<Figure size 720x720 with 16 Axes>"
      ]
     },
     "metadata": {
      "tags": []
     },
     "output_type": "display_data"
    }
   ],
   "source": [
    "(x_train, y_train),(x_test, y_test) = tf.keras.datasets.mnist.load_data()\n",
    "x_train, x_test = x_train / 255.0, x_test / 255.0\n",
    "\n",
    "show_mnist(x_train, y_train)\n",
    "x_train = x_train.reshape((-1, 28*28)) \n",
    "x_test = x_test.reshape((-1, 28*28))\n"
   ]
  },
  {
   "cell_type": "code",
   "execution_count": 4,
   "metadata": {
    "colab": {
     "base_uri": "https://localhost:8080/"
    },
    "executionInfo": {
     "elapsed": 18937,
     "status": "ok",
     "timestamp": 1620861251898,
     "user": {
      "displayName": "Александр Чернавин",
      "photoUrl": "",
      "userId": "12809599521665994243"
     },
     "user_tz": -180
    },
    "id": "D9_g86msEud4",
    "outputId": "d6ea1710-2bee-465b-9400-a73406f5e9a5"
   },
   "outputs": [
    {
     "name": "stdout",
     "output_type": "stream",
     "text": [
      "Mounted at /content/drive/\n"
     ]
    }
   ],
   "source": [
    "drive.mount('/content/drive/')"
   ]
  },
  {
   "cell_type": "code",
   "execution_count": 5,
   "metadata": {
    "executionInfo": {
     "elapsed": 572,
     "status": "ok",
     "timestamp": 1620861255891,
     "user": {
      "displayName": "Александр Чернавин",
      "photoUrl": "",
      "userId": "12809599521665994243"
     },
     "user_tz": -180
    },
    "id": "0yVUAhqPVVet"
   },
   "outputs": [],
   "source": [
    "path = Path(\"/content/drive/My Drive/Skillbox/ML средний/hw3/\")\n",
    "path.mkdir(exist_ok=True, parents=True)\n",
    "assert path.exists()\n",
    "cpt_filename = \"best_checkpoint.hdf5\"  \n",
    "cpt_path = str(path / cpt_filename)"
   ]
  },
  {
   "cell_type": "markdown",
   "metadata": {
    "id": "L1RVxtPzgr_g"
   },
   "source": [
    "А весь код ниже вы реализуете самостоятельно! Вы уже к этому готовы :)\n",
    "Требования к модели:\n",
    "1. Точность на тестовой части выборки >96%\n",
    "2. Чекпоинт модели с лучшими параметрами должен быть сохранен у вас на гугл диске\n",
    "3. Объект history, который получается из model.fit(...) должен содержать значения лосса и accuracy для трейна и теста"
   ]
  },
  {
   "cell_type": "code",
   "execution_count": 52,
   "metadata": {
    "colab": {
     "base_uri": "https://localhost:8080/"
    },
    "executionInfo": {
     "elapsed": 112267,
     "status": "ok",
     "timestamp": 1620867782705,
     "user": {
      "displayName": "Александр Чернавин",
      "photoUrl": "",
      "userId": "12809599521665994243"
     },
     "user_tz": -180
    },
    "id": "oAHxE8wpEKD5",
    "outputId": "c59396f9-93da-485e-ca8f-29308a4440ce"
   },
   "outputs": [
    {
     "name": "stdout",
     "output_type": "stream",
     "text": [
      "Epoch 1/40\n",
      "1875/1875 - 3s - loss: 0.5874 - accuracy: 0.8339 - val_loss: 0.3733 - val_accuracy: 0.8946\n",
      "\n",
      "Epoch 00001: val_accuracy improved from -inf to 0.89460, saving model to /content/drive/My Drive/Skillbox/ML средний/hw3/best_checkpoint.hdf5\n",
      "Epoch 2/40\n",
      "1875/1875 - 3s - loss: 0.3613 - accuracy: 0.9006 - val_loss: 0.3219 - val_accuracy: 0.9132\n",
      "\n",
      "Epoch 00002: val_accuracy improved from 0.89460 to 0.91320, saving model to /content/drive/My Drive/Skillbox/ML средний/hw3/best_checkpoint.hdf5\n",
      "Epoch 3/40\n",
      "1875/1875 - 3s - loss: 0.3070 - accuracy: 0.9172 - val_loss: 0.2837 - val_accuracy: 0.9252\n",
      "\n",
      "Epoch 00003: val_accuracy improved from 0.91320 to 0.92520, saving model to /content/drive/My Drive/Skillbox/ML средний/hw3/best_checkpoint.hdf5\n",
      "Epoch 4/40\n",
      "1875/1875 - 3s - loss: 0.2647 - accuracy: 0.9285 - val_loss: 0.2725 - val_accuracy: 0.9263\n",
      "\n",
      "Epoch 00004: val_accuracy improved from 0.92520 to 0.92630, saving model to /content/drive/My Drive/Skillbox/ML средний/hw3/best_checkpoint.hdf5\n",
      "Epoch 5/40\n",
      "1875/1875 - 3s - loss: 0.2338 - accuracy: 0.9353 - val_loss: 0.2393 - val_accuracy: 0.9354\n",
      "\n",
      "Epoch 00005: val_accuracy improved from 0.92630 to 0.93540, saving model to /content/drive/My Drive/Skillbox/ML средний/hw3/best_checkpoint.hdf5\n",
      "Epoch 6/40\n",
      "1875/1875 - 3s - loss: 0.2089 - accuracy: 0.9431 - val_loss: 0.2219 - val_accuracy: 0.9442\n",
      "\n",
      "Epoch 00006: val_accuracy improved from 0.93540 to 0.94420, saving model to /content/drive/My Drive/Skillbox/ML средний/hw3/best_checkpoint.hdf5\n",
      "Epoch 7/40\n",
      "1875/1875 - 3s - loss: 0.1909 - accuracy: 0.9478 - val_loss: 0.1945 - val_accuracy: 0.9463\n",
      "\n",
      "Epoch 00007: val_accuracy improved from 0.94420 to 0.94630, saving model to /content/drive/My Drive/Skillbox/ML средний/hw3/best_checkpoint.hdf5\n",
      "Epoch 8/40\n",
      "1875/1875 - 3s - loss: 0.1800 - accuracy: 0.9506 - val_loss: 0.1915 - val_accuracy: 0.9494\n",
      "\n",
      "Epoch 00008: val_accuracy improved from 0.94630 to 0.94940, saving model to /content/drive/My Drive/Skillbox/ML средний/hw3/best_checkpoint.hdf5\n",
      "Epoch 9/40\n",
      "1875/1875 - 3s - loss: 0.1720 - accuracy: 0.9543 - val_loss: 0.1905 - val_accuracy: 0.9540\n",
      "\n",
      "Epoch 00009: val_accuracy improved from 0.94940 to 0.95400, saving model to /content/drive/My Drive/Skillbox/ML средний/hw3/best_checkpoint.hdf5\n",
      "Epoch 10/40\n",
      "1875/1875 - 3s - loss: 0.1578 - accuracy: 0.9575 - val_loss: 0.1800 - val_accuracy: 0.9523\n",
      "\n",
      "Epoch 00010: val_accuracy did not improve from 0.95400\n",
      "Epoch 11/40\n",
      "1875/1875 - 3s - loss: 0.1491 - accuracy: 0.9594 - val_loss: 0.1921 - val_accuracy: 0.9488\n",
      "\n",
      "Epoch 00011: val_accuracy did not improve from 0.95400\n",
      "Epoch 12/40\n",
      "1875/1875 - 3s - loss: 0.1425 - accuracy: 0.9611 - val_loss: 0.1722 - val_accuracy: 0.9537\n",
      "\n",
      "Epoch 00012: val_accuracy did not improve from 0.95400\n",
      "Epoch 13/40\n",
      "1875/1875 - 3s - loss: 0.1338 - accuracy: 0.9635 - val_loss: 0.1848 - val_accuracy: 0.9547\n",
      "\n",
      "Epoch 00013: val_accuracy improved from 0.95400 to 0.95470, saving model to /content/drive/My Drive/Skillbox/ML средний/hw3/best_checkpoint.hdf5\n",
      "Epoch 14/40\n",
      "1875/1875 - 3s - loss: 0.1268 - accuracy: 0.9655 - val_loss: 0.1562 - val_accuracy: 0.9589\n",
      "\n",
      "Epoch 00014: val_accuracy improved from 0.95470 to 0.95890, saving model to /content/drive/My Drive/Skillbox/ML средний/hw3/best_checkpoint.hdf5\n",
      "Epoch 15/40\n",
      "1875/1875 - 3s - loss: 0.1266 - accuracy: 0.9664 - val_loss: 0.1626 - val_accuracy: 0.9604\n",
      "\n",
      "Epoch 00015: val_accuracy improved from 0.95890 to 0.96040, saving model to /content/drive/My Drive/Skillbox/ML средний/hw3/best_checkpoint.hdf5\n",
      "Epoch 16/40\n",
      "1875/1875 - 3s - loss: 0.1197 - accuracy: 0.9671 - val_loss: 0.1794 - val_accuracy: 0.9586\n",
      "\n",
      "Epoch 00016: val_accuracy did not improve from 0.96040\n",
      "Epoch 17/40\n",
      "1875/1875 - 3s - loss: 0.1150 - accuracy: 0.9694 - val_loss: 0.1659 - val_accuracy: 0.9603\n",
      "\n",
      "Epoch 00017: val_accuracy did not improve from 0.96040\n",
      "Epoch 18/40\n",
      "1875/1875 - 3s - loss: 0.1126 - accuracy: 0.9694 - val_loss: 0.1629 - val_accuracy: 0.9614\n",
      "\n",
      "Epoch 00018: val_accuracy improved from 0.96040 to 0.96140, saving model to /content/drive/My Drive/Skillbox/ML средний/hw3/best_checkpoint.hdf5\n",
      "Epoch 19/40\n",
      "1875/1875 - 3s - loss: 0.1111 - accuracy: 0.9703 - val_loss: 0.1667 - val_accuracy: 0.9614\n",
      "\n",
      "Epoch 00019: val_accuracy did not improve from 0.96140\n",
      "Epoch 20/40\n",
      "1875/1875 - 3s - loss: 0.1038 - accuracy: 0.9715 - val_loss: 0.1520 - val_accuracy: 0.9618\n",
      "\n",
      "Epoch 00020: val_accuracy improved from 0.96140 to 0.96180, saving model to /content/drive/My Drive/Skillbox/ML средний/hw3/best_checkpoint.hdf5\n",
      "Epoch 21/40\n",
      "1875/1875 - 3s - loss: 0.0979 - accuracy: 0.9733 - val_loss: 0.1567 - val_accuracy: 0.9627\n",
      "\n",
      "Epoch 00021: val_accuracy improved from 0.96180 to 0.96270, saving model to /content/drive/My Drive/Skillbox/ML средний/hw3/best_checkpoint.hdf5\n",
      "Epoch 22/40\n",
      "1875/1875 - 3s - loss: 0.0930 - accuracy: 0.9748 - val_loss: 0.1728 - val_accuracy: 0.9628\n",
      "\n",
      "Epoch 00022: val_accuracy improved from 0.96270 to 0.96280, saving model to /content/drive/My Drive/Skillbox/ML средний/hw3/best_checkpoint.hdf5\n",
      "Epoch 23/40\n",
      "1875/1875 - 3s - loss: 0.0925 - accuracy: 0.9753 - val_loss: 0.1887 - val_accuracy: 0.9632\n",
      "\n",
      "Epoch 00023: val_accuracy improved from 0.96280 to 0.96320, saving model to /content/drive/My Drive/Skillbox/ML средний/hw3/best_checkpoint.hdf5\n",
      "Epoch 24/40\n",
      "1875/1875 - 3s - loss: 0.0885 - accuracy: 0.9764 - val_loss: 0.1672 - val_accuracy: 0.9640\n",
      "\n",
      "Epoch 00024: val_accuracy improved from 0.96320 to 0.96400, saving model to /content/drive/My Drive/Skillbox/ML средний/hw3/best_checkpoint.hdf5\n",
      "Epoch 25/40\n",
      "1875/1875 - 3s - loss: 0.0874 - accuracy: 0.9763 - val_loss: 0.1834 - val_accuracy: 0.9630\n",
      "\n",
      "Epoch 00025: val_accuracy did not improve from 0.96400\n",
      "Epoch 26/40\n",
      "1875/1875 - 3s - loss: 0.0917 - accuracy: 0.9761 - val_loss: 0.1548 - val_accuracy: 0.9667\n",
      "\n",
      "Epoch 00026: val_accuracy improved from 0.96400 to 0.96670, saving model to /content/drive/My Drive/Skillbox/ML средний/hw3/best_checkpoint.hdf5\n",
      "Epoch 27/40\n",
      "1875/1875 - 3s - loss: 0.0818 - accuracy: 0.9782 - val_loss: 0.1609 - val_accuracy: 0.9643\n",
      "\n",
      "Epoch 00027: val_accuracy did not improve from 0.96670\n",
      "Epoch 28/40\n",
      "1875/1875 - 3s - loss: 0.0838 - accuracy: 0.9782 - val_loss: 0.1532 - val_accuracy: 0.9649\n",
      "\n",
      "Epoch 00028: val_accuracy did not improve from 0.96670\n",
      "Epoch 29/40\n",
      "1875/1875 - 3s - loss: 0.0829 - accuracy: 0.9774 - val_loss: 0.1677 - val_accuracy: 0.9646\n",
      "\n",
      "Epoch 00029: val_accuracy did not improve from 0.96670\n",
      "Epoch 30/40\n",
      "1875/1875 - 3s - loss: 0.0788 - accuracy: 0.9785 - val_loss: 0.1815 - val_accuracy: 0.9622\n",
      "\n",
      "Epoch 00030: val_accuracy did not improve from 0.96670\n",
      "Epoch 31/40\n",
      "1875/1875 - 3s - loss: 0.0761 - accuracy: 0.9800 - val_loss: 0.1764 - val_accuracy: 0.9632\n",
      "\n",
      "Epoch 00031: val_accuracy did not improve from 0.96670\n",
      "Epoch 32/40\n",
      "1875/1875 - 3s - loss: 0.0748 - accuracy: 0.9802 - val_loss: 0.1954 - val_accuracy: 0.9653\n",
      "\n",
      "Epoch 00032: val_accuracy did not improve from 0.96670\n",
      "Epoch 33/40\n",
      "1875/1875 - 3s - loss: 0.0724 - accuracy: 0.9807 - val_loss: 0.1597 - val_accuracy: 0.9663\n",
      "\n",
      "Epoch 00033: val_accuracy did not improve from 0.96670\n",
      "Epoch 34/40\n",
      "1875/1875 - 3s - loss: 0.0704 - accuracy: 0.9816 - val_loss: 0.1671 - val_accuracy: 0.9674\n",
      "\n",
      "Epoch 00034: val_accuracy improved from 0.96670 to 0.96740, saving model to /content/drive/My Drive/Skillbox/ML средний/hw3/best_checkpoint.hdf5\n",
      "Epoch 35/40\n",
      "1875/1875 - 3s - loss: 0.0662 - accuracy: 0.9825 - val_loss: 0.1653 - val_accuracy: 0.9673\n",
      "\n",
      "Epoch 00035: val_accuracy did not improve from 0.96740\n",
      "Epoch 36/40\n",
      "1875/1875 - 3s - loss: 0.0645 - accuracy: 0.9828 - val_loss: 0.1766 - val_accuracy: 0.9681\n",
      "\n",
      "Epoch 00036: val_accuracy improved from 0.96740 to 0.96810, saving model to /content/drive/My Drive/Skillbox/ML средний/hw3/best_checkpoint.hdf5\n",
      "Epoch 37/40\n",
      "1875/1875 - 3s - loss: 0.0624 - accuracy: 0.9839 - val_loss: 0.1779 - val_accuracy: 0.9686\n",
      "\n",
      "Epoch 00037: val_accuracy improved from 0.96810 to 0.96860, saving model to /content/drive/My Drive/Skillbox/ML средний/hw3/best_checkpoint.hdf5\n",
      "Epoch 38/40\n",
      "1875/1875 - 3s - loss: 0.0623 - accuracy: 0.9830 - val_loss: 0.1626 - val_accuracy: 0.9690\n",
      "\n",
      "Epoch 00038: val_accuracy improved from 0.96860 to 0.96900, saving model to /content/drive/My Drive/Skillbox/ML средний/hw3/best_checkpoint.hdf5\n",
      "Epoch 39/40\n",
      "1875/1875 - 3s - loss: 0.0571 - accuracy: 0.9848 - val_loss: 0.1722 - val_accuracy: 0.9665\n",
      "\n",
      "Epoch 00039: val_accuracy did not improve from 0.96900\n",
      "Epoch 40/40\n",
      "1875/1875 - 3s - loss: 0.0564 - accuracy: 0.9847 - val_loss: 0.2162 - val_accuracy: 0.9676\n",
      "\n",
      "Epoch 00040: val_accuracy did not improve from 0.96900\n"
     ]
    }
   ],
   "source": [
    "model = tf.keras.Sequential()\n",
    "model.add(tf.keras.layers.Dense(100, input_shape=(784,), activation=\"sigmoid\"))\n",
    "model.add(tf.keras.layers.Dense(50, activation=\"relu\"))\n",
    "model.add(tf.keras.layers.Dense(10))\n",
    "checkpoint = tf.keras.callbacks.ModelCheckpoint(cpt_path, monitor='val_accuracy', verbose=1, save_best_only=True, mode='max')\n",
    "optimizer = tf.keras.optimizers.Adamax(learning_rate=0.15)\n",
    "loss = tf.keras.losses.SparseCategoricalCrossentropy(from_logits=True)\n",
    "model.compile(optimizer=optimizer, loss=loss, metrics=[\"accuracy\"])\n",
    "history = model.fit(x_train, y_train, epochs=40, verbose=2, validation_data=(x_test, y_test), callbacks=[checkpoint])\n"
   ]
  },
  {
   "cell_type": "code",
   "execution_count": 53,
   "metadata": {
    "colab": {
     "base_uri": "https://localhost:8080/"
    },
    "executionInfo": {
     "elapsed": 546,
     "status": "ok",
     "timestamp": 1620867789747,
     "user": {
      "displayName": "Александр Чернавин",
      "photoUrl": "",
      "userId": "12809599521665994243"
     },
     "user_tz": -180
    },
    "id": "iPntu18cW1CR",
    "outputId": "bebc69a8-daa8-4a95-fa65-c6e9104f475b"
   },
   "outputs": [
    {
     "name": "stdout",
     "output_type": "stream",
     "text": [
      "Training tests passed\n"
     ]
    }
   ],
   "source": [
    "assert len(list(path.glob(\"*\"))) != 0, f\"Checkpoint dir {path}\"\n",
    "assert \"accuracy\" in history.history, \"History object must contain Accuracy. Please, retrain with this metric\"\n",
    "assert \"val_accuracy\" in history.history, \"Please, provide validation_data in model.fit.\"\n",
    "assert np.max(history.history[\"val_accuracy\"]) > 0.95, \"Validation accuracy must be more than 0.95\"\n",
    "# Для старой версии (tf.__version__ == 1.x) запустить aseert-ы ниже:\n",
    "# assert \"acc\" in history.history, \"History object must contain Accuracy. Please, retrain with this metric\"\n",
    "# assert \"val_acc\" in history.history, \"Please, provide validation_data in model.fit.\"\n",
    "# assert np.max(history.history[\"val_acc\"]) > 0.95, \"Validation accuracy must be more than 0.95\"\n",
    "print(\"Training tests passed\")"
   ]
  },
  {
   "cell_type": "markdown",
   "metadata": {
    "id": "3F8zo0Milj4c"
   },
   "source": [
    "Давайте посмотрим на графики обучения:"
   ]
  },
  {
   "cell_type": "code",
   "execution_count": 56,
   "metadata": {
    "colab": {
     "base_uri": "https://localhost:8080/",
     "height": 369
    },
    "executionInfo": {
     "elapsed": 982,
     "status": "ok",
     "timestamp": 1620867826320,
     "user": {
      "displayName": "Александр Чернавин",
      "photoUrl": "",
      "userId": "12809599521665994243"
     },
     "user_tz": -180
    },
    "id": "nGOrpkkAX8o5",
    "outputId": "ecb624e2-8e4e-4698-ffde-c734440155a2"
   },
   "outputs": [
    {
     "data": {
      "image/png": "[encoded data removed]",
      "text/plain": [
       "<Figure size 720x360 with 2 Axes>"
      ]
     },
     "metadata": {
      "needs_background": "light",
      "tags": []
     },
     "output_type": "display_data"
    }
   ],
   "source": [
    "show_progress(history.history)"
   ]
  },
  {
   "cell_type": "markdown",
   "metadata": {
    "id": "QSbdpY-LlotG"
   },
   "source": [
    "А теперь перейдем к загрузке модели. Если все реализовано правильно, то код ниже должен сработать без ошибок:"
   ]
  },
  {
   "cell_type": "code",
   "execution_count": 57,
   "metadata": {
    "colab": {
     "base_uri": "https://localhost:8080/"
    },
    "executionInfo": {
     "elapsed": 1441,
     "status": "ok",
     "timestamp": 1620867835204,
     "user": {
      "displayName": "Александр Чернавин",
      "photoUrl": "",
      "userId": "12809599521665994243"
     },
     "user_tz": -180
    },
    "id": "lUrOvNfPd5B5",
    "outputId": "04d6a85e-b4b9-4f9a-f6b7-1260bdf3c7f3"
   },
   "outputs": [
    {
     "name": "stdout",
     "output_type": "stream",
     "text": [
      "313/313 [==============================] - 0s 1ms/step - loss: 0.1626 - accuracy: 0.9690\n",
      "Accuracy of restored model 96.90%\n"
     ]
    }
   ],
   "source": [
    "restored_model = tf.keras.models.load_model(cpt_path)\n",
    "loss, acc = restored_model.evaluate(x_test, y_test)\n",
    "print(f\"Accuracy of restored model {acc*100 :.2f}%\")\n",
    "assert acc > 0.96"
   ]
  },
  {
   "cell_type": "markdown",
   "metadata": {
    "id": "F7XFRliomD6b"
   },
   "source": [
    "И, наконец, можно сравнить предсказания с реальными классами (с такой точностью найти ошибку будет сложно):"
   ]
  },
  {
   "cell_type": "code",
   "execution_count": 58,
   "metadata": {
    "colab": {
     "base_uri": "https://localhost:8080/",
     "height": 648
    },
    "executionInfo": {
     "elapsed": 2135,
     "status": "ok",
     "timestamp": 1620867844120,
     "user": {
      "displayName": "Александр Чернавин",
      "photoUrl": "",
      "userId": "12809599521665994243"
     },
     "user_tz": -180
    },
    "id": "aYXxV5tjY4Xx",
    "outputId": "8080246f-98e4-4d92-c17a-4b94ff328357"
   },
   "outputs": [
    {
     "name": "stderr",
     "output_type": "stream",
     "text": [
      "/usr/local/lib/python3.7/dist-packages/tensorflow/python/keras/engine/sequential.py:450: UserWarning: `model.predict_classes()` is deprecated and will be removed after 2021-01-01. Please use instead:* `np.argmax(model.predict(x), axis=-1)`,   if your model does multi-class classification   (e.g. if it uses a `softmax` last-layer activation).* `(model.predict(x) > 0.5).astype(\"int32\")`,   if your model does binary classification   (e.g. if it uses a `sigmoid` last-layer activation).\n",
      "  warnings.warn('`model.predict_classes()` is deprecated and '\n"
     ]
    },
    {
     "data": {
      "image/png": "[encoded data removed]",
      "text/plain": [
       "<Figure size 720x720 with 16 Axes>"
      ]
     },
     "metadata": {
      "tags": []
     },
     "output_type": "display_data"
    }
   ],
   "source": [
    "predicted_labels = restored_model.predict_classes(x_test)\n",
    "idxs = np.random.choice(np.arange(len(x_test)), 16, replace=False)\n",
    "show_mnist(x_test[idxs].reshape((-1, 28, 28)), y_test[idxs], predicted_labels[idxs])"
   ]
  }
 ],
 "metadata": {
  "colab": {
   "collapsed_sections": [],
   "name": "mid_ml_R3_hw.ipynb",
   "provenance": []
  },
  "kernelspec": {
   "display_name": "Python 3",
   "language": "python",
   "name": "python3"
  },
  "language_info": {
   "codemirror_mode": {
    "name": "ipython",
    "version": 3
   },
   "file_extension": ".py",
   "mimetype": "text/x-python",
   "name": "python",
   "nbconvert_exporter": "python",
   "pygments_lexer": "ipython3",
   "version": "3.8.5"
  }
 },
 "nbformat": 4,
 "nbformat_minor": 1
}
