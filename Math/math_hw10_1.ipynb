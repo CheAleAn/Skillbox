{
 "cells": [
  {
   "cell_type": "code",
   "execution_count": 22,
   "metadata": {},
   "outputs": [],
   "source": [
    "from sympy import *\n",
    "import numpy as np"
   ]
  },
  {
   "cell_type": "code",
   "execution_count": 2,
   "metadata": {},
   "outputs": [],
   "source": [
    "x1, x2, x3 = symbols('x1 x2 x3')"
   ]
  },
  {
   "cell_type": "code",
   "execution_count": 26,
   "metadata": {},
   "outputs": [
    {
     "data": {
      "text/latex": [
       "$\\displaystyle \\left\\{\\left( -1, \\  -5\\right)\\right\\}$"
      ],
      "text/plain": [
       "FiniteSet((-1, -5))"
      ]
     },
     "execution_count": 26,
     "metadata": {},
     "output_type": "execute_result"
    }
   ],
   "source": [
    "y = Matrix([[-1, 7, -34], [8, 8, -48]])\n",
    "linsolve(y, [x1,x2])"
   ]
  },
  {
   "cell_type": "code",
   "execution_count": 27,
   "metadata": {},
   "outputs": [
    {
     "data": {
      "text/latex": [
       "$\\displaystyle \\left\\{\\left( -1, \\  0\\right)\\right\\}$"
      ],
      "text/plain": [
       "FiniteSet((-1, 0))"
      ]
     },
     "execution_count": 27,
     "metadata": {},
     "output_type": "execute_result"
    }
   ],
   "source": [
    "y = Matrix([[4, -7, -4], [3, -4, -3]])\n",
    "linsolve(y, [x1,x2])"
   ]
  },
  {
   "cell_type": "code",
   "execution_count": 28,
   "metadata": {},
   "outputs": [
    {
     "data": {
      "text/latex": [
       "$\\displaystyle \\left\\{\\left( 9, \\  2\\right)\\right\\}$"
      ],
      "text/plain": [
       "FiniteSet((9, 2))"
      ]
     },
     "execution_count": 28,
     "metadata": {},
     "output_type": "execute_result"
    }
   ],
   "source": [
    "y = Matrix([[8, -4, 64], [-3, 3, -21]])\n",
    "linsolve(y, [x1,x2])"
   ]
  },
  {
   "cell_type": "code",
   "execution_count": 29,
   "metadata": {},
   "outputs": [
    {
     "data": {
      "text/latex": [
       "$\\displaystyle \\left\\{\\left( -2, \\  -6, \\  -1\\right)\\right\\}$"
      ],
      "text/plain": [
       "FiniteSet((-2, -6, -1))"
      ]
     },
     "execution_count": 29,
     "metadata": {},
     "output_type": "execute_result"
    }
   ],
   "source": [
    "y = Matrix([[5, 7, -5, -47], [0, -2, 2, 10], [-4, -8,-7, 63]])\n",
    "linsolve(y, [x1,x2])"
   ]
  },
  {
   "cell_type": "code",
   "execution_count": 30,
   "metadata": {},
   "outputs": [
    {
     "data": {
      "text/latex": [
       "$\\displaystyle \\left[\\begin{matrix}-34\\\\-48\\end{matrix}\\right]$"
      ],
      "text/plain": [
       "Matrix([\n",
       "[-34],\n",
       "[-48]])"
      ]
     },
     "execution_count": 30,
     "metadata": {},
     "output_type": "execute_result"
    }
   ],
   "source": [
    "X1 = Matrix([[-1, 7], [8, 8]])\n",
    "X2 = Matrix([[-1], [-5]])\n",
    "X1*X2"
   ]
  },
  {
   "cell_type": "code",
   "execution_count": 31,
   "metadata": {},
   "outputs": [
    {
     "data": {
      "text/latex": [
       "$\\displaystyle \\left[\\begin{matrix}-4\\\\-3\\end{matrix}\\right]$"
      ],
      "text/plain": [
       "Matrix([\n",
       "[-4],\n",
       "[-3]])"
      ]
     },
     "execution_count": 31,
     "metadata": {},
     "output_type": "execute_result"
    }
   ],
   "source": [
    "X1 = Matrix([[4, -7], [3, -4]])\n",
    "X2 = Matrix([[-1], [0]])\n",
    "X1*X2"
   ]
  },
  {
   "cell_type": "code",
   "execution_count": 32,
   "metadata": {},
   "outputs": [
    {
     "data": {
      "text/latex": [
       "$\\displaystyle \\left[\\begin{matrix}64\\\\-21\\end{matrix}\\right]$"
      ],
      "text/plain": [
       "Matrix([\n",
       "[ 64],\n",
       "[-21]])"
      ]
     },
     "execution_count": 32,
     "metadata": {},
     "output_type": "execute_result"
    }
   ],
   "source": [
    "X1 = Matrix([[8, -4], [-3, 3]])\n",
    "X2 = Matrix([[9], [2]])\n",
    "X1*X2"
   ]
  },
  {
   "cell_type": "code",
   "execution_count": 16,
   "metadata": {},
   "outputs": [
    {
     "data": {
      "text/latex": [
       "$\\displaystyle \\left[\\begin{matrix}-47\\\\10\\\\63\\end{matrix}\\right]$"
      ],
      "text/plain": [
       "Matrix([\n",
       "[-47],\n",
       "[ 10],\n",
       "[ 63]])"
      ]
     },
     "execution_count": 16,
     "metadata": {},
     "output_type": "execute_result"
    }
   ],
   "source": [
    "X1 = Matrix([[5, 7, -5], [0, -2, 2], [-4, -8, -7]])\n",
    "X2 = Matrix([[-2], [-6], [-1]])\n",
    "X1*X2"
   ]
  },
  {
   "cell_type": "code",
   "execution_count": 17,
   "metadata": {},
   "outputs": [],
   "source": [
    "x, y, z = symbols('x y z')\n",
    "MSE = 1/6 * ((5*x + 7*y - 5*z + 47)**2 +\n",
    "            (0*x - 2*y + 2*z - 10)**2 +\n",
    "            (-4*x - 8*y - 7*z - 63)**2 +\n",
    "            (x + y + 2*z + 1)**2 +\n",
    "            (2*x - y + 2*z + 4)**2 +\n",
    "            (4*x + y + 4*z + 2)**2)"
   ]
  },
  {
   "cell_type": "code",
   "execution_count": 19,
   "metadata": {},
   "outputs": [
    {
     "name": "stdout",
     "output_type": "stream",
     "text": [
      "1049.83333333333\n",
      "20.6666666666667*x + 23.3333333333333*y + 8.33333333333333*z + 168.0\n",
      "23.3333333333333*x + 40.0*y + 6.99999999999999*z + 284.0\n",
      "8.33333333333333*x + 6.99999999999999*y + 34.0*z + 68.0\n"
     ]
    }
   ],
   "source": [
    "print(MSE.subs({x:0, y:0, z:0}))\n",
    "MSEx = diff(MSE, x)\n",
    "MSEy = diff(MSE, y)\n",
    "MSEz = diff(MSE, z)\n",
    "print(MSEx)\n",
    "print(MSEy)\n",
    "print(MSEz)"
   ]
  },
  {
   "cell_type": "code",
   "execution_count": 23,
   "metadata": {},
   "outputs": [
    {
     "name": "stdout",
     "output_type": "stream",
     "text": [
      "Следующий шаг\n",
      "Градиент равен [168.000000000000,284.000000000000,68.0000000000000]\n",
      "Новые коэф-ты равны [-1.68000000000000, -2.84000000000000, -0.680000000000000]\n",
      "Новое значение MSE равно 247.497333333333\n",
      "\n",
      "Следующий шаг\n",
      "Градиент равен [61.3466666666667,126.440000000000,11.0000000000000]\n",
      "Новые коэф-ты равны [-2.29346666666667, -4.10440000000000, -0.790000000000000]\n",
      "Новое значение MSE равно 104.486005072593\n",
      "\n",
      "Следующий шаг\n",
      "Градиент равен [18.2490222222222,60.7797777777778,-6.70302222222221]\n",
      "Новые коэф-ты равны [-2.47595688888889, -4.71219777777778, -0.722969777777778]\n",
      "Новое значение MSE равно 73.7744351503798\n",
      "\n",
      "Следующий шаг\n",
      "Градиент равен [0.854194666666658,32.6789730370370,-10.1993309629630]\n",
      "Новые коэф-ты равны [-2.48449883555556, -5.03898750814815, -0.620976468148148]\n",
      "Новое значение MSE равно 64.1857120851198\n",
      "\n",
      "Следующий шаг\n",
      "Градиент равен [-6.09748835950617,20.1220249007408,-9.09026943703702]\n",
      "Новые коэф-ты равны [-2.42352395196049, -5.24020775715556, -0.530073773777778]\n",
      "Новое значение MSE равно 59.5591801838142\n",
      "\n",
      "Следующий шаг\n",
      "Градиент равен [-8.77495745562800,14.1322810849218,-6.89999554153744]\n",
      "Новые коэф-ты равны [-2.33577437740421, -5.38153056800477, -0.461073818362404]\n",
      "Новое значение MSE равно 56.5686545495930\n",
      "\n",
      "Следующий шаг\n",
      "Градиент равен [-9.68399887281848,11.0098584118406,-4.81201027872356]\n",
      "Новые коэф-ты равны [-2.23893438867603, -5.49162915212318, -0.412953715575168]\n",
      "Новое значение MSE равно 54.3188045027199\n",
      "\n",
      "Достигли необходимой точности\n"
     ]
    }
   ],
   "source": [
    "result = MSE.subs({x:0, y:0, z:0})\n",
    "grad_MSE = np.array([MSEx, MSEy, MSEz])\n",
    "a = 0\n",
    "b = 0\n",
    "c = 0\n",
    "while result>=55:\n",
    "    print('Следующий шаг')\n",
    "    print(f'Градиент равен [{grad_MSE[0].subs({x:a, y:b, z:c})},{grad_MSE[1].subs({x:a, y:b, z:c})},{grad_MSE[2].subs({x:a, y:b, z:c})}]')\n",
    "    a1 = (-1) * grad_MSE[0].subs({x:a, y:b, z:c}) * 0.01\n",
    "    b1 = (-1) * grad_MSE[1].subs({x:a, y:b, z:c}) * 0.01\n",
    "    c1 = (-1) * grad_MSE[2].subs({x:a, y:b, z:c}) * 0.01 \n",
    "    a += a1\n",
    "    b += b1\n",
    "    c += c1\n",
    "    print(f'Новые коэф-ты равны [{a}, {b}, {c}]')\n",
    "    result = MSE.subs({x:a, y:b, z:c})\n",
    "    print(f'Новое значение MSE равно {result}\\n')        \n",
    "print('Достигли необходимой точности')"
   ]
  },
  {
   "cell_type": "code",
   "execution_count": null,
   "metadata": {},
   "outputs": [],
   "source": []
  },
  {
   "cell_type": "code",
   "execution_count": null,
   "metadata": {},
   "outputs": [],
   "source": []
  },
  {
   "cell_type": "code",
   "execution_count": null,
   "metadata": {},
   "outputs": [],
   "source": []
  },
  {
   "cell_type": "code",
   "execution_count": null,
   "metadata": {},
   "outputs": [],
   "source": []
  },
  {
   "cell_type": "code",
   "execution_count": null,
   "metadata": {},
   "outputs": [],
   "source": []
  }
 ],
 "metadata": {
  "kernelspec": {
   "display_name": "Python 3",
   "language": "python",
   "name": "python3"
  },
  "language_info": {
   "codemirror_mode": {
    "name": "ipython",
    "version": 3
   },
   "file_extension": ".py",
   "mimetype": "text/x-python",
   "name": "python",
   "nbconvert_exporter": "python",
   "pygments_lexer": "ipython3",
   "version": "3.8.3"
  }
 },
 "nbformat": 4,
 "nbformat_minor": 4
}
