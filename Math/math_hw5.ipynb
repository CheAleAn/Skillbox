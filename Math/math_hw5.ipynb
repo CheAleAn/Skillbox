{
 "cells": [
  {
   "cell_type": "markdown",
   "metadata": {
    "id": "-zOqnEVGugHU"
   },
   "source": [
    "# Блок 1.\n",
    "\n",
    "С помощью symPy найдите полиномы, описывающие данные наборы точек. Затем проведите полное исследование каждого полученного полинома: проверьте четность/нечетность, найдите нули, промежутки знакопостоянства. Постройте их графики. С помощью изменения промежутка для х добейтесь того, чтобы все нули были отображены на графике функции. <br><br><br>\n",
    "а) $(-4; -4268), (-3; -1227), (-1; -17), (1; 17), (3; 1227), (4; 4268)$<br><br>\n",
    "б)$ (-4; -16729), (-3; -3999), (-1; 5), (1; 1), (3; 4005), (4; 16735)$\n"
   ]
  },
  {
   "cell_type": "code",
   "execution_count": 2,
   "metadata": {
    "id": "mO8e_U97uxvk"
   },
   "outputs": [
    {
     "name": "stdout",
     "output_type": "stream",
     "text": [
      "FiniteSet((3, 0, 19, 0, -5, 0))\n"
     ]
    }
   ],
   "source": [
    "from sympy import *\n",
    "import matplotlib.pyplot as plt\n",
    "import numpy as np\n",
    "\n",
    "a0, a1, a2, a3, a4, a5 = symbols('a0, a1, a2, a3, a4, a5')\n",
    "eq1_lp = (-3)**5*a5 + (-3)**4*a4 + (-3)**3*a3 + (-3)**2*a2 + (-3)*a1 + a0 +1227 \n",
    "eq2_lp = (-4)**5*a5 + (-4)**4*a4 + (-4)**3*a3 + (-4)**2*a2 + (-4)*a1 + a0 +4268  \n",
    "eq3_lp = (-1)**5*a5 + (-1)**4*a4 + (-1)**3*a3 + (-1)**2*a2 + (-1)*a1 + a0 +17 \n",
    "eq4_lp =  (1)**5*a5 +  (1)**4*a4 +  (1)**3*a3 +  (1)**2*a2 +  (1)*a1 + a0 -17 \n",
    "eq5_lp =  (4)**5*a5 +  (4)**4*a4 +  (4)**3*a3 +  (4)**2*a2 +  (4)*a1 + a0 -4268 \n",
    "eq6_lp =  (3)**5*a5 +  (3)**4*a4 +  (3)**3*a3 +  (3)**2*a2 +  (3)*a1 + a0 -1227\n",
    "print(nonlinsolve([eq1_lp, eq2_lp, eq3_lp, eq4_lp, eq5_lp, eq6_lp], [a5, a4, a3, a2, a1, a0]))"
   ]
  },
  {
   "cell_type": "code",
   "execution_count": 3,
   "metadata": {},
   "outputs": [
    {
     "data": {
      "image/png": "[encoded data removed]",
      "text/plain": [
       "<Figure size 432x288 with 1 Axes>"
      ]
     },
     "metadata": {
      "needs_background": "light"
     },
     "output_type": "display_data"
    }
   ],
   "source": [
    "X = np.arange(-5, 5, 0.01)\n",
    "Y = [3 * x**5 + 19 * x**3 - 5 * x for x in X]\n",
    "points_X = [-3, -4, -1, 1, 4, 3]\n",
    "points_Y = [-1227, -4268, -17, 17, 4268, 1227]\n",
    "plt.scatter(points_X, points_Y, c='r')\n",
    "plt.plot(X, Y, 'b')\n",
    "plt.show()"
   ]
  },
  {
   "cell_type": "code",
   "execution_count": 8,
   "metadata": {},
   "outputs": [
    {
     "name": "stdout",
     "output_type": "stream",
     "text": [
      "3*x**5 + 19*x**3 - 5*x\n",
      "[0, -I*sqrt(19/6 + sqrt(421)/6), I*sqrt(19/6 + sqrt(421)/6), -sqrt(-19/6 + sqrt(421)/6), sqrt(-19/6 + sqrt(421)/6)]\n",
      "Функция возрастает при ((x < oo) & (sqrt(-19/6 + sqrt(421)/6) < x)) | ((x < 0) & (-sqrt(-19/6 + sqrt(421)/6) < x))\n",
      "Функция убывает при ((0 < x) & (x < sqrt(-19/6 + sqrt(421)/6))) | ((-oo < x) & (x < -sqrt(-19/6 + sqrt(421)/6)))\n",
      "Функция нечетная: нет свободных коэф-тов и все степенные коэф-ты нечетные\n"
     ]
    }
   ],
   "source": [
    "x = Symbol('x')\n",
    "f = 3 * x**5 + 19 * x**3 - 5 * x \n",
    "print(f)\n",
    "print(solve(f))\n",
    "print(f'Функция возрастает при {solve_univariate_inequality(f > 0, x)}')\n",
    "print(f'Функция убывает при {solve_univariate_inequality(f < 0, x)}')\n",
    "print('Функция нечетная: нет свободных коэф-тов и все степенные коэф-ты нечетные')"
   ]
  },
  {
   "cell_type": "code",
   "execution_count": 9,
   "metadata": {},
   "outputs": [
    {
     "name": "stdout",
     "output_type": "stream",
     "text": [
      "FiniteSet((16, 0, 7, 0, -25, 3))\n"
     ]
    }
   ],
   "source": [
    "#(−4;−16729),(−3;−3999),(−1;5),(1;1),(3;4005),(4;16735)\n",
    "a0, a1, a2, a3, a4, a5 = symbols('a0, a1, a2, a3, a4, a5')\n",
    "eq1_lp = (-3)**5*a5 + (-3)**4*a4 + (-3)**3*a3 + (-3)**2*a2 + (-3)*a1 + a0 +3999 \n",
    "eq2_lp = (-4)**5*a5 + (-4)**4*a4 + (-4)**3*a3 + (-4)**2*a2 + (-4)*a1 + a0 +16729  \n",
    "eq3_lp = (-1)**5*a5 + (-1)**4*a4 + (-1)**3*a3 + (-1)**2*a2 + (-1)*a1 + a0 -5 \n",
    "eq4_lp =  (1)**5*a5 +  (1)**4*a4 +  (1)**3*a3 +  (1)**2*a2 +  (1)*a1 + a0 -1 \n",
    "eq5_lp =  (4)**5*a5 +  (4)**4*a4 +  (4)**3*a3 +  (4)**2*a2 +  (4)*a1 + a0 -16735 \n",
    "eq6_lp =  (3)**5*a5 +  (3)**4*a4 +  (3)**3*a3 +  (3)**2*a2 +  (3)*a1 + a0 -4005\n",
    "print(nonlinsolve([eq1_lp, eq2_lp, eq3_lp, eq4_lp, eq5_lp, eq6_lp], [a5, a4, a3, a2, a1, a0]))"
   ]
  },
  {
   "cell_type": "code",
   "execution_count": 10,
   "metadata": {},
   "outputs": [
    {
     "data": {
      "image/png": "[encoded data removed]",
      "text/plain": [
       "<Figure size 432x288 with 1 Axes>"
      ]
     },
     "metadata": {
      "needs_background": "light"
     },
     "output_type": "display_data"
    }
   ],
   "source": [
    "X = np.arange(-5, 5, 0.01)\n",
    "Y = [16 * x**5 + 7 * x**3 - 25 * x + 3 for x in X]\n",
    "points_X = [-3, -4, -1, 1, 4, 3]\n",
    "points_Y = [-3999, -16729, -5, 1, 16735, 4005]\n",
    "plt.scatter(points_X, points_Y, c='r')\n",
    "plt.plot(X, Y, 'b')\n",
    "plt.show()"
   ]
  },
  {
   "cell_type": "code",
   "execution_count": 13,
   "metadata": {},
   "outputs": [
    {
     "name": "stdout",
     "output_type": "stream",
     "text": [
      "16*x**5 + 7*x**3 - 25*x + 3\n",
      "[CRootOf(16*x**5 + 7*x**3 - 25*x + 3, 0), CRootOf(16*x**5 + 7*x**3 - 25*x + 3, 1), CRootOf(16*x**5 + 7*x**3 - 25*x + 3, 2), CRootOf(16*x**5 + 7*x**3 - 25*x + 3, 3), CRootOf(16*x**5 + 7*x**3 - 25*x + 3, 4)]\n",
      "Функция возрастает при ((x < oo) & (CRootOf(16*x**5 + 7*x**3 - 25*x + 3, 2) < x)) | ((x < CRootOf(16*x**5 + 7*x**3 - 25*x + 3, 1)) & (CRootOf(16*x**5 + 7*x**3 - 25*x + 3, 0) < x))\n",
      "Функция убывает при ((-oo < x) & (x < CRootOf(16*x**5 + 7*x**3 - 25*x + 3, 0))) | ((x < CRootOf(16*x**5 + 7*x**3 - 25*x + 3, 2)) & (CRootOf(16*x**5 + 7*x**3 - 25*x + 3, 1) < x))\n",
      "Функция общего вида: есть свободный коэф.\n"
     ]
    },
    {
     "data": {
      "text/plain": [
       "[CRootOf(16*x**5 + 7*x**3 - 25*x + 3, 0),\n",
       " CRootOf(16*x**5 + 7*x**3 - 25*x + 3, 1),\n",
       " CRootOf(16*x**5 + 7*x**3 - 25*x + 3, 2),\n",
       " CRootOf(16*x**5 + 7*x**3 - 25*x + 3, 3),\n",
       " CRootOf(16*x**5 + 7*x**3 - 25*x + 3, 4)]"
      ]
     },
     "execution_count": 13,
     "metadata": {},
     "output_type": "execute_result"
    }
   ],
   "source": [
    "x = Symbol('x')\n",
    "f = 16 * x**5 + 7 * x**3 - 25 * x + 3\n",
    "print(f)\n",
    "print(solve(f, x))\n",
    "print(f'Функция возрастает при {solve_univariate_inequality(f > 0, x)}')\n",
    "print(f'Функция убывает при {solve_univariate_inequality(f < 0, x)}')\n",
    "print('Функция общего вида: есть свободный коэф.')"
   ]
  },
  {
   "cell_type": "markdown",
   "metadata": {
    "id": "4jCUKC9CuyKO"
   },
   "source": [
    "# Блок 2."
   ]
  },
  {
   "cell_type": "code",
   "execution_count": null,
   "metadata": {
    "id": "5ElcKCqet0wk"
   },
   "outputs": [],
   "source": [
    "from sympy import *\n",
    "from sympy.plotting import plot\n",
    "init_printing(use_unicode=False, wrap_line=False, no_global=True)"
   ]
  },
  {
   "cell_type": "code",
   "execution_count": null,
   "metadata": {
    "id": "QwTY4Sq8t0w2"
   },
   "outputs": [],
   "source": [
    "import matplotlib.pyplot as plt\n",
    "import numpy as np"
   ]
  },
  {
   "cell_type": "code",
   "execution_count": null,
   "metadata": {
    "id": "Y0t8k28Jt0xG"
   },
   "outputs": [],
   "source": [
    "x = Symbol('x')"
   ]
  },
  {
   "cell_type": "markdown",
   "metadata": {
    "id": "wLhMVWF9t0xQ"
   },
   "source": [
    "## 1.\n",
    "### Получите значение MSE меньшее 5."
   ]
  },
  {
   "cell_type": "code",
   "execution_count": 48,
   "metadata": {
    "id": "LX3-aD49t0xU"
   },
   "outputs": [],
   "source": [
    "def print_points_ands_function1(sympy_function):\n",
    "    def function(x_): return float(sympy_function.subs(x, x_))\n",
    "    \n",
    "    points_X = np.array([-2, -1, 0, 1, 2, 3, 3.5, 4, 4.5, 5])\n",
    "    points_Y = np.array([2, -4, 1, 8, 21, 40, 47, 65, 75, 92])\n",
    "    plt.xlim(-6, 10)\n",
    "    plt.ylim(-1, 100)\n",
    "    \n",
    "    plt.scatter(points_X, points_Y, c='r')\n",
    "    x_range = np.linspace(plt.xlim()[0], plt.xlim()[1], num=100)\n",
    "    function_Y = [function(x_) for x_ in x_range]\n",
    "    plt.plot(x_range, function_Y, 'b')\n",
    "    plt.show()\n",
    "    \n",
    "    MSE = sum([(points_Y[i] - function(points_X[i]))**2 for i in range(len(points_Y))]) / len(points_Y)\n",
    "    print(f'MSE = {MSE}')"
   ]
  },
  {
   "cell_type": "code",
   "execution_count": 61,
   "metadata": {
    "id": "tCcjAV0qt0xb",
    "outputId": "7d73b65e-59f0-4d31-c914-f97d7da81900"
   },
   "outputs": [
    {
     "name": "stdout",
     "output_type": "stream",
     "text": [
      "48*x**2 - 128*x + 83\n"
     ]
    },
    {
     "data": {
      "image/png": "[encoded data removed]",
      "text/plain": [
       "<Figure size 432x288 with 1 Axes>"
      ]
     },
     "metadata": {
      "needs_background": "light"
     },
     "output_type": "display_data"
    },
    {
     "name": "stdout",
     "output_type": "stream",
     "text": [
      "MSE = 93691.3\n"
     ]
    }
   ],
   "source": [
    "f1 = 48 * x**2 - 128 * x + 83\n",
    "print(f1)\n",
    "print_points_ands_function1(f1)"
   ]
  },
  {
   "cell_type": "code",
   "execution_count": 88,
   "metadata": {},
   "outputs": [
    {
     "name": "stdout",
     "output_type": "stream",
     "text": [
      "2.582128125*x**2 + 4.545*x + 1.3000000000001\n"
     ]
    },
    {
     "data": {
      "image/png": "[encoded data removed]",
      "text/plain": [
       "<Figure size 432x288 with 1 Axes>"
      ]
     },
     "metadata": {
      "needs_background": "light"
     },
     "output_type": "display_data"
    },
    {
     "name": "stdout",
     "output_type": "stream",
     "text": [
      "MSE = 4.88113163250592\n"
     ]
    }
   ],
   "source": [
    "f1 = f1.subs(x, x*1.01)\n",
    "#f1 = f1.subs(x, x/4)\n",
    "f1 = 1*f1\n",
    "#f1 = f1 - 0.2\n",
    "print(expand(f1))\n",
    "print_points_ands_function1(f1)"
   ]
  },
  {
   "cell_type": "markdown",
   "metadata": {
    "id": "HRrtO4Lyt0xt"
   },
   "source": [
    "## 2.\n",
    "### Получите значение MSE меньшее 35."
   ]
  },
  {
   "cell_type": "code",
   "execution_count": 89,
   "metadata": {
    "id": "dm_YVXYgt0xw"
   },
   "outputs": [],
   "source": [
    "def print_points_ands_function2(sympy_function):\n",
    "    def function(x_): return float(sympy_function.subs(x, x_))\n",
    "    \n",
    "    points_X = np.array([-2, -1, 0, 1, 2, 3, 3.5, 4, 4.5, 5])\n",
    "    points_Y = np.array([-31, -9, 4, -1, 9, 24, 47, 92, 120, 170])\n",
    "    plt.xlim(-3, 6)\n",
    "    plt.ylim(-35, 200)\n",
    "    \n",
    "    plt.scatter(points_X, points_Y, c='r')\n",
    "    x_range = np.linspace(plt.xlim()[0], plt.xlim()[1], num=100)\n",
    "    function_Y = [function(x_) for x_ in x_range]\n",
    "    plt.plot(x_range, function_Y, 'b')\n",
    "    plt.show()\n",
    "    \n",
    "    MSE = sum([(points_Y[i] - function(points_X[i]))**2 for i in range(len(points_Y))]) / len(points_Y)\n",
    "    print(f'MSE = {MSE}')"
   ]
  },
  {
   "cell_type": "code",
   "execution_count": 90,
   "metadata": {
    "id": "7LMQiJDKt0x1",
    "outputId": "8b8d6fed-a7c9-4a8d-c9f8-9ace332dd838"
   },
   "outputs": [
    {
     "name": "stdout",
     "output_type": "stream",
     "text": [
      "4*x**3 + 30*x**2 + 74*x + 62\n"
     ]
    },
    {
     "data": {
      "image/png": "[encoded data removed]",
      "text/plain": [
       "<Figure size 432x288 with 1 Axes>"
      ]
     },
     "metadata": {
      "needs_background": "light"
     },
     "output_type": "display_data"
    },
    {
     "name": "stdout",
     "output_type": "stream",
     "text": [
      "MSE = 607200.2\n"
     ]
    }
   ],
   "source": [
    "f2 = 4 * x**3 + 30 * x**2 + 74 * x + 62\n",
    "print(f2)\n",
    "print_points_ands_function2(f2)"
   ]
  },
  {
   "cell_type": "code",
   "execution_count": 123,
   "metadata": {},
   "outputs": [
    {
     "name": "stdout",
     "output_type": "stream",
     "text": [
      "1.959552*x**3 - 2.93932800000001*x**2 + 0.10886400000004*x + 1.19145599999993\n"
     ]
    },
    {
     "data": {
      "image/png": "[encoded data removed]",
      "text/plain": [
       "<Figure size 432x288 with 1 Axes>"
      ]
     },
     "metadata": {
      "needs_background": "light"
     },
     "output_type": "display_data"
    },
    {
     "name": "stdout",
     "output_type": "stream",
     "text": [
      "MSE = 24.75633742079966\n"
     ]
    }
   ],
   "source": [
    "#f2 = f2.subs(x, x+0.5)\n",
    "#f2 = f2.subs(x, x*2)\n",
    "f2 = 0.9*f2\n",
    "#f2 = f2 - 1\n",
    "print(expand(f2))\n",
    "print_points_ands_function2(f2)"
   ]
  },
  {
   "cell_type": "markdown",
   "metadata": {
    "id": "xYJNX-nUt0x_"
   },
   "source": [
    "## 3.\n",
    "### Получите значение MSE меньшее 3300."
   ]
  },
  {
   "cell_type": "code",
   "execution_count": 114,
   "metadata": {
    "id": "UNLnKjvit0yB"
   },
   "outputs": [],
   "source": [
    "def print_points_ands_function3(sympy_function):\n",
    "    def function(x_): return float(sympy_function.subs(x, x_))\n",
    "    \n",
    "    points_X = np.array([-2, -1, 0, 1, 2, 3, 3.5, 4, 4.5, 5])\n",
    "    points_Y = np.array([60, 25, 4, -0, -57, -195, -295, -540, -700, -760])\n",
    "    plt.xlim(-10, 6)\n",
    "    plt.ylim(-850, 100)\n",
    "    \n",
    "    plt.scatter(points_X, points_Y, c='r')\n",
    "    x_range = np.linspace(plt.xlim()[0], plt.xlim()[1], num=100)\n",
    "    function_Y = [function(x_) for x_ in x_range]\n",
    "    plt.plot(x_range, function_Y, 'b')\n",
    "    plt.show()\n",
    "    \n",
    "    MSE = sum([(points_Y[i] - function(points_X[i]))**2 for i in range(len(points_Y))]) / len(points_Y)\n",
    "    print(f'MSE = {MSE}')"
   ]
  },
  {
   "cell_type": "code",
   "execution_count": 115,
   "metadata": {
    "id": "osbCVOuIt0yH",
    "outputId": "22bfe175-fcf5-4290-9dd1-3b2fc34ff029"
   },
   "outputs": [
    {
     "name": "stdout",
     "output_type": "stream",
     "text": [
      "-5334*x - 36*(x - 7)**3 - 756*(x - 7)**2 + 24702\n",
      "-36*x**3 - 42*x + 6\n"
     ]
    },
    {
     "data": {
      "image/png": "[encoded data removed]",
      "text/plain": [
       "<Figure size 432x288 with 1 Axes>"
      ]
     },
     "metadata": {
      "needs_background": "light"
     },
     "output_type": "display_data"
    },
    {
     "name": "stdout",
     "output_type": "stream",
     "text": [
      "MSE = 2984213.75\n"
     ]
    }
   ],
   "source": [
    "f3 = -36 * (x-7)**3 - 756 * (x-7)**2 - 5334 * (x-7) - 12636\n",
    "print(f3)\n",
    "print(expand(f3))\n",
    "print_points_ands_function3(f3)"
   ]
  },
  {
   "cell_type": "code",
   "execution_count": 131,
   "metadata": {},
   "outputs": [
    {
     "name": "stdout",
     "output_type": "stream",
     "text": [
      "-5.81522773333334*x**3 - 12.6156800000003*x + 2.45760000000155\n"
     ]
    },
    {
     "data": {
      "image/png": "[encoded data removed]",
      "text/plain": [
       "<Figure size 432x288 with 1 Axes>"
      ]
     },
     "metadata": {
      "needs_background": "light"
     },
     "output_type": "display_data"
    },
    {
     "name": "stdout",
     "output_type": "stream",
     "text": [
      "MSE = 2916.831922159131\n"
     ]
    }
   ],
   "source": [
    "#f3 = f3.subs(x, x)\n",
    "#f3 = f3.subs(x, x*1.1)\n",
    "f3 = 0.8*f3\n",
    "#f3 = f3 - 1\n",
    "print(expand(f3))\n",
    "print_points_ands_function3(f3)"
   ]
  },
  {
   "cell_type": "markdown",
   "metadata": {
    "id": "3jcBH1M3t0yZ"
   },
   "source": [
    "## 4.\n",
    "### Получите значение MSE меньшее 25."
   ]
  },
  {
   "cell_type": "code",
   "execution_count": 132,
   "metadata": {
    "id": "R4nnsc8zt0yb"
   },
   "outputs": [],
   "source": [
    "def print_points_ands_function4(sympy_function):\n",
    "    def function(x_): return float(sympy_function.subs(x, x_))\n",
    "    \n",
    "    points_X = np.array([-2, -1, 0, 1, 2, 3, 3.5, 4, 4.5, 5])\n",
    "    points_Y = np.array([-42, -37, -23, -36, -45, -80, -83, -110, -131, -155])\n",
    "    plt.xlim(-4, 20)\n",
    "    plt.ylim(-160, -10)\n",
    "    \n",
    "    plt.scatter(points_X, points_Y, c='r')\n",
    "    x_range = np.linspace(plt.xlim()[0], plt.xlim()[1], num=100)\n",
    "    function_Y = [function(x_) for x_ in x_range]\n",
    "    plt.plot(x_range, function_Y, 'b')\n",
    "    plt.show()\n",
    "    \n",
    "    MSE = sum([(points_Y[i] - function(points_X[i]))**2 for i in range(len(points_Y))]) / len(points_Y)\n",
    "    print(f'MSE = {MSE}')"
   ]
  },
  {
   "cell_type": "code",
   "execution_count": 133,
   "metadata": {
    "id": "Uq__GcfPt0yj",
    "outputId": "345572d8-35a9-47c2-d7c9-4769bd8d17e7"
   },
   "outputs": [
    {
     "name": "stdout",
     "output_type": "stream",
     "text": [
      "25*x - 1.25*(x + 10)**2 + 98\n"
     ]
    },
    {
     "data": {
      "image/png": "[encoded data removed]",
      "text/plain": [
       "<Figure size 432x288 with 1 Axes>"
      ]
     },
     "metadata": {
      "needs_background": "light"
     },
     "output_type": "display_data"
    },
    {
     "name": "stdout",
     "output_type": "stream",
     "text": [
      "MSE = 2334.14453125\n"
     ]
    }
   ],
   "source": [
    "f4 = - 5 / 4 * (x+10)**2 + 25 * (x+10) - 152\n",
    "print(f4)\n",
    "print_points_ands_function4(f4)"
   ]
  },
  {
   "cell_type": "code",
   "execution_count": 153,
   "metadata": {
    "id": "oTNLmWfDt0yt"
   },
   "outputs": [
    {
     "name": "stdout",
     "output_type": "stream",
     "text": [
      "-5.18377406323595*x**2 + 4.2632564145606e-14*x - 23.8310803215651\n"
     ]
    },
    {
     "data": {
      "image/png": "[encoded data removed]",
      "text/plain": [
       "<Figure size 432x288 with 1 Axes>"
      ]
     },
     "metadata": {
      "needs_background": "light"
     },
     "output_type": "display_data"
    },
    {
     "name": "stdout",
     "output_type": "stream",
     "text": [
      "MSE = 24.705391895599348\n"
     ]
    }
   ],
   "source": [
    "#f4 = f4.subs(x, x)\n",
    "#f4 = f4.subs(x, x*1.1)\n",
    "f4 = 1*f4\n",
    "#f4 = f4 + 26\n",
    "print(expand(f4))\n",
    "print_points_ands_function4(f4)"
   ]
  }
 ],
 "metadata": {
  "colab": {
   "collapsed_sections": [],
   "name": "Аппроксимация и преобразования функций. Домашнее задание.ipynb",
   "provenance": []
  },
  "kernelspec": {
   "display_name": "Python 3",
   "language": "python",
   "name": "python3"
  },
  "language_info": {
   "codemirror_mode": {
    "name": "ipython",
    "version": 3
   },
   "file_extension": ".py",
   "mimetype": "text/x-python",
   "name": "python",
   "nbconvert_exporter": "python",
   "pygments_lexer": "ipython3",
   "version": "3.8.3"
  }
 },
 "nbformat": 4,
 "nbformat_minor": 1
}
