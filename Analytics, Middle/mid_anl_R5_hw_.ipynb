{
 "cells": [
  {
   "cell_type": "code",
   "execution_count": 1,
   "metadata": {},
   "outputs": [
    {
     "name": "stdout",
     "output_type": "stream",
     "text": [
      "in first case result is 250.69444444444443\n",
      "in second case result is 221.71416666666664\n"
     ]
    }
   ],
   "source": [
    "z = 0.95\n",
    "p = 0.5\n",
    "err = 0.03\n",
    "print(f'in first case result is {z**2 * p * (1-p) / err**2}')\n",
    "p = 0.67\n",
    "print(f'in second case result is {z**2 * p * (1-p) / err**2}')"
   ]
  },
  {
   "cell_type": "markdown",
   "metadata": {},
   "source": [
    "Делаем вывод, что случай 50 на 50 для нас хуже, т.к. требует больше людей\n",
    "Можно было сделать такой вывод и без расчета. Функция х*(1-х) имеет максимум при х=0.5. А при устремлении к крайним значениям (0 ии 1) необходимая выборка при прочих равных будет меньше"
   ]
  },
  {
   "cell_type": "code",
   "execution_count": 2,
   "metadata": {},
   "outputs": [],
   "source": [
    "import numpy as np\n",
    "import pandas as pd\n",
    "import scipy.stats as st\n",
    "\n",
    "dat = pd.read_csv(\"D:/Skillbox/Analytics, Middle/experiment.csv\")"
   ]
  },
  {
   "cell_type": "code",
   "execution_count": 3,
   "metadata": {},
   "outputs": [],
   "source": [
    "p_control = len(dat[dat['control']==1]) / len(dat)\n",
    "p_test = len(dat[dat['test']==1]) / len(dat)\n",
    "se_control = np.sqrt(p_control * (1-p_control) / len(dat))\n",
    "se_test = np.sqrt(p_test * (1-p_test) / len(dat))"
   ]
  },
  {
   "cell_type": "code",
   "execution_count": 4,
   "metadata": {},
   "outputs": [
    {
     "name": "stdout",
     "output_type": "stream",
     "text": [
      "for control 0.464 (0.4380600794294326, 0.4899399205705674)\n",
      "for test 0.577 (0.5513028270740822, 0.6026971729259177)\n"
     ]
    }
   ],
   "source": [
    "control_group = st.norm.interval(0.9, loc=p_control, scale = se_control)\n",
    "print(f'for control {p_control} ({control_group[0]}, {control_group[1]})')\n",
    "test_group = st.norm.interval(0.9, loc=p_test, scale = se_test)\n",
    "print(f'for test {p_test} ({test_group[0]}, {test_group[1]})')"
   ]
  },
  {
   "cell_type": "code",
   "execution_count": 5,
   "metadata": {},
   "outputs": [
    {
     "data": {
      "text/plain": [
       "(0.4380230107984179, 0.48997698920158217)"
      ]
     },
     "execution_count": 5,
     "metadata": {},
     "output_type": "execute_result"
    }
   ],
   "source": [
    "import statsmodels.stats.api as stm\n",
    "new_dat = dat[\"control\"]\n",
    "stm.DescrStatsW(new_dat).tconfint_mean(0.1)"
   ]
  }
 ],
 "metadata": {
  "kernelspec": {
   "display_name": "Python 3",
   "language": "python",
   "name": "python3"
  },
  "language_info": {
   "codemirror_mode": {
    "name": "ipython",
    "version": 3
   },
   "file_extension": ".py",
   "mimetype": "text/x-python",
   "name": "python",
   "nbconvert_exporter": "python",
   "pygments_lexer": "ipython3",
   "version": "3.8.5"
  }
 },
 "nbformat": 4,
 "nbformat_minor": 4
}
