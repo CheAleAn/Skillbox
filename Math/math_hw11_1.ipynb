{
 "cells": [
  {
   "cell_type": "code",
   "execution_count": 2,
   "metadata": {},
   "outputs": [],
   "source": [
    "from sympy import *\n",
    "import numpy as np"
   ]
  },
  {
   "cell_type": "code",
   "execution_count": 2,
   "metadata": {},
   "outputs": [],
   "source": [
    "x1, x2, x3 = symbols('x1 x2 x3')"
   ]
  },
  {
   "cell_type": "code",
   "execution_count": 5,
   "metadata": {},
   "outputs": [
    {
     "name": "stdout",
     "output_type": "stream",
     "text": [
      "Matrix([[-5], [4]])\n"
     ]
    }
   ],
   "source": [
    "X = Matrix([[2, 3], \n",
    "            [0, 1]])\n",
    "Z = Matrix([[2], \n",
    "            [4]])\n",
    "print(X**(-1)*Z)"
   ]
  },
  {
   "cell_type": "code",
   "execution_count": 6,
   "metadata": {},
   "outputs": [
    {
     "name": "stdout",
     "output_type": "stream",
     "text": [
      "Matrix([[-12], [3]])\n"
     ]
    }
   ],
   "source": [
    "X = Matrix([[1, 5], \n",
    "            [0, 3]])\n",
    "Z = Matrix([[3], \n",
    "            [9]])\n",
    "print(X**(-1)*Z)"
   ]
  },
  {
   "cell_type": "code",
   "execution_count": 4,
   "metadata": {},
   "outputs": [
    {
     "name": "stdout",
     "output_type": "stream",
     "text": [
      "Matrix([[1], [1], [3]])\n"
     ]
    }
   ],
   "source": [
    "X = Matrix([[2, 3, -1], \n",
    "            [0, 1, 1],\n",
    "            [1, -1, 2]])\n",
    "Z = Matrix([[2], \n",
    "            [4],\n",
    "            [6]])\n",
    "print(X**(-1)*Z)"
   ]
  },
  {
   "cell_type": "code",
   "execution_count": 7,
   "metadata": {},
   "outputs": [
    {
     "name": "stdout",
     "output_type": "stream",
     "text": [
      "Matrix([[-15], [5], [1]])\n"
     ]
    }
   ],
   "source": [
    "X = Matrix([[1, 5, -2], \n",
    "            [0, 3, 1],\n",
    "            [-4, -6, 2]])\n",
    "Z = Matrix([[8], \n",
    "            [16],\n",
    "            [32]])\n",
    "print(X**(-1)*Z)"
   ]
  },
  {
   "cell_type": "code",
   "execution_count": 11,
   "metadata": {},
   "outputs": [],
   "source": [
    "A = Matrix([[1, 2],\n",
    "            [5, 3],\n",
    "            [2, 4],\n",
    "            [3, 7]])\n",
    "B = Matrix([[5],[6],[10],[8]])"
   ]
  },
  {
   "cell_type": "code",
   "execution_count": 17,
   "metadata": {},
   "outputs": [
    {
     "data": {
      "text/latex": [
       "$\\displaystyle \\left[\\begin{matrix}\\frac{229}{463}\\\\\\frac{601}{463}\\end{matrix}\\right]$"
      ],
      "text/plain": [
       "Matrix([\n",
       "[229/463],\n",
       "[601/463]])"
      ]
     },
     "execution_count": 17,
     "metadata": {},
     "output_type": "execute_result"
    }
   ],
   "source": [
    "point = (A.T*A) ** (-1) * A.T * B\n",
    "point"
   ]
  },
  {
   "cell_type": "code",
   "execution_count": 16,
   "metadata": {},
   "outputs": [
    {
     "data": {
      "text/latex": [
       "$\\displaystyle 6.24190064794816$"
      ],
      "text/plain": [
       "6.24190064794816"
      ]
     },
     "execution_count": 16,
     "metadata": {},
     "output_type": "execute_result"
    }
   ],
   "source": [
    "a1, a2 = symbols('a1 a2')\n",
    "MSE=0.25 * ((a1 + 2*a2 - 5)**2 +\n",
    "           (5*a1 + 3*a2 - 6)**2 +\n",
    "           (2*a1 + 4*a2 - 10)**2 +\n",
    "           (3*a1 + 7*a2 - 8)**2)\n",
    "MSE.subs({a1:point[0], a2:point[1]})"
   ]
  },
  {
   "cell_type": "markdown",
   "metadata": {},
   "source": [
    "Точность явно возросла, учитывая скорость достижения такого результата (не факт, что получили бы такое же решение с помощью градиентного спуска без уменьшения шага), метод видится эффективным"
   ]
  }
 ],
 "metadata": {
  "kernelspec": {
   "display_name": "Python 3",
   "language": "python",
   "name": "python3"
  },
  "language_info": {
   "codemirror_mode": {
    "name": "ipython",
    "version": 3
   },
   "file_extension": ".py",
   "mimetype": "text/x-python",
   "name": "python",
   "nbconvert_exporter": "python",
   "pygments_lexer": "ipython3",
   "version": "3.8.3"
  }
 },
 "nbformat": 4,
 "nbformat_minor": 4
}
